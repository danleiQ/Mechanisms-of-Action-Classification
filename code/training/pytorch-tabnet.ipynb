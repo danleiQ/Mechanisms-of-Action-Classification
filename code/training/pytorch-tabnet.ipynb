{
 "cells": [
  {
   "cell_type": "code",
   "execution_count": 1,
   "metadata": {
    "_cell_guid": "b1076dfc-b9ad-4769-8c92-a6c4dae69d19",
    "_kg_hide-output": true,
    "_uuid": "8f2839f25d086af736a60e9eeb907d3b93b6e0e5",
    "execution": {
     "iopub.execute_input": "2020-11-29T10:48:54.667187Z",
     "iopub.status.busy": "2020-11-29T10:48:54.666455Z",
     "iopub.status.idle": "2020-11-29T10:49:03.162842Z",
     "shell.execute_reply": "2020-11-29T10:49:03.161772Z"
    },
    "papermill": {
     "duration": 8.530963,
     "end_time": "2020-11-29T10:49:03.162978",
     "exception": false,
     "start_time": "2020-11-29T10:48:54.632015",
     "status": "completed"
    },
    "tags": []
   },
   "outputs": [
    {
     "name": "stdout",
     "output_type": "stream",
     "text": [
      "Looking in links: /kaggle/input/pytorchtabnet/pytorch_tabnet-2.0.0-py3-none-any.whl\r\n",
      "Processing /kaggle/input/pytorchtabnet/pytorch_tabnet-2.0.0-py3-none-any.whl\r\n",
      "Requirement already satisfied: torch<2.0,>=1.2 in /opt/conda/lib/python3.7/site-packages (from pytorch-tabnet) (1.6.0)\r\n",
      "Requirement already satisfied: tqdm<5.0,>=4.36 in /opt/conda/lib/python3.7/site-packages (from pytorch-tabnet) (4.45.0)\r\n",
      "Requirement already satisfied: scikit_learn>0.21 in /opt/conda/lib/python3.7/site-packages (from pytorch-tabnet) (0.23.2)\r\n",
      "Requirement already satisfied: numpy<2.0,>=1.17 in /opt/conda/lib/python3.7/site-packages (from pytorch-tabnet) (1.18.5)\r\n",
      "Requirement already satisfied: scipy>1.4 in /opt/conda/lib/python3.7/site-packages (from pytorch-tabnet) (1.4.1)\r\n",
      "Requirement already satisfied: future in /opt/conda/lib/python3.7/site-packages (from torch<2.0,>=1.2->pytorch-tabnet) (0.18.2)\r\n",
      "Requirement already satisfied: threadpoolctl>=2.0.0 in /opt/conda/lib/python3.7/site-packages (from scikit_learn>0.21->pytorch-tabnet) (2.1.0)\r\n",
      "Requirement already satisfied: joblib>=0.11 in /opt/conda/lib/python3.7/site-packages (from scikit_learn>0.21->pytorch-tabnet) (0.14.1)\r\n",
      "Installing collected packages: pytorch-tabnet\r\n",
      "Successfully installed pytorch-tabnet-2.0.0\r\n"
     ]
    }
   ],
   "source": [
    "# TabNet\n",
    "!pip install --no-index --find-links /kaggle/input/pytorchtabnet/pytorch_tabnet-2.0.0-py3-none-any.whl pytorch-tabnet"
   ]
  },
  {
   "cell_type": "code",
   "execution_count": 2,
   "metadata": {
    "execution": {
     "iopub.execute_input": "2020-11-29T10:49:03.225772Z",
     "iopub.status.busy": "2020-11-29T10:49:03.224590Z",
     "iopub.status.idle": "2020-11-29T10:49:04.205186Z",
     "shell.execute_reply": "2020-11-29T10:49:04.204087Z"
    },
    "papermill": {
     "duration": 1.013353,
     "end_time": "2020-11-29T10:49:04.205306",
     "exception": false,
     "start_time": "2020-11-29T10:49:03.191953",
     "status": "completed"
    },
    "tags": []
   },
   "outputs": [],
   "source": [
    "import sys\n",
    "sys.path.append('../input/iterativestratification')\n",
    "from iterstrat.ml_stratifiers import MultilabelStratifiedKFold"
   ]
  },
  {
   "cell_type": "code",
   "execution_count": 3,
   "metadata": {
    "_cell_guid": "79c7e3d0-c299-4dcb-8224-4455121ee9b0",
    "_uuid": "d629ff2d2480ee46fbb7e2d37f6b5fab8052498a",
    "execution": {
     "iopub.execute_input": "2020-11-29T10:49:04.274646Z",
     "iopub.status.busy": "2020-11-29T10:49:04.273913Z",
     "iopub.status.idle": "2020-11-29T10:49:05.889113Z",
     "shell.execute_reply": "2020-11-29T10:49:05.888010Z"
    },
    "papermill": {
     "duration": 1.655205,
     "end_time": "2020-11-29T10:49:05.889236",
     "exception": false,
     "start_time": "2020-11-29T10:49:04.234031",
     "status": "completed"
    },
    "tags": []
   },
   "outputs": [],
   "source": [
    "### General ###\n",
    "import os\n",
    "import copy\n",
    "import tqdm\n",
    "import pickle\n",
    "import random\n",
    "import warnings\n",
    "warnings.filterwarnings(\"ignore\")\n",
    "os.environ[\"CUDA_LAUNCH_BLOCKING\"] = '1'\n",
    "\n",
    "### Data Wrangling ###\n",
    "import numpy as np\n",
    "import pandas as pd\n",
    "from scipy import stats\n",
    "\n",
    "### Machine Learning ###\n",
    "from sklearn import preprocessing\n",
    "from sklearn.metrics import roc_auc_score, log_loss\n",
    "from sklearn.preprocessing import StandardScaler\n",
    "from sklearn.decomposition import PCA\n",
    "\n",
    "### Deep Learning ###\n",
    "import torch\n",
    "from torch import nn\n",
    "import torch.optim as optim\n",
    "from torch.nn import functional as F\n",
    "from torch.nn.modules.loss import _WeightedLoss\n",
    "from torch.utils.data import DataLoader, Dataset\n",
    "from torch.optim.lr_scheduler import ReduceLROnPlateau\n",
    "# Tabnet \n",
    "from pytorch_tabnet.metrics import Metric\n",
    "from pytorch_tabnet.tab_model import TabNetRegressor\n",
    "\n",
    "from pickle import load,dump\n",
    "\n",
    "### Make prettier the prints ###\n",
    "from colorama import Fore\n",
    "c_ = Fore.CYAN\n",
    "m_ = Fore.MAGENTA\n",
    "r_ = Fore.RED\n",
    "b_ = Fore.BLUE\n",
    "y_ = Fore.YELLOW\n",
    "g_ = Fore.GREEN"
   ]
  },
  {
   "cell_type": "code",
   "execution_count": 4,
   "metadata": {
    "execution": {
     "iopub.execute_input": "2020-11-29T10:49:05.951937Z",
     "iopub.status.busy": "2020-11-29T10:49:05.951110Z",
     "iopub.status.idle": "2020-11-29T10:49:05.953769Z",
     "shell.execute_reply": "2020-11-29T10:49:05.954259Z"
    },
    "papermill": {
     "duration": 0.036476,
     "end_time": "2020-11-29T10:49:05.954379",
     "exception": false,
     "start_time": "2020-11-29T10:49:05.917903",
     "status": "completed"
    },
    "tags": []
   },
   "outputs": [],
   "source": [
    "from sklearn.preprocessing import QuantileTransformer"
   ]
  },
  {
   "cell_type": "code",
   "execution_count": 5,
   "metadata": {
    "execution": {
     "iopub.execute_input": "2020-11-29T10:49:06.028098Z",
     "iopub.status.busy": "2020-11-29T10:49:06.027108Z",
     "iopub.status.idle": "2020-11-29T10:49:06.033810Z",
     "shell.execute_reply": "2020-11-29T10:49:06.033287Z"
    },
    "papermill": {
     "duration": 0.038876,
     "end_time": "2020-11-29T10:49:06.033912",
     "exception": false,
     "start_time": "2020-11-29T10:49:05.995036",
     "status": "completed"
    },
    "tags": []
   },
   "outputs": [
    {
     "data": {
      "text/plain": [
       "['test_features.csv',\n",
       " 'sample_submission.csv',\n",
       " 'train_drug.csv',\n",
       " 'train_features.csv',\n",
       " 'train_targets_scored.csv',\n",
       " 'train_targets_nonscored.csv']"
      ]
     },
     "execution_count": 5,
     "metadata": {},
     "output_type": "execute_result"
    }
   ],
   "source": [
    "os.listdir('../input/lish-moa')"
   ]
  },
  {
   "cell_type": "code",
   "execution_count": 6,
   "metadata": {
    "execution": {
     "iopub.execute_input": "2020-11-29T10:49:06.098306Z",
     "iopub.status.busy": "2020-11-29T10:49:06.097453Z",
     "iopub.status.idle": "2020-11-29T10:49:12.594059Z",
     "shell.execute_reply": "2020-11-29T10:49:12.593178Z"
    },
    "papermill": {
     "duration": 6.531359,
     "end_time": "2020-11-29T10:49:12.594175",
     "exception": false,
     "start_time": "2020-11-29T10:49:06.062816",
     "status": "completed"
    },
    "tags": []
   },
   "outputs": [],
   "source": [
    "train_features = pd.read_csv('../input/lish-moa/train_features.csv')\n",
    "train_targets_scored = pd.read_csv('../input/lish-moa/train_targets_scored.csv')\n",
    "train_targets_nonscored = pd.read_csv('../input/lish-moa/train_targets_nonscored.csv')\n",
    "\n",
    "test_features = pd.read_csv('../input/lish-moa/test_features.csv')\n",
    "df = pd.read_csv('../input/lish-moa/sample_submission.csv')"
   ]
  },
  {
   "cell_type": "code",
   "execution_count": 7,
   "metadata": {
    "execution": {
     "iopub.execute_input": "2020-11-29T10:49:12.658333Z",
     "iopub.status.busy": "2020-11-29T10:49:12.657148Z",
     "iopub.status.idle": "2020-11-29T10:49:12.726504Z",
     "shell.execute_reply": "2020-11-29T10:49:12.725960Z"
    },
    "papermill": {
     "duration": 0.102685,
     "end_time": "2020-11-29T10:49:12.726618",
     "exception": false,
     "start_time": "2020-11-29T10:49:12.623933",
     "status": "completed"
    },
    "tags": []
   },
   "outputs": [],
   "source": [
    "train_features2=train_features.copy()\n",
    "test_features2=test_features.copy()"
   ]
  },
  {
   "cell_type": "code",
   "execution_count": 8,
   "metadata": {
    "execution": {
     "iopub.execute_input": "2020-11-29T10:49:12.793035Z",
     "iopub.status.busy": "2020-11-29T10:49:12.791257Z",
     "iopub.status.idle": "2020-11-29T10:49:12.793683Z",
     "shell.execute_reply": "2020-11-29T10:49:12.794145Z"
    },
    "papermill": {
     "duration": 0.038094,
     "end_time": "2020-11-29T10:49:12.794253",
     "exception": false,
     "start_time": "2020-11-29T10:49:12.756159",
     "status": "completed"
    },
    "tags": []
   },
   "outputs": [],
   "source": [
    "GENES = [col for col in train_features.columns if col.startswith('g-')]\n",
    "CELLS = [col for col in train_features.columns if col.startswith('c-')]"
   ]
  },
  {
   "cell_type": "code",
   "execution_count": 9,
   "metadata": {
    "execution": {
     "iopub.execute_input": "2020-11-29T10:49:12.864746Z",
     "iopub.status.busy": "2020-11-29T10:49:12.864130Z",
     "iopub.status.idle": "2020-11-29T10:49:27.235280Z",
     "shell.execute_reply": "2020-11-29T10:49:27.234312Z"
    },
    "papermill": {
     "duration": 14.411925,
     "end_time": "2020-11-29T10:49:27.235418",
     "exception": false,
     "start_time": "2020-11-29T10:49:12.823493",
     "status": "completed"
    },
    "tags": []
   },
   "outputs": [],
   "source": [
    "qt = QuantileTransformer(n_quantiles=100,random_state=42,output_distribution='normal')\n",
    "train_features[GENES+CELLS] = qt.fit_transform(train_features[GENES+CELLS])\n",
    "test_features[GENES+CELLS] = qt.transform(test_features[GENES+CELLS])"
   ]
  },
  {
   "cell_type": "code",
   "execution_count": 10,
   "metadata": {
    "execution": {
     "iopub.execute_input": "2020-11-29T10:49:27.304867Z",
     "iopub.status.busy": "2020-11-29T10:49:27.304256Z",
     "iopub.status.idle": "2020-11-29T10:49:27.663382Z",
     "shell.execute_reply": "2020-11-29T10:49:27.662236Z"
    },
    "papermill": {
     "duration": 0.395762,
     "end_time": "2020-11-29T10:49:27.663583",
     "exception": false,
     "start_time": "2020-11-29T10:49:27.267821",
     "status": "completed"
    },
    "tags": []
   },
   "outputs": [],
   "source": [
    "seed = 42\n",
    "\n",
    "def set_seed(seed):\n",
    "    random.seed(seed)\n",
    "    np.random.seed(seed)\n",
    "    torch.manual_seed(seed)\n",
    "    os.environ[\"PYTHONHASHSEED\"] = str(seed)\n",
    "    \n",
    "    if torch.cuda.is_available():\n",
    "        torch.cuda.manual_seed(seed)\n",
    "        torch.cuda.manual_seed_all(seed)\n",
    "        torch.backends.cudnn.deterministic = True\n",
    "        torch.backends.cudnn.benchmark = False\n",
    "set_seed(seed)"
   ]
  },
  {
   "cell_type": "code",
   "execution_count": 11,
   "metadata": {
    "execution": {
     "iopub.execute_input": "2020-11-29T10:49:27.776709Z",
     "iopub.status.busy": "2020-11-29T10:49:27.733903Z",
     "iopub.status.idle": "2020-11-29T10:49:39.276427Z",
     "shell.execute_reply": "2020-11-29T10:49:39.275305Z"
    },
    "papermill": {
     "duration": 11.582971,
     "end_time": "2020-11-29T10:49:39.276554",
     "exception": false,
     "start_time": "2020-11-29T10:49:27.693583",
     "status": "completed"
    },
    "tags": []
   },
   "outputs": [],
   "source": [
    "n_comp = 600  #<--Update\n",
    "pca_g = PCA(n_components=n_comp, random_state=42)\n",
    "data = pd.concat([pd.DataFrame(train_features[GENES]), pd.DataFrame(test_features[GENES])])\n",
    "gpca= (pca_g.fit(data[GENES]))\n",
    "train2= (gpca.transform(train_features[GENES]))\n",
    "test2 = (gpca.transform(test_features[GENES]))\n",
    "\n",
    "train_gpca = pd.DataFrame(train2, columns=[f'pca_G-{i}' for i in range(n_comp)])\n",
    "test_gpca = pd.DataFrame(test2, columns=[f'pca_G-{i}' for i in range(n_comp)])\n",
    "\n",
    "# drop_cols = [f'c-{i}' for i in range(n_comp,len(GENES))]\n",
    "train_features = pd.concat((train_features, train_gpca), axis=1)\n",
    "test_features = pd.concat((test_features, test_gpca), axis=1)\n",
    "\n",
    "dump(gpca, open('gpca.pkl', 'wb'))"
   ]
  },
  {
   "cell_type": "code",
   "execution_count": 12,
   "metadata": {
    "execution": {
     "iopub.execute_input": "2020-11-29T10:49:39.346836Z",
     "iopub.status.busy": "2020-11-29T10:49:39.343905Z",
     "iopub.status.idle": "2020-11-29T10:49:40.032804Z",
     "shell.execute_reply": "2020-11-29T10:49:40.031625Z"
    },
    "papermill": {
     "duration": 0.726392,
     "end_time": "2020-11-29T10:49:40.032937",
     "exception": false,
     "start_time": "2020-11-29T10:49:39.306545",
     "status": "completed"
    },
    "tags": []
   },
   "outputs": [],
   "source": [
    "#CELLS\n",
    "n_comp = 50  #<--Update\n",
    "\n",
    "pca_c = PCA(n_components=n_comp, random_state=42)\n",
    "data = pd.concat([pd.DataFrame(train_features[CELLS]), pd.DataFrame(test_features[CELLS])])\n",
    "cpca= (pca_c.fit(data[CELLS]))\n",
    "train2= (cpca.transform(train_features[CELLS]))\n",
    "test2 = (cpca.transform(test_features[CELLS]))\n",
    "\n",
    "train_cpca = pd.DataFrame(train2, columns=[f'pca_C-{i}' for i in range(n_comp)])\n",
    "test_cpca = pd.DataFrame(test2, columns=[f'pca_C-{i}' for i in range(n_comp)])\n",
    "\n",
    "# drop_cols = [f'c-{i}' for i in range(n_comp,len(CELLS))]\n",
    "train_features = pd.concat((train_features, train_cpca), axis=1)\n",
    "test_features = pd.concat((test_features, test_cpca), axis=1)\n",
    "\n",
    "dump(cpca, open('cpca.pkl', 'wb'))"
   ]
  },
  {
   "cell_type": "code",
   "execution_count": 13,
   "metadata": {
    "execution": {
     "iopub.execute_input": "2020-11-29T10:49:40.102104Z",
     "iopub.status.busy": "2020-11-29T10:49:40.101356Z",
     "iopub.status.idle": "2020-11-29T10:49:40.831555Z",
     "shell.execute_reply": "2020-11-29T10:49:40.830507Z"
    },
    "papermill": {
     "duration": 0.767741,
     "end_time": "2020-11-29T10:49:40.831670",
     "exception": false,
     "start_time": "2020-11-29T10:49:40.063929",
     "status": "completed"
    },
    "tags": []
   },
   "outputs": [],
   "source": [
    "from sklearn.feature_selection import VarianceThreshold\n",
    "\n",
    "c_n = [f for f in list(train_features.columns) if f not in ['sig_id', 'cp_type', 'cp_time', 'cp_dose']]\n",
    "mask = (train_features[c_n].var() >= 0.85).values\n",
    "tmp = train_features[c_n].loc[:, mask]\n",
    "train_features = pd.concat([train_features[['sig_id', 'cp_type', 'cp_time', 'cp_dose']], tmp], axis=1)\n",
    "tmp = test_features[c_n].loc[:, mask]\n",
    "test_features = pd.concat([test_features[['sig_id', 'cp_type', 'cp_time', 'cp_dose']], tmp], axis=1)"
   ]
  },
  {
   "cell_type": "code",
   "execution_count": 14,
   "metadata": {
    "execution": {
     "iopub.execute_input": "2020-11-29T10:49:40.902781Z",
     "iopub.status.busy": "2020-11-29T10:49:40.902030Z",
     "iopub.status.idle": "2020-11-29T10:50:22.975251Z",
     "shell.execute_reply": "2020-11-29T10:50:22.974001Z"
    },
    "papermill": {
     "duration": 42.113406,
     "end_time": "2020-11-29T10:50:22.975366",
     "exception": false,
     "start_time": "2020-11-29T10:49:40.861960",
     "status": "completed"
    },
    "tags": []
   },
   "outputs": [],
   "source": [
    "from sklearn.cluster import KMeans\n",
    "def fe_cluster_genes(train, test, n_clusters_g = 22, SEED = 42):\n",
    "    \n",
    "    features_g = GENES\n",
    "    #features_c = CELLS\n",
    "    \n",
    "    def create_cluster(train, test, features, kind = 'g', n_clusters = n_clusters_g):\n",
    "        train_ = train[features].copy()\n",
    "        test_ = test[features].copy()\n",
    "        data = pd.concat([train_, test_], axis = 0)\n",
    "        kmeans_genes = KMeans(n_clusters = n_clusters, random_state = SEED).fit(data)\n",
    "        dump(kmeans_genes, open('kmeans_genes.pkl', 'wb'))\n",
    "        train[f'clusters_{kind}'] = kmeans_genes.predict(train_.values)\n",
    "        test[f'clusters_{kind}'] = kmeans_genes.predict(test_.values)\n",
    "        train = pd.get_dummies(train, columns = [f'clusters_{kind}'])\n",
    "        test = pd.get_dummies(test, columns = [f'clusters_{kind}'])\n",
    "        return train, test\n",
    "    \n",
    "    train, test = create_cluster(train, test, features_g, kind = 'g', n_clusters = n_clusters_g)\n",
    "   # train, test = create_cluster(train, test, features_c, kind = 'c', n_clusters = n_clusters_c)\n",
    "    return train, test\n",
    "\n",
    "train_features2 ,test_features2=fe_cluster_genes(train_features2,test_features2)"
   ]
  },
  {
   "cell_type": "code",
   "execution_count": 15,
   "metadata": {
    "execution": {
     "iopub.execute_input": "2020-11-29T10:50:23.048423Z",
     "iopub.status.busy": "2020-11-29T10:50:23.047807Z",
     "iopub.status.idle": "2020-11-29T10:50:24.541148Z",
     "shell.execute_reply": "2020-11-29T10:50:24.540074Z"
    },
    "papermill": {
     "duration": 1.534611,
     "end_time": "2020-11-29T10:50:24.541277",
     "exception": false,
     "start_time": "2020-11-29T10:50:23.006666",
     "status": "completed"
    },
    "tags": []
   },
   "outputs": [],
   "source": [
    "def fe_cluster_cells(train, test, n_clusters_c = 4, SEED = 42):\n",
    "    \n",
    "    #features_g = GENES\n",
    "    features_c = CELLS\n",
    "    \n",
    "    def create_cluster(train, test, features, kind = 'c', n_clusters = n_clusters_c):\n",
    "        train_ = train[features].copy()\n",
    "        test_ = test[features].copy()\n",
    "        data = pd.concat([train_, test_], axis = 0)\n",
    "        kmeans_cells = KMeans(n_clusters = n_clusters, random_state = SEED).fit(data)\n",
    "        dump(kmeans_cells, open('kmeans_cells.pkl', 'wb'))\n",
    "        train[f'clusters_{kind}'] = kmeans_cells.predict(train_.values)\n",
    "        test[f'clusters_{kind}'] = kmeans_cells.predict(test_.values)\n",
    "        train = pd.get_dummies(train, columns = [f'clusters_{kind}'])\n",
    "        test = pd.get_dummies(test, columns = [f'clusters_{kind}'])\n",
    "        return train, test\n",
    "    \n",
    "   # train, test = create_cluster(train, test, features_g, kind = 'g', n_clusters = n_clusters_g)\n",
    "    train, test = create_cluster(train, test, features_c, kind = 'c', n_clusters = n_clusters_c)\n",
    "    return train, test\n",
    "\n",
    "train_features2 ,test_features2=fe_cluster_cells(train_features2,test_features2)"
   ]
  },
  {
   "cell_type": "code",
   "execution_count": 16,
   "metadata": {
    "execution": {
     "iopub.execute_input": "2020-11-29T10:50:24.608933Z",
     "iopub.status.busy": "2020-11-29T10:50:24.607691Z",
     "iopub.status.idle": "2020-11-29T10:50:24.701433Z",
     "shell.execute_reply": "2020-11-29T10:50:24.700823Z"
    },
    "papermill": {
     "duration": 0.129534,
     "end_time": "2020-11-29T10:50:24.701547",
     "exception": false,
     "start_time": "2020-11-29T10:50:24.572013",
     "status": "completed"
    },
    "tags": []
   },
   "outputs": [],
   "source": [
    "train_pca=pd.concat((train_gpca,train_cpca),axis=1)\n",
    "test_pca=pd.concat((test_gpca,test_cpca),axis=1)"
   ]
  },
  {
   "cell_type": "code",
   "execution_count": 17,
   "metadata": {
    "execution": {
     "iopub.execute_input": "2020-11-29T10:50:24.772871Z",
     "iopub.status.busy": "2020-11-29T10:50:24.771634Z",
     "iopub.status.idle": "2020-11-29T10:50:40.265415Z",
     "shell.execute_reply": "2020-11-29T10:50:40.264079Z"
    },
    "papermill": {
     "duration": 15.533053,
     "end_time": "2020-11-29T10:50:40.265547",
     "exception": false,
     "start_time": "2020-11-29T10:50:24.732494",
     "status": "completed"
    },
    "tags": []
   },
   "outputs": [],
   "source": [
    "def fe_cluster_pca(train, test,n_clusters=5,SEED = 42):\n",
    "        data=pd.concat([train,test],axis=0)\n",
    "        kmeans_pca = KMeans(n_clusters = n_clusters, random_state = SEED).fit(data)\n",
    "        dump(kmeans_pca, open('kmeans_pca.pkl', 'wb'))\n",
    "        train[f'clusters_pca'] = kmeans_pca.predict(train.values)\n",
    "        test[f'clusters_pca'] = kmeans_pca.predict(test.values)\n",
    "        train = pd.get_dummies(train, columns = [f'clusters_pca'])\n",
    "        test = pd.get_dummies(test, columns = [f'clusters_pca'])\n",
    "        return train, test\n",
    "train_cluster_pca ,test_cluster_pca = fe_cluster_pca(train_pca,test_pca)"
   ]
  },
  {
   "cell_type": "code",
   "execution_count": 18,
   "metadata": {
    "execution": {
     "iopub.execute_input": "2020-11-29T10:50:40.334410Z",
     "iopub.status.busy": "2020-11-29T10:50:40.332832Z",
     "iopub.status.idle": "2020-11-29T10:50:40.337446Z",
     "shell.execute_reply": "2020-11-29T10:50:40.336951Z"
    },
    "papermill": {
     "duration": 0.040272,
     "end_time": "2020-11-29T10:50:40.337552",
     "exception": false,
     "start_time": "2020-11-29T10:50:40.297280",
     "status": "completed"
    },
    "tags": []
   },
   "outputs": [],
   "source": [
    "train_cluster_pca = train_cluster_pca.iloc[:,650:]\n",
    "test_cluster_pca = test_cluster_pca.iloc[:,650:]"
   ]
  },
  {
   "cell_type": "code",
   "execution_count": 19,
   "metadata": {
    "execution": {
     "iopub.execute_input": "2020-11-29T10:50:40.404154Z",
     "iopub.status.busy": "2020-11-29T10:50:40.403499Z",
     "iopub.status.idle": "2020-11-29T10:50:40.409054Z",
     "shell.execute_reply": "2020-11-29T10:50:40.408427Z"
    },
    "papermill": {
     "duration": 0.040181,
     "end_time": "2020-11-29T10:50:40.409155",
     "exception": false,
     "start_time": "2020-11-29T10:50:40.368974",
     "status": "completed"
    },
    "tags": []
   },
   "outputs": [],
   "source": [
    "train_features_cluster=train_features2.iloc[:,876:]\n",
    "test_features_cluster=test_features2.iloc[:,876:]"
   ]
  },
  {
   "cell_type": "code",
   "execution_count": 20,
   "metadata": {
    "execution": {
     "iopub.execute_input": "2020-11-29T10:50:40.497947Z",
     "iopub.status.busy": "2020-11-29T10:50:40.497229Z",
     "iopub.status.idle": "2020-11-29T10:50:40.500474Z",
     "shell.execute_reply": "2020-11-29T10:50:40.500901Z"
    },
    "papermill": {
     "duration": 0.044214,
     "end_time": "2020-11-29T10:50:40.501022",
     "exception": false,
     "start_time": "2020-11-29T10:50:40.456808",
     "status": "completed"
    },
    "tags": []
   },
   "outputs": [],
   "source": [
    "\n",
    "gsquarecols=['g-574','g-211','g-216','g-0','g-255','g-577','g-153','g-389','g-60','g-370','g-248','g-167','g-203','g-177','g-301','g-332','g-517','g-6','g-744','g-224','g-162','g-3','g-736','g-486','g-283','g-22','g-359','g-361','g-440','g-335','g-106','g-307','g-745','g-146','g-416','g-298','g-666','g-91','g-17','g-549','g-145','g-157','g-768','g-568','g-396']"
   ]
  },
  {
   "cell_type": "code",
   "execution_count": 21,
   "metadata": {
    "execution": {
     "iopub.execute_input": "2020-11-29T10:50:40.589274Z",
     "iopub.status.busy": "2020-11-29T10:50:40.588230Z",
     "iopub.status.idle": "2020-11-29T10:50:45.999703Z",
     "shell.execute_reply": "2020-11-29T10:50:45.999142Z"
    },
    "papermill": {
     "duration": 5.467803,
     "end_time": "2020-11-29T10:50:45.999817",
     "exception": false,
     "start_time": "2020-11-29T10:50:40.532014",
     "status": "completed"
    },
    "tags": []
   },
   "outputs": [],
   "source": [
    "def fe_stats(train, test):\n",
    "    \n",
    "    features_g = GENES\n",
    "    features_c = CELLS\n",
    "    \n",
    "    for df in train, test:\n",
    "        df['g_sum'] = df[features_g].sum(axis = 1)\n",
    "        df['g_mean'] = df[features_g].mean(axis = 1)\n",
    "        df['g_std'] = df[features_g].std(axis = 1)\n",
    "        df['g_kurt'] = df[features_g].kurtosis(axis = 1)\n",
    "        df['g_skew'] = df[features_g].skew(axis = 1)\n",
    "        df['c_sum'] = df[features_c].sum(axis = 1)\n",
    "        df['c_mean'] = df[features_c].mean(axis = 1)\n",
    "        df['c_std'] = df[features_c].std(axis = 1)\n",
    "        df['c_kurt'] = df[features_c].kurtosis(axis = 1)\n",
    "        df['c_skew'] = df[features_c].skew(axis = 1)\n",
    "        df['gc_sum'] = df[features_g + features_c].sum(axis = 1)\n",
    "        df['gc_mean'] = df[features_g + features_c].mean(axis = 1)\n",
    "        df['gc_std'] = df[features_g + features_c].std(axis = 1)\n",
    "        df['gc_kurt'] = df[features_g + features_c].kurtosis(axis = 1)\n",
    "        df['gc_skew'] = df[features_g + features_c].skew(axis = 1)\n",
    "        \n",
    "        df['c52_c42'] = df['c-52'] * df['c-42']\n",
    "        df['c13_c73'] = df['c-13'] * df['c-73']\n",
    "        df['c26_c13'] = df['c-23'] * df['c-13']\n",
    "        df['c33_c6'] = df['c-33'] * df['c-6']\n",
    "        df['c11_c55'] = df['c-11'] * df['c-55']\n",
    "        df['c38_c63'] = df['c-38'] * df['c-63']\n",
    "        df['c38_c94'] = df['c-38'] * df['c-94']\n",
    "        df['c13_c94'] = df['c-13'] * df['c-94']\n",
    "        df['c4_c52'] = df['c-4'] * df['c-52']\n",
    "        df['c4_c42'] = df['c-4'] * df['c-42']\n",
    "        df['c13_c38'] = df['c-13'] * df['c-38']\n",
    "        df['c55_c2'] = df['c-55'] * df['c-2']\n",
    "        df['c55_c4'] = df['c-55'] * df['c-4']\n",
    "        df['c4_c13'] = df['c-4'] * df['c-13']\n",
    "        df['c82_c42'] = df['c-82'] * df['c-42']\n",
    "        df['c66_c42'] = df['c-66'] * df['c-42']\n",
    "        df['c6_c38'] = df['c-6'] * df['c-38']\n",
    "        df['c2_c13'] = df['c-2'] * df['c-13']\n",
    "        df['c62_c42'] = df['c-62'] * df['c-42']\n",
    "        df['c90_c55'] = df['c-90'] * df['c-55']\n",
    "        \n",
    "        \n",
    "        for feature in features_c:\n",
    "             df[f'{feature}_squared'] = df[feature] ** 2     \n",
    "                \n",
    "        for feature in gsquarecols:\n",
    "            df[f'{feature}_squared'] = df[feature] ** 2        \n",
    "        \n",
    "    return train, test\n",
    "\n",
    "train_features2,test_features2=fe_stats(train_features2,test_features2)"
   ]
  },
  {
   "cell_type": "code",
   "execution_count": 22,
   "metadata": {
    "execution": {
     "iopub.execute_input": "2020-11-29T10:50:46.119585Z",
     "iopub.status.busy": "2020-11-29T10:50:46.118756Z",
     "iopub.status.idle": "2020-11-29T10:50:46.122664Z",
     "shell.execute_reply": "2020-11-29T10:50:46.121619Z"
    },
    "papermill": {
     "duration": 0.076026,
     "end_time": "2020-11-29T10:50:46.122769",
     "exception": false,
     "start_time": "2020-11-29T10:50:46.046743",
     "status": "completed"
    },
    "tags": []
   },
   "outputs": [],
   "source": [
    "train_features_stats=train_features2.iloc[:,902:]\n",
    "test_features_stats=test_features2.iloc[:,902:]"
   ]
  },
  {
   "cell_type": "code",
   "execution_count": 23,
   "metadata": {
    "execution": {
     "iopub.execute_input": "2020-11-29T10:50:46.192261Z",
     "iopub.status.busy": "2020-11-29T10:50:46.190886Z",
     "iopub.status.idle": "2020-11-29T10:50:46.324758Z",
     "shell.execute_reply": "2020-11-29T10:50:46.323734Z"
    },
    "papermill": {
     "duration": 0.170648,
     "end_time": "2020-11-29T10:50:46.324875",
     "exception": false,
     "start_time": "2020-11-29T10:50:46.154227",
     "status": "completed"
    },
    "tags": []
   },
   "outputs": [],
   "source": [
    "train_features = pd.concat((train_features, train_features_cluster,train_cluster_pca,train_features_stats), axis=1)\n",
    "test_features = pd.concat((test_features, test_features_cluster,test_cluster_pca,test_features_stats), axis=1)"
   ]
  },
  {
   "cell_type": "code",
   "execution_count": 24,
   "metadata": {
    "execution": {
     "iopub.execute_input": "2020-11-29T10:50:46.395106Z",
     "iopub.status.busy": "2020-11-29T10:50:46.393983Z",
     "iopub.status.idle": "2020-11-29T10:50:46.955776Z",
     "shell.execute_reply": "2020-11-29T10:50:46.955170Z"
    },
    "papermill": {
     "duration": 0.599315,
     "end_time": "2020-11-29T10:50:46.955887",
     "exception": false,
     "start_time": "2020-11-29T10:50:46.356572",
     "status": "completed"
    },
    "tags": []
   },
   "outputs": [],
   "source": [
    "train = train_features.merge(train_targets_scored, on='sig_id')\n",
    "train = train[train['cp_type']!='ctl_vehicle'].reset_index(drop=True)\n",
    "test = test_features[test_features['cp_type']!='ctl_vehicle'].reset_index(drop=True)\n",
    "\n",
    "target = train[train_targets_scored.columns]"
   ]
  },
  {
   "cell_type": "code",
   "execution_count": 25,
   "metadata": {
    "execution": {
     "iopub.execute_input": "2020-11-29T10:50:47.101468Z",
     "iopub.status.busy": "2020-11-29T10:50:47.100488Z",
     "iopub.status.idle": "2020-11-29T10:50:47.117602Z",
     "shell.execute_reply": "2020-11-29T10:50:47.117074Z"
    },
    "papermill": {
     "duration": 0.129805,
     "end_time": "2020-11-29T10:50:47.117723",
     "exception": false,
     "start_time": "2020-11-29T10:50:46.987918",
     "status": "completed"
    },
    "tags": []
   },
   "outputs": [],
   "source": [
    "train = train.drop('cp_type', axis=1)\n",
    "test = test.drop('cp_type', axis=1)"
   ]
  },
  {
   "cell_type": "code",
   "execution_count": 26,
   "metadata": {
    "execution": {
     "iopub.execute_input": "2020-11-29T10:50:47.200441Z",
     "iopub.status.busy": "2020-11-29T10:50:47.198645Z",
     "iopub.status.idle": "2020-11-29T10:50:47.201111Z",
     "shell.execute_reply": "2020-11-29T10:50:47.201584Z"
    },
    "papermill": {
     "duration": 0.051815,
     "end_time": "2020-11-29T10:50:47.201711",
     "exception": false,
     "start_time": "2020-11-29T10:50:47.149896",
     "status": "completed"
    },
    "tags": []
   },
   "outputs": [],
   "source": [
    "target_cols = target.drop('sig_id', axis=1).columns.values.tolist()"
   ]
  },
  {
   "cell_type": "code",
   "execution_count": 27,
   "metadata": {
    "execution": {
     "iopub.execute_input": "2020-11-29T10:50:47.284654Z",
     "iopub.status.busy": "2020-11-29T10:50:47.283839Z",
     "iopub.status.idle": "2020-11-29T10:50:47.287508Z",
     "shell.execute_reply": "2020-11-29T10:50:47.286992Z"
    },
    "papermill": {
     "duration": 0.053665,
     "end_time": "2020-11-29T10:50:47.287602",
     "exception": false,
     "start_time": "2020-11-29T10:50:47.233937",
     "status": "completed"
    },
    "tags": []
   },
   "outputs": [],
   "source": [
    "target=target[target_cols]"
   ]
  },
  {
   "cell_type": "code",
   "execution_count": 28,
   "metadata": {
    "execution": {
     "iopub.execute_input": "2020-11-29T10:50:47.359062Z",
     "iopub.status.busy": "2020-11-29T10:50:47.357279Z",
     "iopub.status.idle": "2020-11-29T10:50:47.546649Z",
     "shell.execute_reply": "2020-11-29T10:50:47.545979Z"
    },
    "papermill": {
     "duration": 0.227144,
     "end_time": "2020-11-29T10:50:47.546763",
     "exception": false,
     "start_time": "2020-11-29T10:50:47.319619",
     "status": "completed"
    },
    "tags": []
   },
   "outputs": [],
   "source": [
    "train = pd.get_dummies(train, columns=['cp_time','cp_dose'])\n",
    "test_ = pd.get_dummies(test, columns=['cp_time','cp_dose'])"
   ]
  },
  {
   "cell_type": "code",
   "execution_count": 29,
   "metadata": {
    "execution": {
     "iopub.execute_input": "2020-11-29T10:50:47.620772Z",
     "iopub.status.busy": "2020-11-29T10:50:47.620031Z",
     "iopub.status.idle": "2020-11-29T10:50:47.624147Z",
     "shell.execute_reply": "2020-11-29T10:50:47.623653Z"
    },
    "papermill": {
     "duration": 0.044965,
     "end_time": "2020-11-29T10:50:47.624241",
     "exception": false,
     "start_time": "2020-11-29T10:50:47.579276",
     "status": "completed"
    },
    "tags": []
   },
   "outputs": [],
   "source": [
    "feature_cols = [c for c in train.columns if c not in target_cols]\n",
    "feature_cols = [c for c in feature_cols if c not in ['sig_id']]"
   ]
  },
  {
   "cell_type": "code",
   "execution_count": 30,
   "metadata": {
    "execution": {
     "iopub.execute_input": "2020-11-29T10:50:47.695317Z",
     "iopub.status.busy": "2020-11-29T10:50:47.694174Z",
     "iopub.status.idle": "2020-11-29T10:50:47.930876Z",
     "shell.execute_reply": "2020-11-29T10:50:47.930326Z"
    },
    "papermill": {
     "duration": 0.274607,
     "end_time": "2020-11-29T10:50:47.930989",
     "exception": false,
     "start_time": "2020-11-29T10:50:47.656382",
     "status": "completed"
    },
    "tags": []
   },
   "outputs": [],
   "source": [
    "train = train[feature_cols]\n",
    "test = test_[feature_cols]"
   ]
  },
  {
   "cell_type": "code",
   "execution_count": 31,
   "metadata": {
    "execution": {
     "iopub.execute_input": "2020-11-29T10:50:48.001987Z",
     "iopub.status.busy": "2020-11-29T10:50:48.000698Z",
     "iopub.status.idle": "2020-11-29T10:50:48.015253Z",
     "shell.execute_reply": "2020-11-29T10:50:48.014777Z"
    },
    "papermill": {
     "duration": 0.051615,
     "end_time": "2020-11-29T10:50:48.015351",
     "exception": false,
     "start_time": "2020-11-29T10:50:47.963736",
     "status": "completed"
    },
    "tags": []
   },
   "outputs": [],
   "source": [
    "X_test = test.values"
   ]
  },
  {
   "cell_type": "code",
   "execution_count": 32,
   "metadata": {
    "execution": {
     "iopub.execute_input": "2020-11-29T10:50:48.125992Z",
     "iopub.status.busy": "2020-11-29T10:50:48.125105Z",
     "iopub.status.idle": "2020-11-29T10:50:48.136329Z",
     "shell.execute_reply": "2020-11-29T10:50:48.135815Z"
    },
    "papermill": {
     "duration": 0.074709,
     "end_time": "2020-11-29T10:50:48.136463",
     "exception": false,
     "start_time": "2020-11-29T10:50:48.061754",
     "status": "completed"
    },
    "tags": []
   },
   "outputs": [],
   "source": [
    "from torch.nn.modules.loss import _WeightedLoss\n",
    "class SmoothBCEwLogits(_WeightedLoss):\n",
    "    def __init__(self, weight=None, reduction='mean', smoothing=0.0):\n",
    "        super().__init__(weight=weight, reduction=reduction)\n",
    "        self.smoothing = smoothing\n",
    "        self.weight = weight\n",
    "        self.reduction = reduction\n",
    "\n",
    "    @staticmethod\n",
    "    def _smooth(targets:torch.Tensor, n_labels:int, smoothing=0.0):\n",
    "        assert 0 <= smoothing < 1\n",
    "        with torch.no_grad():\n",
    "            targets = targets * (1.0 - smoothing) + 0.5 * smoothing\n",
    "        return targets\n",
    "\n",
    "    def forward(self, inputs, targets):\n",
    "        targets = SmoothBCEwLogits._smooth(targets, inputs.size(-1),\n",
    "            self.smoothing)\n",
    "        loss = F.binary_cross_entropy_with_logits(inputs, targets,self.weight)\n",
    "\n",
    "        if  self.reduction == 'sum':\n",
    "            loss = loss.sum()\n",
    "        elif  self.reduction == 'mean':\n",
    "            loss = loss.mean()\n",
    "\n",
    "        return loss"
   ]
  },
  {
   "cell_type": "code",
   "execution_count": 33,
   "metadata": {
    "execution": {
     "iopub.execute_input": "2020-11-29T10:50:48.248128Z",
     "iopub.status.busy": "2020-11-29T10:50:48.246010Z",
     "iopub.status.idle": "2020-11-29T10:50:48.253328Z",
     "shell.execute_reply": "2020-11-29T10:50:48.255407Z"
    },
    "papermill": {
     "duration": 0.064851,
     "end_time": "2020-11-29T10:50:48.255576",
     "exception": false,
     "start_time": "2020-11-29T10:50:48.190725",
     "status": "completed"
    },
    "tags": []
   },
   "outputs": [],
   "source": [
    "class LogitsLogLoss(Metric):\n",
    "\n",
    "    def __init__(self):\n",
    "        self._name = \"logits_ll\"\n",
    "        self._maximize = False\n",
    "\n",
    "    def __call__(self, y_true, y_pred):\n",
    "        logits = 1 / (1 + np.exp(-y_pred))\n",
    "        aux = (1 - y_true) * np.log(1 - logits + 5e-5) + y_true * np.log(logits + 5e-5)\n",
    "        return np.mean(-aux)"
   ]
  },
  {
   "cell_type": "code",
   "execution_count": 34,
   "metadata": {
    "execution": {
     "iopub.execute_input": "2020-11-29T10:50:48.386698Z",
     "iopub.status.busy": "2020-11-29T10:50:48.385795Z",
     "iopub.status.idle": "2020-11-29T10:50:48.389734Z",
     "shell.execute_reply": "2020-11-29T10:50:48.387623Z"
    },
    "papermill": {
     "duration": 0.065392,
     "end_time": "2020-11-29T10:50:48.389858",
     "exception": false,
     "start_time": "2020-11-29T10:50:48.324466",
     "status": "completed"
    },
    "tags": []
   },
   "outputs": [
    {
     "data": {
      "text/plain": [
       "'MAX_EPOCH = 200\\n\\ntabnet_params = dict(\\n    n_d = 32,\\n    n_a = 32,\\n    n_steps = 1,\\n    gamma = 1.3,\\n    lambda_sparse = 0,\\n    optimizer_fn = optim.Adam,\\n    optimizer_params = dict(lr = 2e-2, weight_decay = 1e-5),\\n    mask_type = \"entmax\",\\n    scheduler_params = dict(mode = \"min\", patience = 5, min_lr = 1e-5, factor = 0.9),\\n    scheduler_fn = ReduceLROnPlateau,\\n    seed = seed,\\n    verbose = 10\\n)'"
      ]
     },
     "execution_count": 34,
     "metadata": {},
     "output_type": "execute_result"
    }
   ],
   "source": [
    "#Original\n",
    "'''MAX_EPOCH = 200\n",
    "\n",
    "tabnet_params = dict(\n",
    "    n_d = 32,\n",
    "    n_a = 32,\n",
    "    n_steps = 1,\n",
    "    gamma = 1.3,\n",
    "    lambda_sparse = 0,\n",
    "    optimizer_fn = optim.Adam,\n",
    "    optimizer_params = dict(lr = 2e-2, weight_decay = 1e-5),\n",
    "    mask_type = \"entmax\",\n",
    "    scheduler_params = dict(mode = \"min\", patience = 5, min_lr = 1e-5, factor = 0.9),\n",
    "    scheduler_fn = ReduceLROnPlateau,\n",
    "    seed = seed,\n",
    "    verbose = 10\n",
    ")'''"
   ]
  },
  {
   "cell_type": "code",
   "execution_count": 35,
   "metadata": {
    "execution": {
     "iopub.execute_input": "2020-11-29T10:50:48.501405Z",
     "iopub.status.busy": "2020-11-29T10:50:48.500590Z",
     "iopub.status.idle": "2020-11-29T10:50:48.508908Z",
     "shell.execute_reply": "2020-11-29T10:50:48.510063Z"
    },
    "papermill": {
     "duration": 0.068918,
     "end_time": "2020-11-29T10:50:48.510295",
     "exception": false,
     "start_time": "2020-11-29T10:50:48.441377",
     "status": "completed"
    },
    "tags": []
   },
   "outputs": [
    {
     "name": "stdout",
     "output_type": "stream",
     "text": [
      "params {'n_d': 16, 'n_a': 40, 'n_steps': 1, 'gamma': 1.3, 'clip_value': 1, 'lambda_sparse': 0, 'n_shared': 1, 'n_independent': 1, 'optimizer_fn': <class 'torch.optim.adam.Adam'>, 'optimizer_params': {'lr': 0.02, 'weight_decay': 1e-05}, 'mask_type': 'entmax', 'scheduler_params': {'mode': 'min', 'patience': 5, 'min_lr': 1e-05, 'factor': 0.5}, 'scheduler_fn': <class 'torch.optim.lr_scheduler.ReduceLROnPlateau'>, 'seed': 42, 'verbose': 10}\n"
     ]
    }
   ],
   "source": [
    "MAX_EPOCH = 200\n",
    "\n",
    "tabnet_params = dict(\n",
    "    n_d = 16,\n",
    "    n_a = 40, \n",
    "    n_steps = 1,\n",
    "    gamma = 1.3,\n",
    "    clip_value =1,\n",
    "    lambda_sparse = 0,\n",
    "    n_shared=1,\n",
    "    n_independent=1,\n",
    "    optimizer_fn = optim.Adam,\n",
    "    optimizer_params = dict(lr = 2e-2, weight_decay = 1e-5), #lr = 2e-2\n",
    "    mask_type = \"entmax\",\n",
    "    scheduler_params = dict(mode = \"min\", patience = 5, min_lr = 1e-5, factor = 0.5),\n",
    "    scheduler_fn = ReduceLROnPlateau,\n",
    "    seed = seed,\n",
    "    verbose = 10\n",
    ")\n",
    "print('params',tabnet_params)"
   ]
  },
  {
   "cell_type": "code",
   "execution_count": 36,
   "metadata": {
    "execution": {
     "iopub.execute_input": "2020-11-29T10:50:48.621148Z",
     "iopub.status.busy": "2020-11-29T10:50:48.620465Z",
     "iopub.status.idle": "2020-11-29T11:45:56.540455Z",
     "shell.execute_reply": "2020-11-29T11:45:56.539270Z"
    },
    "papermill": {
     "duration": 3307.979923,
     "end_time": "2020-11-29T11:45:56.540603",
     "exception": false,
     "start_time": "2020-11-29T10:50:48.560680",
     "status": "completed"
    },
    "tags": []
   },
   "outputs": [
    {
     "name": "stdout",
     "output_type": "stream",
     "text": [
      "\u001b[34m FOLDS:  \u001b[31m 1 \u001b[33m seed: 20\n",
      "\u001b[32m ************************************************************ \u001b[36m\n",
      "Device used : cuda\n",
      "epoch 0  | loss: 0.25948 | val_logits_ll: 0.02649 |  0:00:02s\n",
      "epoch 10 | loss: 0.01859 | val_logits_ll: 0.02015 |  0:00:16s\n",
      "epoch 20 | loss: 0.0174  | val_logits_ll: 0.01948 |  0:00:30s\n",
      "epoch 30 | loss: 0.01705 | val_logits_ll: 0.01693 |  0:00:44s\n",
      "epoch 40 | loss: 0.01684 | val_logits_ll: 0.01686 |  0:00:58s\n",
      "epoch 50 | loss: 0.01613 | val_logits_ll: 0.01678 |  0:01:13s\n",
      "epoch 60 | loss: 0.01533 | val_logits_ll: 0.01649 |  0:01:26s\n",
      "epoch 70 | loss: 0.01387 | val_logits_ll: 0.01686 |  0:01:40s\n",
      "\n",
      "Early stopping occured at epoch 75 with best_epoch = 55 and best_val_logits_ll = 0.01636\n",
      "Best weights from best epoch are automatically used!\n",
      "\u001b[33m ------------------------------------------------------------\n",
      "Successfully saved model at TabNet_seed_20_fold_1.zip\n",
      "Device used : cuda\n",
      "Device used : cuda\n",
      "Device used : cuda\n",
      "\u001b[34m FOLDS:  \u001b[31m 2 \u001b[33m seed: 20\n",
      "\u001b[32m ************************************************************ \u001b[36m\n",
      "Device used : cuda\n",
      "epoch 0  | loss: 0.25927 | val_logits_ll: 0.02682 |  0:00:01s\n",
      "epoch 10 | loss: 0.01838 | val_logits_ll: 0.01812 |  0:00:14s\n",
      "epoch 20 | loss: 0.01749 | val_logits_ll: 0.01754 |  0:00:29s\n",
      "epoch 30 | loss: 0.0171  | val_logits_ll: 0.017   |  0:00:42s\n",
      "epoch 40 | loss: 0.0169  | val_logits_ll: 0.01673 |  0:00:57s\n",
      "epoch 50 | loss: 0.01684 | val_logits_ll: 0.01681 |  0:01:11s\n",
      "epoch 60 | loss: 0.0156  | val_logits_ll: 0.01647 |  0:01:24s\n",
      "epoch 70 | loss: 0.01471 | val_logits_ll: 0.01653 |  0:01:38s\n",
      "\n",
      "Early stopping occured at epoch 78 with best_epoch = 58 and best_val_logits_ll = 0.01628\n",
      "Best weights from best epoch are automatically used!\n",
      "\u001b[33m ------------------------------------------------------------\n",
      "Successfully saved model at TabNet_seed_20_fold_2.zip\n",
      "Device used : cuda\n",
      "Device used : cuda\n",
      "Device used : cuda\n",
      "\u001b[34m FOLDS:  \u001b[31m 3 \u001b[33m seed: 20\n",
      "\u001b[32m ************************************************************ \u001b[36m\n",
      "Device used : cuda\n",
      "epoch 0  | loss: 0.25384 | val_logits_ll: 0.02603 |  0:00:01s\n",
      "epoch 10 | loss: 0.01837 | val_logits_ll: 0.01868 |  0:00:16s\n",
      "epoch 20 | loss: 0.01751 | val_logits_ll: 0.01744 |  0:00:29s\n",
      "epoch 30 | loss: 0.01717 | val_logits_ll: 0.01705 |  0:00:43s\n",
      "epoch 40 | loss: 0.01637 | val_logits_ll: 0.0168  |  0:00:58s\n",
      "epoch 50 | loss: 0.01611 | val_logits_ll: 0.01664 |  0:01:12s\n",
      "epoch 60 | loss: 0.0159  | val_logits_ll: 0.01669 |  0:01:26s\n",
      "epoch 70 | loss: 0.01481 | val_logits_ll: 0.01662 |  0:01:39s\n",
      "epoch 80 | loss: 0.01362 | val_logits_ll: 0.01718 |  0:01:54s\n",
      "\n",
      "Early stopping occured at epoch 83 with best_epoch = 63 and best_val_logits_ll = 0.01645\n",
      "Best weights from best epoch are automatically used!\n",
      "\u001b[33m ------------------------------------------------------------\n",
      "Successfully saved model at TabNet_seed_20_fold_3.zip\n",
      "Device used : cuda\n",
      "Device used : cuda\n",
      "Device used : cuda\n",
      "\u001b[34m FOLDS:  \u001b[31m 4 \u001b[33m seed: 20\n",
      "\u001b[32m ************************************************************ \u001b[36m\n",
      "Device used : cuda\n",
      "epoch 0  | loss: 0.25576 | val_logits_ll: 0.02742 |  0:00:01s\n",
      "epoch 10 | loss: 0.01845 | val_logits_ll: 0.0194  |  0:00:16s\n",
      "epoch 20 | loss: 0.01742 | val_logits_ll: 0.0178  |  0:00:29s\n",
      "epoch 30 | loss: 0.01722 | val_logits_ll: 0.0173  |  0:00:43s\n",
      "epoch 40 | loss: 0.01706 | val_logits_ll: 0.01688 |  0:00:58s\n",
      "epoch 50 | loss: 0.01691 | val_logits_ll: 0.01678 |  0:01:12s\n",
      "epoch 60 | loss: 0.0157  | val_logits_ll: 0.01635 |  0:01:26s\n",
      "epoch 70 | loss: 0.01482 | val_logits_ll: 0.01645 |  0:01:39s\n",
      "epoch 80 | loss: 0.01379 | val_logits_ll: 0.01702 |  0:01:54s\n",
      "\n",
      "Early stopping occured at epoch 88 with best_epoch = 68 and best_val_logits_ll = 0.01633\n",
      "Best weights from best epoch are automatically used!\n",
      "\u001b[33m ------------------------------------------------------------\n",
      "Successfully saved model at TabNet_seed_20_fold_4.zip\n",
      "Device used : cuda\n",
      "Device used : cuda\n",
      "Device used : cuda\n",
      "\u001b[34m FOLDS:  \u001b[31m 5 \u001b[33m seed: 20\n",
      "\u001b[32m ************************************************************ \u001b[36m\n",
      "Device used : cuda\n",
      "epoch 0  | loss: 0.25855 | val_logits_ll: 0.02663 |  0:00:01s\n",
      "epoch 10 | loss: 0.01807 | val_logits_ll: 0.01883 |  0:00:15s\n",
      "epoch 20 | loss: 0.01739 | val_logits_ll: 0.01756 |  0:00:28s\n",
      "epoch 30 | loss: 0.01718 | val_logits_ll: 0.01783 |  0:00:42s\n",
      "epoch 40 | loss: 0.01603 | val_logits_ll: 0.01656 |  0:00:57s\n",
      "epoch 50 | loss: 0.01491 | val_logits_ll: 0.01685 |  0:01:11s\n",
      "epoch 60 | loss: 0.01359 | val_logits_ll: 0.01735 |  0:01:25s\n",
      "\n",
      "Early stopping occured at epoch 60 with best_epoch = 40 and best_val_logits_ll = 0.01656\n",
      "Best weights from best epoch are automatically used!\n",
      "\u001b[33m ------------------------------------------------------------\n",
      "Successfully saved model at TabNet_seed_20_fold_5.zip\n",
      "Device used : cuda\n",
      "Device used : cuda\n",
      "Device used : cuda\n",
      "\u001b[34m FOLDS:  \u001b[31m 6 \u001b[33m seed: 20\n",
      "\u001b[32m ************************************************************ \u001b[36m\n",
      "Device used : cuda\n",
      "epoch 0  | loss: 0.25773 | val_logits_ll: 0.02799 |  0:00:01s\n",
      "epoch 10 | loss: 0.01865 | val_logits_ll: 0.01962 |  0:00:14s\n",
      "epoch 20 | loss: 0.01761 | val_logits_ll: 0.0182  |  0:00:30s\n",
      "epoch 30 | loss: 0.01712 | val_logits_ll: 0.01703 |  0:00:44s\n",
      "epoch 40 | loss: 0.01698 | val_logits_ll: 0.01679 |  0:00:58s\n",
      "epoch 50 | loss: 0.01696 | val_logits_ll: 0.01681 |  0:01:11s\n",
      "epoch 60 | loss: 0.01628 | val_logits_ll: 0.01661 |  0:01:26s\n",
      "epoch 70 | loss: 0.01557 | val_logits_ll: 0.01619 |  0:01:40s\n",
      "epoch 80 | loss: 0.01476 | val_logits_ll: 0.01643 |  0:01:54s\n",
      "\n",
      "Early stopping occured at epoch 89 with best_epoch = 69 and best_val_logits_ll = 0.01616\n",
      "Best weights from best epoch are automatically used!\n",
      "\u001b[33m ------------------------------------------------------------\n",
      "Successfully saved model at TabNet_seed_20_fold_6.zip\n",
      "Device used : cuda\n",
      "Device used : cuda\n",
      "Device used : cuda\n",
      "\u001b[34m FOLDS:  \u001b[31m 7 \u001b[33m seed: 20\n",
      "\u001b[32m ************************************************************ \u001b[36m\n",
      "Device used : cuda\n",
      "epoch 0  | loss: 0.26021 | val_logits_ll: 0.02721 |  0:00:01s\n",
      "epoch 10 | loss: 0.01816 | val_logits_ll: 0.02076 |  0:00:16s\n",
      "epoch 20 | loss: 0.01747 | val_logits_ll: 0.01705 |  0:00:30s\n",
      "epoch 30 | loss: 0.01712 | val_logits_ll: 0.01682 |  0:00:44s\n",
      "epoch 40 | loss: 0.0169  | val_logits_ll: 0.0166  |  0:00:58s\n",
      "epoch 50 | loss: 0.01631 | val_logits_ll: 0.01638 |  0:01:12s\n",
      "epoch 60 | loss: 0.01617 | val_logits_ll: 0.01638 |  0:01:27s\n",
      "epoch 70 | loss: 0.01529 | val_logits_ll: 0.01626 |  0:01:41s\n",
      "epoch 80 | loss: 0.01389 | val_logits_ll: 0.0164  |  0:01:55s\n",
      "epoch 90 | loss: 0.01277 | val_logits_ll: 0.01711 |  0:02:09s\n",
      "\n",
      "Early stopping occured at epoch 92 with best_epoch = 72 and best_val_logits_ll = 0.01613\n",
      "Best weights from best epoch are automatically used!\n",
      "\u001b[33m ------------------------------------------------------------\n",
      "Successfully saved model at TabNet_seed_20_fold_7.zip\n",
      "Device used : cuda\n",
      "Device used : cuda\n",
      "Device used : cuda\n",
      "\u001b[34m FOLDS:  \u001b[31m 8 \u001b[33m seed: 20\n",
      "\u001b[32m ************************************************************ \u001b[36m\n",
      "Device used : cuda\n",
      "epoch 0  | loss: 0.2588  | val_logits_ll: 0.02639 |  0:00:01s\n",
      "epoch 10 | loss: 0.01814 | val_logits_ll: 0.01919 |  0:00:15s\n",
      "epoch 20 | loss: 0.01729 | val_logits_ll: 0.01738 |  0:00:29s\n",
      "epoch 30 | loss: 0.01709 | val_logits_ll: 0.01721 |  0:00:43s\n",
      "epoch 40 | loss: 0.01631 | val_logits_ll: 0.01679 |  0:00:57s\n",
      "epoch 50 | loss: 0.01557 | val_logits_ll: 0.01659 |  0:01:11s\n",
      "epoch 60 | loss: 0.01458 | val_logits_ll: 0.01671 |  0:01:26s\n",
      "\n",
      "Early stopping occured at epoch 69 with best_epoch = 49 and best_val_logits_ll = 0.01637\n",
      "Best weights from best epoch are automatically used!\n",
      "\u001b[33m ------------------------------------------------------------\n",
      "Successfully saved model at TabNet_seed_20_fold_8.zip\n",
      "Device used : cuda\n",
      "Device used : cuda\n",
      "Device used : cuda\n",
      "\u001b[34m FOLDS:  \u001b[31m 9 \u001b[33m seed: 20\n",
      "\u001b[32m ************************************************************ \u001b[36m\n",
      "Device used : cuda\n",
      "epoch 0  | loss: 0.25639 | val_logits_ll: 0.02705 |  0:00:01s\n",
      "epoch 10 | loss: 0.01824 | val_logits_ll: 0.02068 |  0:00:15s\n",
      "epoch 20 | loss: 0.01686 | val_logits_ll: 0.01972 |  0:00:30s\n",
      "epoch 30 | loss: 0.01583 | val_logits_ll: 0.01699 |  0:00:44s\n",
      "epoch 40 | loss: 0.01471 | val_logits_ll: 0.01721 |  0:00:58s\n",
      "\n",
      "Early stopping occured at epoch 48 with best_epoch = 28 and best_val_logits_ll = 0.01683\n",
      "Best weights from best epoch are automatically used!\n",
      "\u001b[33m ------------------------------------------------------------\n",
      "Successfully saved model at TabNet_seed_20_fold_9.zip\n",
      "Device used : cuda\n",
      "Device used : cuda\n",
      "Device used : cuda\n",
      "\u001b[34m FOLDS:  \u001b[31m 10 \u001b[33m seed: 20\n",
      "\u001b[32m ************************************************************ \u001b[36m\n",
      "Device used : cuda\n",
      "epoch 0  | loss: 0.25524 | val_logits_ll: 0.0272  |  0:00:01s\n",
      "epoch 10 | loss: 0.01821 | val_logits_ll: 0.0186  |  0:00:16s\n",
      "epoch 20 | loss: 0.01745 | val_logits_ll: 0.01759 |  0:00:30s\n",
      "epoch 30 | loss: 0.01712 | val_logits_ll: 0.01705 |  0:00:44s\n",
      "epoch 40 | loss: 0.01697 | val_logits_ll: 0.01682 |  0:00:58s\n",
      "epoch 50 | loss: 0.01629 | val_logits_ll: 0.01658 |  0:01:13s\n",
      "epoch 60 | loss: 0.01553 | val_logits_ll: 0.01643 |  0:01:27s\n",
      "epoch 70 | loss: 0.01419 | val_logits_ll: 0.01671 |  0:01:40s\n",
      "\n",
      "Early stopping occured at epoch 75 with best_epoch = 55 and best_val_logits_ll = 0.01633\n",
      "Best weights from best epoch are automatically used!\n",
      "\u001b[33m ------------------------------------------------------------\n",
      "Successfully saved model at TabNet_seed_20_fold_10.zip\n",
      "Device used : cuda\n",
      "Device used : cuda\n",
      "Device used : cuda\n",
      "\u001b[34m FOLDS:  \u001b[31m 1 \u001b[33m seed: 21\n",
      "\u001b[32m ************************************************************ \u001b[36m\n",
      "Device used : cuda\n",
      "epoch 0  | loss: 0.27144 | val_logits_ll: 0.02627 |  0:00:01s\n",
      "epoch 10 | loss: 0.01831 | val_logits_ll: 0.01823 |  0:00:15s\n",
      "epoch 20 | loss: 0.01759 | val_logits_ll: 0.01744 |  0:00:30s\n",
      "epoch 30 | loss: 0.01719 | val_logits_ll: 0.01753 |  0:00:44s\n",
      "epoch 40 | loss: 0.0164  | val_logits_ll: 0.01669 |  0:00:58s\n",
      "epoch 50 | loss: 0.01506 | val_logits_ll: 0.01657 |  0:01:12s\n",
      "epoch 60 | loss: 0.01372 | val_logits_ll: 0.01717 |  0:01:27s\n",
      "\n",
      "Early stopping occured at epoch 61 with best_epoch = 41 and best_val_logits_ll = 0.01641\n",
      "Best weights from best epoch are automatically used!\n",
      "\u001b[33m ------------------------------------------------------------\n",
      "Successfully saved model at TabNet_seed_21_fold_1.zip\n",
      "Device used : cuda\n",
      "Device used : cuda\n",
      "Device used : cuda\n",
      "\u001b[34m FOLDS:  \u001b[31m 2 \u001b[33m seed: 21\n",
      "\u001b[32m ************************************************************ \u001b[36m\n",
      "Device used : cuda\n",
      "epoch 0  | loss: 0.27188 | val_logits_ll: 0.02621 |  0:00:01s\n",
      "epoch 10 | loss: 0.01839 | val_logits_ll: 0.01849 |  0:00:14s\n",
      "epoch 20 | loss: 0.01747 | val_logits_ll: 0.01742 |  0:00:29s\n",
      "epoch 30 | loss: 0.01707 | val_logits_ll: 0.01711 |  0:00:43s\n",
      "epoch 40 | loss: 0.01661 | val_logits_ll: 0.01656 |  0:00:58s\n",
      "epoch 50 | loss: 0.01613 | val_logits_ll: 0.01653 |  0:01:12s\n",
      "epoch 60 | loss: 0.01556 | val_logits_ll: 0.01637 |  0:01:26s\n",
      "epoch 70 | loss: 0.01445 | val_logits_ll: 0.01661 |  0:01:40s\n",
      "epoch 80 | loss: 0.01291 | val_logits_ll: 0.01744 |  0:01:55s\n",
      "\n",
      "Early stopping occured at epoch 80 with best_epoch = 60 and best_val_logits_ll = 0.01637\n",
      "Best weights from best epoch are automatically used!\n",
      "\u001b[33m ------------------------------------------------------------\n",
      "Successfully saved model at TabNet_seed_21_fold_2.zip\n",
      "Device used : cuda\n",
      "Device used : cuda\n",
      "Device used : cuda\n",
      "\u001b[34m FOLDS:  \u001b[31m 3 \u001b[33m seed: 21\n",
      "\u001b[32m ************************************************************ \u001b[36m\n",
      "Device used : cuda\n",
      "epoch 0  | loss: 0.27231 | val_logits_ll: 0.02711 |  0:00:01s\n",
      "epoch 10 | loss: 0.01838 | val_logits_ll: 0.02129 |  0:00:15s\n",
      "epoch 20 | loss: 0.01735 | val_logits_ll: 0.01771 |  0:00:29s\n",
      "epoch 30 | loss: 0.01699 | val_logits_ll: 0.01759 |  0:00:44s\n",
      "epoch 40 | loss: 0.0162  | val_logits_ll: 0.0169  |  0:00:58s\n",
      "epoch 50 | loss: 0.01472 | val_logits_ll: 0.01705 |  0:01:13s\n",
      "epoch 60 | loss: 0.01324 | val_logits_ll: 0.01769 |  0:01:27s\n",
      "\n",
      "Early stopping occured at epoch 61 with best_epoch = 41 and best_val_logits_ll = 0.01666\n",
      "Best weights from best epoch are automatically used!\n",
      "\u001b[33m ------------------------------------------------------------\n",
      "Successfully saved model at TabNet_seed_21_fold_3.zip\n",
      "Device used : cuda\n",
      "Device used : cuda\n",
      "Device used : cuda\n",
      "\u001b[34m FOLDS:  \u001b[31m 4 \u001b[33m seed: 21\n",
      "\u001b[32m ************************************************************ \u001b[36m\n",
      "Device used : cuda\n",
      "epoch 0  | loss: 0.26799 | val_logits_ll: 0.0263  |  0:00:01s\n",
      "epoch 10 | loss: 0.01906 | val_logits_ll: 0.01919 |  0:00:16s\n",
      "epoch 20 | loss: 0.01761 | val_logits_ll: 0.0175  |  0:00:30s\n",
      "epoch 30 | loss: 0.01712 | val_logits_ll: 0.017   |  0:00:44s\n",
      "epoch 40 | loss: 0.01659 | val_logits_ll: 0.01656 |  0:00:58s\n",
      "epoch 50 | loss: 0.01613 | val_logits_ll: 0.01661 |  0:01:12s\n",
      "epoch 60 | loss: 0.01494 | val_logits_ll: 0.01643 |  0:01:27s\n",
      "epoch 70 | loss: 0.01364 | val_logits_ll: 0.01692 |  0:01:41s\n",
      "\n",
      "Early stopping occured at epoch 73 with best_epoch = 53 and best_val_logits_ll = 0.01628\n",
      "Best weights from best epoch are automatically used!\n",
      "\u001b[33m ------------------------------------------------------------\n",
      "Successfully saved model at TabNet_seed_21_fold_4.zip\n",
      "Device used : cuda\n",
      "Device used : cuda\n",
      "Device used : cuda\n",
      "\u001b[34m FOLDS:  \u001b[31m 5 \u001b[33m seed: 21\n",
      "\u001b[32m ************************************************************ \u001b[36m\n",
      "Device used : cuda\n",
      "epoch 0  | loss: 0.27048 | val_logits_ll: 0.02704 |  0:00:01s\n",
      "epoch 10 | loss: 0.01819 | val_logits_ll: 0.01848 |  0:00:15s\n",
      "epoch 20 | loss: 0.01738 | val_logits_ll: 0.01772 |  0:00:30s\n",
      "epoch 30 | loss: 0.01701 | val_logits_ll: 0.01718 |  0:00:45s\n",
      "epoch 40 | loss: 0.01629 | val_logits_ll: 0.01679 |  0:00:59s\n",
      "epoch 50 | loss: 0.01552 | val_logits_ll: 0.01669 |  0:01:13s\n",
      "epoch 60 | loss: 0.01382 | val_logits_ll: 0.01683 |  0:01:27s\n",
      "epoch 70 | loss: 0.01265 | val_logits_ll: 0.01759 |  0:01:42s\n",
      "\n",
      "Early stopping occured at epoch 72 with best_epoch = 52 and best_val_logits_ll = 0.01652\n",
      "Best weights from best epoch are automatically used!\n",
      "\u001b[33m ------------------------------------------------------------\n",
      "Successfully saved model at TabNet_seed_21_fold_5.zip\n",
      "Device used : cuda\n",
      "Device used : cuda\n",
      "Device used : cuda\n",
      "\u001b[34m FOLDS:  \u001b[31m 6 \u001b[33m seed: 21\n",
      "\u001b[32m ************************************************************ \u001b[36m\n",
      "Device used : cuda\n",
      "epoch 0  | loss: 0.27074 | val_logits_ll: 0.0273  |  0:00:01s\n",
      "epoch 10 | loss: 0.01829 | val_logits_ll: 0.01824 |  0:00:15s\n",
      "epoch 20 | loss: 0.01688 | val_logits_ll: 0.017   |  0:00:29s\n",
      "epoch 30 | loss: 0.01643 | val_logits_ll: 0.0168  |  0:00:43s\n",
      "epoch 40 | loss: 0.0158  | val_logits_ll: 0.0164  |  0:00:58s\n",
      "epoch 50 | loss: 0.01444 | val_logits_ll: 0.01664 |  0:01:12s\n",
      "epoch 60 | loss: 0.01273 | val_logits_ll: 0.01731 |  0:01:26s\n",
      "\n",
      "Early stopping occured at epoch 60 with best_epoch = 40 and best_val_logits_ll = 0.0164\n",
      "Best weights from best epoch are automatically used!\n",
      "\u001b[33m ------------------------------------------------------------\n",
      "Successfully saved model at TabNet_seed_21_fold_6.zip\n",
      "Device used : cuda\n",
      "Device used : cuda\n",
      "Device used : cuda\n",
      "\u001b[34m FOLDS:  \u001b[31m 7 \u001b[33m seed: 21\n",
      "\u001b[32m ************************************************************ \u001b[36m\n",
      "Device used : cuda\n",
      "epoch 0  | loss: 0.27279 | val_logits_ll: 0.02694 |  0:00:01s\n",
      "epoch 10 | loss: 0.01812 | val_logits_ll: 0.01846 |  0:00:15s\n",
      "epoch 20 | loss: 0.01725 | val_logits_ll: 0.01721 |  0:00:30s\n",
      "epoch 30 | loss: 0.01695 | val_logits_ll: 0.01687 |  0:00:44s\n",
      "epoch 40 | loss: 0.01682 | val_logits_ll: 0.01669 |  0:00:57s\n",
      "epoch 50 | loss: 0.0161  | val_logits_ll: 0.01643 |  0:01:12s\n",
      "epoch 60 | loss: 0.01539 | val_logits_ll: 0.01641 |  0:01:26s\n",
      "epoch 70 | loss: 0.01368 | val_logits_ll: 0.01679 |  0:01:40s\n",
      "\n",
      "Early stopping occured at epoch 74 with best_epoch = 54 and best_val_logits_ll = 0.01619\n",
      "Best weights from best epoch are automatically used!\n",
      "\u001b[33m ------------------------------------------------------------\n",
      "Successfully saved model at TabNet_seed_21_fold_7.zip\n",
      "Device used : cuda\n",
      "Device used : cuda\n",
      "Device used : cuda\n",
      "\u001b[34m FOLDS:  \u001b[31m 8 \u001b[33m seed: 21\n",
      "\u001b[32m ************************************************************ \u001b[36m\n",
      "Device used : cuda\n",
      "epoch 0  | loss: 0.27621 | val_logits_ll: 0.02677 |  0:00:01s\n",
      "epoch 10 | loss: 0.01817 | val_logits_ll: 0.01875 |  0:00:15s\n",
      "epoch 20 | loss: 0.01748 | val_logits_ll: 0.01861 |  0:00:30s\n",
      "epoch 30 | loss: 0.01702 | val_logits_ll: 0.0169  |  0:00:44s\n",
      "epoch 40 | loss: 0.0163  | val_logits_ll: 0.0166  |  0:00:58s\n",
      "epoch 50 | loss: 0.01542 | val_logits_ll: 0.01656 |  0:01:12s\n",
      "epoch 60 | loss: 0.0139  | val_logits_ll: 0.01684 |  0:01:27s\n",
      "epoch 70 | loss: 0.01258 | val_logits_ll: 0.01768 |  0:01:41s\n",
      "\n",
      "Early stopping occured at epoch 72 with best_epoch = 52 and best_val_logits_ll = 0.01641\n",
      "Best weights from best epoch are automatically used!\n",
      "\u001b[33m ------------------------------------------------------------\n",
      "Successfully saved model at TabNet_seed_21_fold_8.zip\n",
      "Device used : cuda\n",
      "Device used : cuda\n",
      "Device used : cuda\n",
      "\u001b[34m FOLDS:  \u001b[31m 9 \u001b[33m seed: 21\n",
      "\u001b[32m ************************************************************ \u001b[36m\n",
      "Device used : cuda\n",
      "epoch 0  | loss: 0.271   | val_logits_ll: 0.02633 |  0:00:01s\n",
      "epoch 10 | loss: 0.0184  | val_logits_ll: 0.01823 |  0:00:15s\n",
      "epoch 20 | loss: 0.01747 | val_logits_ll: 0.01793 |  0:00:29s\n",
      "epoch 30 | loss: 0.0167  | val_logits_ll: 0.01682 |  0:00:44s\n",
      "epoch 40 | loss: 0.01625 | val_logits_ll: 0.01684 |  0:00:58s\n",
      "epoch 50 | loss: 0.01566 | val_logits_ll: 0.01647 |  0:01:12s\n",
      "epoch 60 | loss: 0.01506 | val_logits_ll: 0.01665 |  0:01:26s\n",
      "epoch 70 | loss: 0.01333 | val_logits_ll: 0.01733 |  0:01:40s\n",
      "\n",
      "Early stopping occured at epoch 74 with best_epoch = 54 and best_val_logits_ll = 0.01645\n",
      "Best weights from best epoch are automatically used!\n",
      "\u001b[33m ------------------------------------------------------------\n",
      "Successfully saved model at TabNet_seed_21_fold_9.zip\n",
      "Device used : cuda\n",
      "Device used : cuda\n",
      "Device used : cuda\n",
      "\u001b[34m FOLDS:  \u001b[31m 10 \u001b[33m seed: 21\n",
      "\u001b[32m ************************************************************ \u001b[36m\n",
      "Device used : cuda\n",
      "epoch 0  | loss: 0.27114 | val_logits_ll: 0.0255  |  0:00:01s\n",
      "epoch 10 | loss: 0.01824 | val_logits_ll: 0.02009 |  0:00:16s\n",
      "epoch 20 | loss: 0.01728 | val_logits_ll: 0.01731 |  0:00:32s\n",
      "epoch 30 | loss: 0.01702 | val_logits_ll: 0.01716 |  0:00:47s\n",
      "epoch 40 | loss: 0.0162  | val_logits_ll: 0.01671 |  0:01:03s\n",
      "epoch 50 | loss: 0.01485 | val_logits_ll: 0.01656 |  0:01:19s\n",
      "epoch 60 | loss: 0.0136  | val_logits_ll: 0.01705 |  0:01:34s\n",
      "\n",
      "Early stopping occured at epoch 62 with best_epoch = 42 and best_val_logits_ll = 0.0164\n",
      "Best weights from best epoch are automatically used!\n",
      "\u001b[33m ------------------------------------------------------------\n",
      "Successfully saved model at TabNet_seed_21_fold_10.zip\n",
      "Device used : cuda\n",
      "Device used : cuda\n",
      "Device used : cuda\n",
      "\u001b[34m FOLDS:  \u001b[31m 1 \u001b[33m seed: 22\n",
      "\u001b[32m ************************************************************ \u001b[36m\n",
      "Device used : cuda\n",
      "epoch 0  | loss: 0.26523 | val_logits_ll: 0.02621 |  0:00:01s\n",
      "epoch 10 | loss: 0.01824 | val_logits_ll: 0.01866 |  0:00:17s\n",
      "epoch 20 | loss: 0.01749 | val_logits_ll: 0.01734 |  0:00:32s\n",
      "epoch 30 | loss: 0.01711 | val_logits_ll: 0.01696 |  0:00:48s\n",
      "epoch 40 | loss: 0.01646 | val_logits_ll: 0.01666 |  0:01:03s\n",
      "epoch 50 | loss: 0.01623 | val_logits_ll: 0.01658 |  0:01:20s\n",
      "epoch 60 | loss: 0.01543 | val_logits_ll: 0.01656 |  0:01:35s\n",
      "epoch 70 | loss: 0.0146  | val_logits_ll: 0.01678 |  0:01:51s\n",
      "\n",
      "Early stopping occured at epoch 79 with best_epoch = 59 and best_val_logits_ll = 0.01634\n",
      "Best weights from best epoch are automatically used!\n",
      "\u001b[33m ------------------------------------------------------------\n",
      "Successfully saved model at TabNet_seed_22_fold_1.zip\n",
      "Device used : cuda\n",
      "Device used : cuda\n",
      "Device used : cuda\n",
      "\u001b[34m FOLDS:  \u001b[31m 2 \u001b[33m seed: 22\n",
      "\u001b[32m ************************************************************ \u001b[36m\n",
      "Device used : cuda\n",
      "epoch 0  | loss: 0.27064 | val_logits_ll: 0.02623 |  0:00:01s\n",
      "epoch 10 | loss: 0.01813 | val_logits_ll: 0.01996 |  0:00:19s\n",
      "epoch 20 | loss: 0.01738 | val_logits_ll: 0.01765 |  0:00:36s\n",
      "epoch 30 | loss: 0.01704 | val_logits_ll: 0.01704 |  0:00:53s\n",
      "epoch 40 | loss: 0.01697 | val_logits_ll: 0.01692 |  0:01:11s\n",
      "epoch 50 | loss: 0.01618 | val_logits_ll: 0.01656 |  0:01:28s\n",
      "epoch 60 | loss: 0.01537 | val_logits_ll: 0.01655 |  0:01:45s\n",
      "epoch 70 | loss: 0.01398 | val_logits_ll: 0.017   |  0:02:02s\n",
      "\n",
      "Early stopping occured at epoch 76 with best_epoch = 56 and best_val_logits_ll = 0.01647\n",
      "Best weights from best epoch are automatically used!\n",
      "\u001b[33m ------------------------------------------------------------\n",
      "Successfully saved model at TabNet_seed_22_fold_2.zip\n",
      "Device used : cuda\n",
      "Device used : cuda\n",
      "Device used : cuda\n",
      "\u001b[34m FOLDS:  \u001b[31m 3 \u001b[33m seed: 22\n",
      "\u001b[32m ************************************************************ \u001b[36m\n",
      "Device used : cuda\n",
      "epoch 0  | loss: 0.26587 | val_logits_ll: 0.02574 |  0:00:01s\n",
      "epoch 10 | loss: 0.01825 | val_logits_ll: 0.01989 |  0:00:15s\n",
      "epoch 20 | loss: 0.01702 | val_logits_ll: 0.0183  |  0:00:29s\n",
      "epoch 30 | loss: 0.01654 | val_logits_ll: 0.01748 |  0:00:43s\n",
      "epoch 40 | loss: 0.01617 | val_logits_ll: 0.01686 |  0:00:59s\n",
      "epoch 50 | loss: 0.01595 | val_logits_ll: 0.01686 |  0:01:12s\n",
      "epoch 60 | loss: 0.01413 | val_logits_ll: 0.01705 |  0:01:26s\n",
      "epoch 70 | loss: 0.01244 | val_logits_ll: 0.01799 |  0:01:41s\n",
      "\n",
      "Early stopping occured at epoch 71 with best_epoch = 51 and best_val_logits_ll = 0.0166\n",
      "Best weights from best epoch are automatically used!\n",
      "\u001b[33m ------------------------------------------------------------\n",
      "Successfully saved model at TabNet_seed_22_fold_3.zip\n",
      "Device used : cuda\n",
      "Device used : cuda\n",
      "Device used : cuda\n",
      "\u001b[34m FOLDS:  \u001b[31m 4 \u001b[33m seed: 22\n",
      "\u001b[32m ************************************************************ \u001b[36m\n",
      "Device used : cuda\n",
      "epoch 0  | loss: 0.26949 | val_logits_ll: 0.02722 |  0:00:01s\n",
      "epoch 10 | loss: 0.01812 | val_logits_ll: 0.01779 |  0:00:16s\n",
      "epoch 20 | loss: 0.01747 | val_logits_ll: 0.01732 |  0:00:30s\n",
      "epoch 30 | loss: 0.01712 | val_logits_ll: 0.01703 |  0:00:44s\n",
      "epoch 40 | loss: 0.01698 | val_logits_ll: 0.01698 |  0:00:58s\n",
      "epoch 50 | loss: 0.01687 | val_logits_ll: 0.01673 |  0:01:14s\n",
      "epoch 60 | loss: 0.01618 | val_logits_ll: 0.01648 |  0:01:28s\n",
      "epoch 70 | loss: 0.01546 | val_logits_ll: 0.01636 |  0:01:42s\n",
      "epoch 80 | loss: 0.01462 | val_logits_ll: 0.01662 |  0:01:56s\n",
      "\n",
      "Early stopping occured at epoch 89 with best_epoch = 69 and best_val_logits_ll = 0.01626\n",
      "Best weights from best epoch are automatically used!\n",
      "\u001b[33m ------------------------------------------------------------\n",
      "Successfully saved model at TabNet_seed_22_fold_4.zip\n",
      "Device used : cuda\n",
      "Device used : cuda\n",
      "Device used : cuda\n",
      "\u001b[34m FOLDS:  \u001b[31m 5 \u001b[33m seed: 22\n",
      "\u001b[32m ************************************************************ \u001b[36m\n",
      "Device used : cuda\n",
      "epoch 0  | loss: 0.27258 | val_logits_ll: 0.02719 |  0:00:01s\n",
      "epoch 10 | loss: 0.0181  | val_logits_ll: 0.01807 |  0:00:15s\n",
      "epoch 20 | loss: 0.01745 | val_logits_ll: 0.01766 |  0:00:29s\n",
      "epoch 30 | loss: 0.01712 | val_logits_ll: 0.01735 |  0:00:44s\n",
      "epoch 40 | loss: 0.01694 | val_logits_ll: 0.01725 |  0:00:58s\n",
      "epoch 50 | loss: 0.01685 | val_logits_ll: 0.01706 |  0:01:13s\n",
      "epoch 60 | loss: 0.01611 | val_logits_ll: 0.01674 |  0:01:27s\n",
      "epoch 70 | loss: 0.01532 | val_logits_ll: 0.01663 |  0:01:40s\n",
      "epoch 80 | loss: 0.01391 | val_logits_ll: 0.0169  |  0:01:55s\n",
      "\n",
      "Early stopping occured at epoch 86 with best_epoch = 66 and best_val_logits_ll = 0.0165\n",
      "Best weights from best epoch are automatically used!\n",
      "\u001b[33m ------------------------------------------------------------\n",
      "Successfully saved model at TabNet_seed_22_fold_5.zip\n",
      "Device used : cuda\n",
      "Device used : cuda\n",
      "Device used : cuda\n",
      "\u001b[34m FOLDS:  \u001b[31m 6 \u001b[33m seed: 22\n",
      "\u001b[32m ************************************************************ \u001b[36m\n",
      "Device used : cuda\n",
      "epoch 0  | loss: 0.2683  | val_logits_ll: 0.02622 |  0:00:01s\n",
      "epoch 10 | loss: 0.01814 | val_logits_ll: 0.02019 |  0:00:15s\n",
      "epoch 20 | loss: 0.01744 | val_logits_ll: 0.01736 |  0:00:29s\n",
      "epoch 30 | loss: 0.01718 | val_logits_ll: 0.01684 |  0:00:43s\n",
      "epoch 40 | loss: 0.01697 | val_logits_ll: 0.01688 |  0:00:58s\n",
      "epoch 50 | loss: 0.01619 | val_logits_ll: 0.01632 |  0:01:12s\n",
      "epoch 60 | loss: 0.01598 | val_logits_ll: 0.01633 |  0:01:27s\n",
      "epoch 70 | loss: 0.01516 | val_logits_ll: 0.0162  |  0:01:40s\n",
      "epoch 80 | loss: 0.01364 | val_logits_ll: 0.01668 |  0:01:56s\n",
      "\n",
      "Early stopping occured at epoch 84 with best_epoch = 64 and best_val_logits_ll = 0.01602\n",
      "Best weights from best epoch are automatically used!\n",
      "\u001b[33m ------------------------------------------------------------\n",
      "Successfully saved model at TabNet_seed_22_fold_6.zip\n",
      "Device used : cuda\n",
      "Device used : cuda\n",
      "Device used : cuda\n",
      "\u001b[34m FOLDS:  \u001b[31m 7 \u001b[33m seed: 22\n",
      "\u001b[32m ************************************************************ \u001b[36m\n",
      "Device used : cuda\n",
      "epoch 0  | loss: 0.26885 | val_logits_ll: 0.02747 |  0:00:01s\n",
      "epoch 10 | loss: 0.01841 | val_logits_ll: 0.01871 |  0:00:15s\n",
      "epoch 20 | loss: 0.01716 | val_logits_ll: 0.01734 |  0:00:29s\n",
      "epoch 30 | loss: 0.01668 | val_logits_ll: 0.01715 |  0:00:43s\n",
      "epoch 40 | loss: 0.01623 | val_logits_ll: 0.01669 |  0:00:58s\n",
      "epoch 50 | loss: 0.01537 | val_logits_ll: 0.01656 |  0:01:12s\n",
      "epoch 60 | loss: 0.01425 | val_logits_ll: 0.01673 |  0:01:26s\n",
      "\n",
      "Early stopping occured at epoch 68 with best_epoch = 48 and best_val_logits_ll = 0.01637\n",
      "Best weights from best epoch are automatically used!\n",
      "\u001b[33m ------------------------------------------------------------\n",
      "Successfully saved model at TabNet_seed_22_fold_7.zip\n",
      "Device used : cuda\n",
      "Device used : cuda\n",
      "Device used : cuda\n",
      "\u001b[34m FOLDS:  \u001b[31m 8 \u001b[33m seed: 22\n",
      "\u001b[32m ************************************************************ \u001b[36m\n",
      "Device used : cuda\n",
      "epoch 0  | loss: 0.26829 | val_logits_ll: 0.02624 |  0:00:01s\n",
      "epoch 10 | loss: 0.01823 | val_logits_ll: 0.02079 |  0:00:16s\n",
      "epoch 20 | loss: 0.01755 | val_logits_ll: 0.01741 |  0:00:30s\n",
      "epoch 30 | loss: 0.01731 | val_logits_ll: 0.01718 |  0:00:44s\n",
      "epoch 40 | loss: 0.01702 | val_logits_ll: 0.01693 |  0:00:58s\n",
      "epoch 50 | loss: 0.01638 | val_logits_ll: 0.01666 |  0:01:13s\n",
      "epoch 60 | loss: 0.01574 | val_logits_ll: 0.01649 |  0:01:27s\n",
      "epoch 70 | loss: 0.01535 | val_logits_ll: 0.01652 |  0:01:42s\n",
      "epoch 80 | loss: 0.01389 | val_logits_ll: 0.01686 |  0:01:56s\n",
      "epoch 90 | loss: 0.01269 | val_logits_ll: 0.01748 |  0:02:11s\n",
      "\n",
      "Early stopping occured at epoch 91 with best_epoch = 71 and best_val_logits_ll = 0.01641\n",
      "Best weights from best epoch are automatically used!\n",
      "\u001b[33m ------------------------------------------------------------\n",
      "Successfully saved model at TabNet_seed_22_fold_8.zip\n",
      "Device used : cuda\n",
      "Device used : cuda\n",
      "Device used : cuda\n",
      "\u001b[34m FOLDS:  \u001b[31m 9 \u001b[33m seed: 22\n",
      "\u001b[32m ************************************************************ \u001b[36m\n",
      "Device used : cuda\n",
      "epoch 0  | loss: 0.26613 | val_logits_ll: 0.02571 |  0:00:01s\n",
      "epoch 10 | loss: 0.01865 | val_logits_ll: 0.01858 |  0:00:15s\n",
      "epoch 20 | loss: 0.01778 | val_logits_ll: 0.01763 |  0:00:29s\n",
      "epoch 30 | loss: 0.01683 | val_logits_ll: 0.01705 |  0:00:43s\n",
      "epoch 40 | loss: 0.01614 | val_logits_ll: 0.01667 |  0:00:59s\n",
      "epoch 50 | loss: 0.015   | val_logits_ll: 0.01703 |  0:01:13s\n",
      "epoch 60 | loss: 0.01364 | val_logits_ll: 0.0176  |  0:01:27s\n",
      "\n",
      "Early stopping occured at epoch 60 with best_epoch = 40 and best_val_logits_ll = 0.01667\n",
      "Best weights from best epoch are automatically used!\n",
      "\u001b[33m ------------------------------------------------------------\n",
      "Successfully saved model at TabNet_seed_22_fold_9.zip\n",
      "Device used : cuda\n",
      "Device used : cuda\n",
      "Device used : cuda\n",
      "\u001b[34m FOLDS:  \u001b[31m 10 \u001b[33m seed: 22\n",
      "\u001b[32m ************************************************************ \u001b[36m\n",
      "Device used : cuda\n",
      "epoch 0  | loss: 0.2692  | val_logits_ll: 0.02705 |  0:00:01s\n",
      "epoch 10 | loss: 0.018   | val_logits_ll: 0.01842 |  0:00:15s\n",
      "epoch 20 | loss: 0.01722 | val_logits_ll: 0.01717 |  0:00:31s\n",
      "epoch 30 | loss: 0.01699 | val_logits_ll: 0.01715 |  0:00:45s\n",
      "epoch 40 | loss: 0.01639 | val_logits_ll: 0.01653 |  0:00:59s\n",
      "epoch 50 | loss: 0.01574 | val_logits_ll: 0.01642 |  0:01:13s\n",
      "epoch 60 | loss: 0.01458 | val_logits_ll: 0.0167  |  0:01:28s\n",
      "epoch 70 | loss: 0.01315 | val_logits_ll: 0.01742 |  0:01:42s\n",
      "\n",
      "Early stopping occured at epoch 70 with best_epoch = 50 and best_val_logits_ll = 0.01642\n",
      "Best weights from best epoch are automatically used!\n",
      "\u001b[33m ------------------------------------------------------------\n",
      "Successfully saved model at TabNet_seed_22_fold_10.zip\n",
      "Device used : cuda\n",
      "Device used : cuda\n",
      "Device used : cuda\n"
     ]
    }
   ],
   "source": [
    "scores_auc_all = []\n",
    "test_cv_preds = []\n",
    "\n",
    "NB_SPLITS = 10\n",
    "mskf = MultilabelStratifiedKFold(n_splits = NB_SPLITS, random_state = 0, shuffle = True)\n",
    "\n",
    "oof_preds = []\n",
    "oof_targets = []\n",
    "scores = []\n",
    "scores_auc = []\n",
    "SEED = [20,21,22]\n",
    "for s in SEED:\n",
    "    tabnet_params['seed'] = s\n",
    "    for fold_nb, (train_idx, val_idx) in enumerate(mskf.split(train, target)):\n",
    "        print(b_,\"FOLDS: \", r_, fold_nb + 1, y_, 'seed:', tabnet_params['seed'])\n",
    "        print(g_, '*' * 60, c_)\n",
    "    \n",
    "        X_train, y_train = train.values[train_idx, :], target.values[train_idx, :]\n",
    "        X_val, y_val = train.values[val_idx, :], target.values[val_idx, :]\n",
    "        ### Model ###\n",
    "        model = TabNetRegressor(**tabnet_params)\n",
    "        \n",
    "        ### Fit ###\n",
    "        model.fit(\n",
    "            X_train = X_train,\n",
    "            y_train = y_train,\n",
    "            eval_set = [(X_val, y_val)],\n",
    "            eval_name = [\"val\"],\n",
    "            eval_metric = [\"logits_ll\"],\n",
    "            max_epochs = MAX_EPOCH,\n",
    "            patience = 20,\n",
    "            batch_size = 512, #1024\n",
    "            virtual_batch_size = 64,\n",
    "            num_workers = 1,\n",
    "            drop_last = False,\n",
    "            loss_fn = SmoothBCEwLogits(smoothing=5e-5))\n",
    "        print(y_, '-' * 60)\n",
    "    \n",
    "        ### Predict on validation ###\n",
    "        preds_val = model.predict(X_val)\n",
    "        # Apply sigmoid to the predictions\n",
    "        preds = 1 / (1 + np.exp(-preds_val))\n",
    "        score = np.min(model.history[\"val_logits_ll\"])\n",
    "        saving_path_name = 'TabNet_seed_'+str(tabnet_params['seed'])+'_fold_'+str(fold_nb+1)\n",
    "        saved_filepath = model.save_model(saving_path_name)\n",
    "        \n",
    "        loaded_model =  TabNetRegressor()\n",
    "        loaded_model.load_model(saved_filepath)\n",
    "    \n",
    "        ### Save OOF for CV ###\n",
    "        oof_preds.append(preds_val)\n",
    "        oof_targets.append(y_val)\n",
    "        scores.append(score)\n",
    "    \n",
    "        ### Predict on test ###\n",
    "        model.load_model(saved_filepath)\n",
    "        preds_test = model.predict(X_test)\n",
    "        test_cv_preds.append(1 / (1 + np.exp(-preds_test)))\n",
    "\n",
    "oof_preds_all = np.concatenate(oof_preds)\n",
    "oof_targets_all = np.concatenate(oof_targets)\n",
    "test_preds_all = np.stack(test_cv_preds)"
   ]
  },
  {
   "cell_type": "code",
   "execution_count": 37,
   "metadata": {
    "execution": {
     "iopub.execute_input": "2020-11-29T11:45:56.867771Z",
     "iopub.status.busy": "2020-11-29T11:45:56.866869Z",
     "iopub.status.idle": "2020-11-29T11:46:00.425374Z",
     "shell.execute_reply": "2020-11-29T11:46:00.426579Z"
    },
    "papermill": {
     "duration": 3.723999,
     "end_time": "2020-11-29T11:46:00.426811",
     "exception": false,
     "start_time": "2020-11-29T11:45:56.702812",
     "status": "completed"
    },
    "tags": []
   },
   "outputs": [
    {
     "name": "stdout",
     "output_type": "stream",
     "text": [
      "\u001b[34mOverall AUC: \u001b[31m0.7563126290461566\n",
      "\u001b[34mAverage CV: \u001b[31m0.016398578412271155\n"
     ]
    }
   ],
   "source": [
    "aucs = []\n",
    "for task_id in range(oof_preds_all.shape[1]):\n",
    "    aucs.append(roc_auc_score(y_true = oof_targets_all[:, task_id],\n",
    "                              y_score = oof_preds_all[:, task_id]\n",
    "                             ))\n",
    "print(f\"{b_}Overall AUC: {r_}{np.mean(aucs)}\")\n",
    "print(f\"{b_}Average CV: {r_}{np.mean(scores)}\")"
   ]
  },
  {
   "cell_type": "code",
   "execution_count": 38,
   "metadata": {
    "execution": {
     "iopub.execute_input": "2020-11-29T11:46:00.765922Z",
     "iopub.status.busy": "2020-11-29T11:46:00.763256Z",
     "iopub.status.idle": "2020-11-29T11:46:00.768640Z",
     "shell.execute_reply": "2020-11-29T11:46:00.767790Z"
    },
    "papermill": {
     "duration": 0.171216,
     "end_time": "2020-11-29T11:46:00.768793",
     "exception": false,
     "start_time": "2020-11-29T11:46:00.597577",
     "status": "completed"
    },
    "tags": []
   },
   "outputs": [
    {
     "name": "stdout",
     "output_type": "stream",
     "text": [
      "(65844, 206)\n",
      "(65844, 206)\n",
      "(65844, 206)\n",
      "22\n"
     ]
    }
   ],
   "source": [
    "print(oof_preds_all.shape)\n",
    "print(oof_targets_all.shape)\n",
    "print(oof_preds_all.shape)\n",
    "print(tabnet_params['seed'])"
   ]
  },
  {
   "cell_type": "code",
   "execution_count": 39,
   "metadata": {
    "execution": {
     "iopub.execute_input": "2020-11-29T11:46:01.101479Z",
     "iopub.status.busy": "2020-11-29T11:46:01.100202Z",
     "iopub.status.idle": "2020-11-29T11:46:03.364693Z",
     "shell.execute_reply": "2020-11-29T11:46:03.364084Z"
    },
    "papermill": {
     "duration": 2.435556,
     "end_time": "2020-11-29T11:46:03.364825",
     "exception": false,
     "start_time": "2020-11-29T11:46:00.929269",
     "status": "completed"
    },
    "tags": []
   },
   "outputs": [
    {
     "data": {
      "text/html": [
       "<div>\n",
       "<style scoped>\n",
       "    .dataframe tbody tr th:only-of-type {\n",
       "        vertical-align: middle;\n",
       "    }\n",
       "\n",
       "    .dataframe tbody tr th {\n",
       "        vertical-align: top;\n",
       "    }\n",
       "\n",
       "    .dataframe thead th {\n",
       "        text-align: right;\n",
       "    }\n",
       "</style>\n",
       "<table border=\"1\" class=\"dataframe\">\n",
       "  <thead>\n",
       "    <tr style=\"text-align: right;\">\n",
       "      <th></th>\n",
       "      <th>sig_id</th>\n",
       "      <th>5-alpha_reductase_inhibitor</th>\n",
       "      <th>11-beta-hsd1_inhibitor</th>\n",
       "      <th>acat_inhibitor</th>\n",
       "      <th>acetylcholine_receptor_agonist</th>\n",
       "      <th>acetylcholine_receptor_antagonist</th>\n",
       "      <th>acetylcholinesterase_inhibitor</th>\n",
       "      <th>adenosine_receptor_agonist</th>\n",
       "      <th>adenosine_receptor_antagonist</th>\n",
       "      <th>adenylyl_cyclase_activator</th>\n",
       "      <th>...</th>\n",
       "      <th>tropomyosin_receptor_kinase_inhibitor</th>\n",
       "      <th>trpv_agonist</th>\n",
       "      <th>trpv_antagonist</th>\n",
       "      <th>tubulin_inhibitor</th>\n",
       "      <th>tyrosine_kinase_inhibitor</th>\n",
       "      <th>ubiquitin_specific_protease_inhibitor</th>\n",
       "      <th>vegfr_inhibitor</th>\n",
       "      <th>vitamin_b</th>\n",
       "      <th>vitamin_d_receptor_agonist</th>\n",
       "      <th>wnt_inhibitor</th>\n",
       "    </tr>\n",
       "  </thead>\n",
       "  <tbody>\n",
       "    <tr>\n",
       "      <th>0</th>\n",
       "      <td>id_0004d9e33</td>\n",
       "      <td>0.001002</td>\n",
       "      <td>0.001112</td>\n",
       "      <td>0.002165</td>\n",
       "      <td>0.018196</td>\n",
       "      <td>0.022460</td>\n",
       "      <td>0.004738</td>\n",
       "      <td>0.002724</td>\n",
       "      <td>0.005239</td>\n",
       "      <td>0.000302</td>\n",
       "      <td>...</td>\n",
       "      <td>0.000780</td>\n",
       "      <td>0.001114</td>\n",
       "      <td>0.004405</td>\n",
       "      <td>0.000822</td>\n",
       "      <td>0.000822</td>\n",
       "      <td>0.000606</td>\n",
       "      <td>0.000723</td>\n",
       "      <td>0.002170</td>\n",
       "      <td>0.004622</td>\n",
       "      <td>0.001847</td>\n",
       "    </tr>\n",
       "    <tr>\n",
       "      <th>1</th>\n",
       "      <td>id_001897cda</td>\n",
       "      <td>0.000459</td>\n",
       "      <td>0.000886</td>\n",
       "      <td>0.002480</td>\n",
       "      <td>0.002295</td>\n",
       "      <td>0.001175</td>\n",
       "      <td>0.001854</td>\n",
       "      <td>0.002101</td>\n",
       "      <td>0.010225</td>\n",
       "      <td>0.002513</td>\n",
       "      <td>...</td>\n",
       "      <td>0.000834</td>\n",
       "      <td>0.001977</td>\n",
       "      <td>0.004655</td>\n",
       "      <td>0.000938</td>\n",
       "      <td>0.005871</td>\n",
       "      <td>0.000592</td>\n",
       "      <td>0.007098</td>\n",
       "      <td>0.001253</td>\n",
       "      <td>0.014391</td>\n",
       "      <td>0.002985</td>\n",
       "    </tr>\n",
       "    <tr>\n",
       "      <th>2</th>\n",
       "      <td>id_002429b5b</td>\n",
       "      <td>0.000000</td>\n",
       "      <td>0.000000</td>\n",
       "      <td>0.000000</td>\n",
       "      <td>0.000000</td>\n",
       "      <td>0.000000</td>\n",
       "      <td>0.000000</td>\n",
       "      <td>0.000000</td>\n",
       "      <td>0.000000</td>\n",
       "      <td>0.000000</td>\n",
       "      <td>...</td>\n",
       "      <td>0.000000</td>\n",
       "      <td>0.000000</td>\n",
       "      <td>0.000000</td>\n",
       "      <td>0.000000</td>\n",
       "      <td>0.000000</td>\n",
       "      <td>0.000000</td>\n",
       "      <td>0.000000</td>\n",
       "      <td>0.000000</td>\n",
       "      <td>0.000000</td>\n",
       "      <td>0.000000</td>\n",
       "    </tr>\n",
       "    <tr>\n",
       "      <th>3</th>\n",
       "      <td>id_00276f245</td>\n",
       "      <td>0.000776</td>\n",
       "      <td>0.000973</td>\n",
       "      <td>0.001689</td>\n",
       "      <td>0.008251</td>\n",
       "      <td>0.015592</td>\n",
       "      <td>0.004523</td>\n",
       "      <td>0.002290</td>\n",
       "      <td>0.006144</td>\n",
       "      <td>0.000207</td>\n",
       "      <td>...</td>\n",
       "      <td>0.000560</td>\n",
       "      <td>0.001848</td>\n",
       "      <td>0.002133</td>\n",
       "      <td>0.011797</td>\n",
       "      <td>0.004341</td>\n",
       "      <td>0.000584</td>\n",
       "      <td>0.001495</td>\n",
       "      <td>0.001551</td>\n",
       "      <td>0.000547</td>\n",
       "      <td>0.001505</td>\n",
       "    </tr>\n",
       "    <tr>\n",
       "      <th>4</th>\n",
       "      <td>id_0027f1083</td>\n",
       "      <td>0.001510</td>\n",
       "      <td>0.001374</td>\n",
       "      <td>0.001459</td>\n",
       "      <td>0.016903</td>\n",
       "      <td>0.022373</td>\n",
       "      <td>0.004986</td>\n",
       "      <td>0.004101</td>\n",
       "      <td>0.002954</td>\n",
       "      <td>0.000565</td>\n",
       "      <td>...</td>\n",
       "      <td>0.000731</td>\n",
       "      <td>0.000713</td>\n",
       "      <td>0.002816</td>\n",
       "      <td>0.001272</td>\n",
       "      <td>0.001393</td>\n",
       "      <td>0.000703</td>\n",
       "      <td>0.001070</td>\n",
       "      <td>0.002063</td>\n",
       "      <td>0.000388</td>\n",
       "      <td>0.001784</td>\n",
       "    </tr>\n",
       "  </tbody>\n",
       "</table>\n",
       "<p>5 rows × 207 columns</p>\n",
       "</div>"
      ],
      "text/plain": [
       "         sig_id  5-alpha_reductase_inhibitor  11-beta-hsd1_inhibitor  \\\n",
       "0  id_0004d9e33                     0.001002                0.001112   \n",
       "1  id_001897cda                     0.000459                0.000886   \n",
       "2  id_002429b5b                     0.000000                0.000000   \n",
       "3  id_00276f245                     0.000776                0.000973   \n",
       "4  id_0027f1083                     0.001510                0.001374   \n",
       "\n",
       "   acat_inhibitor  acetylcholine_receptor_agonist  \\\n",
       "0        0.002165                        0.018196   \n",
       "1        0.002480                        0.002295   \n",
       "2        0.000000                        0.000000   \n",
       "3        0.001689                        0.008251   \n",
       "4        0.001459                        0.016903   \n",
       "\n",
       "   acetylcholine_receptor_antagonist  acetylcholinesterase_inhibitor  \\\n",
       "0                           0.022460                        0.004738   \n",
       "1                           0.001175                        0.001854   \n",
       "2                           0.000000                        0.000000   \n",
       "3                           0.015592                        0.004523   \n",
       "4                           0.022373                        0.004986   \n",
       "\n",
       "   adenosine_receptor_agonist  adenosine_receptor_antagonist  \\\n",
       "0                    0.002724                       0.005239   \n",
       "1                    0.002101                       0.010225   \n",
       "2                    0.000000                       0.000000   \n",
       "3                    0.002290                       0.006144   \n",
       "4                    0.004101                       0.002954   \n",
       "\n",
       "   adenylyl_cyclase_activator  ...  tropomyosin_receptor_kinase_inhibitor  \\\n",
       "0                    0.000302  ...                               0.000780   \n",
       "1                    0.002513  ...                               0.000834   \n",
       "2                    0.000000  ...                               0.000000   \n",
       "3                    0.000207  ...                               0.000560   \n",
       "4                    0.000565  ...                               0.000731   \n",
       "\n",
       "   trpv_agonist  trpv_antagonist  tubulin_inhibitor  \\\n",
       "0      0.001114         0.004405           0.000822   \n",
       "1      0.001977         0.004655           0.000938   \n",
       "2      0.000000         0.000000           0.000000   \n",
       "3      0.001848         0.002133           0.011797   \n",
       "4      0.000713         0.002816           0.001272   \n",
       "\n",
       "   tyrosine_kinase_inhibitor  ubiquitin_specific_protease_inhibitor  \\\n",
       "0                   0.000822                               0.000606   \n",
       "1                   0.005871                               0.000592   \n",
       "2                   0.000000                               0.000000   \n",
       "3                   0.004341                               0.000584   \n",
       "4                   0.001393                               0.000703   \n",
       "\n",
       "   vegfr_inhibitor  vitamin_b  vitamin_d_receptor_agonist  wnt_inhibitor  \n",
       "0         0.000723   0.002170                    0.004622       0.001847  \n",
       "1         0.007098   0.001253                    0.014391       0.002985  \n",
       "2         0.000000   0.000000                    0.000000       0.000000  \n",
       "3         0.001495   0.001551                    0.000547       0.001505  \n",
       "4         0.001070   0.002063                    0.000388       0.001784  \n",
       "\n",
       "[5 rows x 207 columns]"
      ]
     },
     "execution_count": 39,
     "metadata": {},
     "output_type": "execute_result"
    }
   ],
   "source": [
    "all_feat = [col for col in df.columns if col not in [\"sig_id\"]]\n",
    "# To obtain the same lenght of test_preds_all and submission\n",
    "test = pd.read_csv(\"../input/lish-moa/test_features.csv\")\n",
    "sig_id = test[test[\"cp_type\"] != \"ctl_vehicle\"].sig_id.reset_index(drop = True)\n",
    "tmp = pd.DataFrame(test_preds_all.mean(axis = 0), columns = all_feat)\n",
    "tmp[\"sig_id\"] = sig_id\n",
    "\n",
    "submission = pd.merge(test[[\"sig_id\"]], tmp, on = \"sig_id\", how = \"left\")\n",
    "submission.fillna(0, inplace = True)\n",
    "submission.to_csv(\"submission.csv\", index = None)\n",
    "submission.head()"
   ]
  },
  {
   "cell_type": "code",
   "execution_count": 40,
   "metadata": {
    "execution": {
     "iopub.execute_input": "2020-11-29T11:46:03.730716Z",
     "iopub.status.busy": "2020-11-29T11:46:03.729658Z",
     "iopub.status.idle": "2020-11-29T11:46:03.735145Z",
     "shell.execute_reply": "2020-11-29T11:46:03.731699Z"
    },
    "papermill": {
     "duration": 0.201683,
     "end_time": "2020-11-29T11:46:03.735287",
     "exception": false,
     "start_time": "2020-11-29T11:46:03.533604",
     "status": "completed"
    },
    "tags": []
   },
   "outputs": [
    {
     "name": "stdout",
     "output_type": "stream",
     "text": [
      "\u001b[34msubmission.shape: \u001b[31m(3982, 207)\n"
     ]
    }
   ],
   "source": [
    "print(f\"{b_}submission.shape: {r_}{submission.shape}\")"
   ]
  },
  {
   "cell_type": "code",
   "execution_count": null,
   "metadata": {
    "papermill": {
     "duration": 0.252237,
     "end_time": "2020-11-29T11:46:04.241526",
     "exception": false,
     "start_time": "2020-11-29T11:46:03.989289",
     "status": "completed"
    },
    "tags": []
   },
   "outputs": [],
   "source": []
  }
 ],
 "metadata": {
  "kernelspec": {
   "display_name": "Python 3",
   "language": "python",
   "name": "python3"
  },
  "language_info": {
   "codemirror_mode": {
    "name": "ipython",
    "version": 3
   },
   "file_extension": ".py",
   "mimetype": "text/x-python",
   "name": "python",
   "nbconvert_exporter": "python",
   "pygments_lexer": "ipython3",
   "version": "3.7.3"
  },
  "papermill": {
   "duration": 3434.913841,
   "end_time": "2020-11-29T11:46:05.009631",
   "environment_variables": {},
   "exception": null,
   "input_path": "__notebook__.ipynb",
   "output_path": "__notebook__.ipynb",
   "parameters": {},
   "start_time": "2020-11-29T10:48:50.095790",
   "version": "2.1.0"
  }
 },
 "nbformat": 4,
 "nbformat_minor": 4
}
