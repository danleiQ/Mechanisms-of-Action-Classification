{
 "cells": [
  {
   "cell_type": "code",
   "execution_count": 1,
   "metadata": {
    "_cell_guid": "b1076dfc-b9ad-4769-8c92-a6c4dae69d19",
    "_uuid": "8f2839f25d086af736a60e9eeb907d3b93b6e0e5",
    "execution": {
     "iopub.execute_input": "2020-11-26T22:58:15.405399Z",
     "iopub.status.busy": "2020-11-26T22:58:15.404617Z",
     "iopub.status.idle": "2020-11-26T22:58:21.821405Z",
     "shell.execute_reply": "2020-11-26T22:58:21.820524Z"
    },
    "papermill": {
     "duration": 6.432825,
     "end_time": "2020-11-26T22:58:21.821565",
     "exception": false,
     "start_time": "2020-11-26T22:58:15.388740",
     "status": "completed"
    },
    "tags": []
   },
   "outputs": [],
   "source": [
    "import numpy as np\n",
    "import pandas as pd \n",
    "import matplotlib.pyplot as plt\n",
    "from sklearn.model_selection import KFold\n",
    "from sklearn import preprocessing\n",
    "from sklearn.metrics import confusion_matrix\n",
    "from sklearn.feature_selection import VarianceThreshold\n",
    "from sklearn.decomposition import PCA\n",
    "from tensorflow.keras import layers,regularizers,Sequential,Model,backend,callbacks,optimizers,metrics,losses\n",
    "import tensorflow as tf\n",
    "from tensorflow.keras.callbacks import ReduceLROnPlateau, ModelCheckpoint, EarlyStopping\n",
    "\n",
    "import sys\n",
    "import json\n",
    "sys.path.append('../input/iterative-stratification/iterative-stratification-master')\n",
    "from iterstrat.ml_stratifiers import MultilabelStratifiedKFold"
   ]
  },
  {
   "cell_type": "code",
   "execution_count": 2,
   "metadata": {
    "_cell_guid": "79c7e3d0-c299-4dcb-8224-4455121ee9b0",
    "_uuid": "d629ff2d2480ee46fbb7e2d37f6b5fab8052498a",
    "execution": {
     "iopub.execute_input": "2020-11-26T22:58:21.848131Z",
     "iopub.status.busy": "2020-11-26T22:58:21.847302Z",
     "iopub.status.idle": "2020-11-26T22:58:27.372493Z",
     "shell.execute_reply": "2020-11-26T22:58:27.371734Z"
    },
    "papermill": {
     "duration": 5.542729,
     "end_time": "2020-11-26T22:58:27.372616",
     "exception": false,
     "start_time": "2020-11-26T22:58:21.829887",
     "status": "completed"
    },
    "tags": []
   },
   "outputs": [],
   "source": [
    "# Import train data, drop sig_id, cp_type\n",
    "\n",
    "train_features = pd.read_csv('/kaggle/input/lish-moa/train_features.csv')\n",
    "non_ctl_idx = train_features.loc[train_features['cp_type']!='ctl_vehicle'].index.to_list()\n",
    "train_features = train_features.drop(['sig_id','cp_type','cp_dose','cp_time'],axis=1)\n",
    "train_targets_scored = pd.read_csv('/kaggle/input/lish-moa/train_targets_scored.csv')\n",
    "train_targets_scored = train_targets_scored.drop('sig_id',axis=1)\n",
    "labels_train = train_targets_scored.values\n",
    "\n",
    "# Drop training data with ctl vehicle\n",
    "\n",
    "train_features = train_features.iloc[non_ctl_idx]\n",
    "labels_train = labels_train[non_ctl_idx]\n",
    "\n",
    "# Import test data\n",
    "\n",
    "test_features = pd.read_csv('/kaggle/input/lish-moa/test_features.csv')\n",
    "test_features = test_features.drop(['sig_id','cp_dose','cp_time'],axis=1)\n",
    "\n",
    "# Import predictors from public kernel\n",
    "\n",
    "json_file_path = '../input/t-test-pca-rfe-logistic-regression/main_predictors.json'\n",
    "\n",
    "with open(json_file_path, 'r') as j:\n",
    "    predictors = json.loads(j.read())\n",
    "    predictors = predictors['start_predictors']"
   ]
  },
  {
   "cell_type": "code",
   "execution_count": 3,
   "metadata": {
    "execution": {
     "iopub.execute_input": "2020-11-26T22:58:27.406959Z",
     "iopub.status.busy": "2020-11-26T22:58:27.405223Z",
     "iopub.status.idle": "2020-11-26T22:58:27.407831Z",
     "shell.execute_reply": "2020-11-26T22:58:27.408321Z"
    },
    "papermill": {
     "duration": 0.027475,
     "end_time": "2020-11-26T22:58:27.408437",
     "exception": false,
     "start_time": "2020-11-26T22:58:27.380962",
     "status": "completed"
    },
    "tags": []
   },
   "outputs": [],
   "source": [
    "# Create g-mean, c-mean, genes_pca (2 components), cells_pca (all components)\n",
    "\n",
    "cs = train_features.columns.str.contains('c-')\n",
    "gs = train_features.columns.str.contains('g-')\n",
    "\n",
    "def preprocessor(train,test):\n",
    "    \n",
    "    # PCA\n",
    "    \n",
    "    n_gs = 2 # No of PCA comps to include\n",
    "    n_cs = 100 # No of PCA comps to include\n",
    "    \n",
    "    pca_cs = PCA(n_components = n_cs)\n",
    "    pca_gs = PCA(n_components = n_gs)\n",
    "\n",
    "    train_pca_gs = pca_gs.fit_transform(train[:,gs])\n",
    "    train_pca_cs = pca_cs.fit_transform(train[:,cs])\n",
    "    test_pca_gs = pca_gs.transform(test[:,gs])\n",
    "    test_pca_cs = pca_cs.transform(test[:,cs])\n",
    "    \n",
    "    # c-mean, g-mean\n",
    "    \n",
    "    train_c_mean = train[:,cs].mean(axis=1)\n",
    "    test_c_mean = test[:,cs].mean(axis=1)\n",
    "    train_g_mean = train[:,gs].mean(axis=1)\n",
    "    test_g_mean = test[:,gs].mean(axis=1)\n",
    "    \n",
    "    # Append Features\n",
    "    \n",
    "    train = np.concatenate((train,train_pca_gs,train_pca_cs,train_c_mean[:,np.newaxis]\n",
    "                            ,train_g_mean[:,np.newaxis]),axis=1)\n",
    "    test = np.concatenate((test,test_pca_gs,test_pca_cs,test_c_mean[:,np.newaxis],\n",
    "                           test_g_mean[:,np.newaxis]),axis=1)\n",
    "    \n",
    "    # Scaler for numerical values\n",
    "\n",
    "    # Scale train data\n",
    "    scaler = preprocessing.StandardScaler()\n",
    "\n",
    "    train = scaler.fit_transform(train)\n",
    "\n",
    "    # Scale Test data\n",
    "    test = scaler.transform(test)\n",
    "    \n",
    "    return train, test\n"
   ]
  },
  {
   "cell_type": "code",
   "execution_count": 4,
   "metadata": {
    "execution": {
     "iopub.execute_input": "2020-11-26T22:58:27.431901Z",
     "iopub.status.busy": "2020-11-26T22:58:27.431264Z",
     "iopub.status.idle": "2020-11-26T22:58:27.435298Z",
     "shell.execute_reply": "2020-11-26T22:58:27.434672Z"
    },
    "papermill": {
     "duration": 0.019006,
     "end_time": "2020-11-26T22:58:27.435401",
     "exception": false,
     "start_time": "2020-11-26T22:58:27.416395",
     "status": "completed"
    },
    "tags": []
   },
   "outputs": [],
   "source": [
    "n_labels = train_targets_scored.shape[1]\n",
    "n_train = train_features.shape[0]\n",
    "n_test = test_features.shape[0]\n",
    "\n",
    "\n",
    "# Prediction Clipping Thresholds\n",
    "\n",
    "p_min = 0.0005\n",
    "p_max = 0.9995\n",
    "\n",
    "# OOF Evaluation Metric with clipping and no label smoothing\n",
    "\n",
    "def logloss(y_true, y_pred):\n",
    "    y_pred = tf.clip_by_value(y_pred,p_min,p_max)\n",
    "    return -backend.mean(y_true*backend.log(y_pred) + (1-y_true)*backend.log(1-y_pred))"
   ]
  },
  {
   "cell_type": "code",
   "execution_count": 5,
   "metadata": {
    "execution": {
     "iopub.execute_input": "2020-11-26T22:58:27.466282Z",
     "iopub.status.busy": "2020-11-26T22:58:27.464084Z",
     "iopub.status.idle": "2020-11-26T22:58:27.469045Z",
     "shell.execute_reply": "2020-11-26T22:58:27.468515Z"
    },
    "papermill": {
     "duration": 0.025615,
     "end_time": "2020-11-26T22:58:27.469134",
     "exception": false,
     "start_time": "2020-11-26T22:58:27.443519",
     "status": "completed"
    },
    "tags": []
   },
   "outputs": [],
   "source": [
    "def build_model(n_features, n_features_2, n_labels, label_smoothing = 0.0005):    \n",
    "    input_1 = layers.Input(shape = (n_features,), name = 'Input1')\n",
    "    input_2 = layers.Input(shape = (n_features_2,), name = 'Input2')\n",
    "\n",
    "    head_1 = Sequential([\n",
    "        layers.BatchNormalization(),\n",
    "        layers.Dropout(0.2),\n",
    "        layers.Dense(512, activation=\"elu\"), \n",
    "        layers.BatchNormalization(),\n",
    "        layers.Dense(256, activation = \"elu\")\n",
    "        ],name='Head1') \n",
    "\n",
    "    input_3 = head_1(input_1)\n",
    "    input_3_concat = layers.Concatenate()([input_2, input_3])\n",
    "\n",
    "    head_2 = Sequential([\n",
    "        layers.BatchNormalization(),\n",
    "        layers.Dropout(0.3),\n",
    "        layers.Dense(512, \"relu\"),\n",
    "        layers.BatchNormalization(),\n",
    "        layers.Dense(512, \"elu\"),\n",
    "        layers.BatchNormalization(),\n",
    "        layers.Dense(256, \"relu\"),\n",
    "        layers.BatchNormalization(),\n",
    "        layers.Dense(256, \"elu\")\n",
    "        ],name='Head2')\n",
    "\n",
    "    input_4 = head_2(input_3_concat)\n",
    "    input_4_avg = layers.Average()([input_3, input_4]) \n",
    "\n",
    "    head_3 = Sequential([\n",
    "        layers.BatchNormalization(),\n",
    "        layers.Dense(256, kernel_initializer='lecun_normal', activation='selu'),\n",
    "        layers.BatchNormalization(),\n",
    "        layers.Dense(n_labels, kernel_initializer='lecun_normal', activation='selu'),\n",
    "        layers.BatchNormalization(),\n",
    "        layers.Dense(n_labels, activation=\"sigmoid\")\n",
    "        ],name='Head3')\n",
    "\n",
    "    output = head_3(input_4_avg)\n",
    "\n",
    "\n",
    "    model = Model(inputs = [input_1, input_2], outputs = output)\n",
    "    model.compile(optimizer='adam', loss=losses.BinaryCrossentropy(label_smoothing=label_smoothing), metrics=logloss)\n",
    "    \n",
    "    return model"
   ]
  },
  {
   "cell_type": "code",
   "execution_count": 6,
   "metadata": {
    "execution": {
     "iopub.execute_input": "2020-11-26T22:58:27.504675Z",
     "iopub.status.busy": "2020-11-26T22:58:27.498378Z",
     "iopub.status.idle": "2020-11-26T23:37:16.082477Z",
     "shell.execute_reply": "2020-11-26T23:37:16.081915Z"
    },
    "papermill": {
     "duration": 2328.605273,
     "end_time": "2020-11-26T23:37:16.082602",
     "exception": false,
     "start_time": "2020-11-26T22:58:27.477329",
     "status": "completed"
    },
    "tags": []
   },
   "outputs": [
    {
     "name": "stdout",
     "output_type": "stream",
     "text": [
      "FOLDS: 0 seed: 37\n",
      "FOLDS: 1 seed: 37\n",
      "FOLDS: 2 seed: 37\n",
      "FOLDS: 3 seed: 37\n",
      "FOLDS: 4 seed: 37\n",
      "FOLDS: 5 seed: 37\n",
      "FOLDS: 6 seed: 37\n",
      "FOLDS: 7 seed: 37\n",
      "FOLDS: 8 seed: 37\n",
      "FOLDS: 9 seed: 37\n",
      "FOLDS: 0 seed: 12\n",
      "FOLDS: 1 seed: 12\n",
      "FOLDS: 2 seed: 12\n",
      "FOLDS: 3 seed: 12\n",
      "FOLDS: 4 seed: 12\n",
      "FOLDS: 5 seed: 12\n",
      "FOLDS: 6 seed: 12\n",
      "FOLDS: 7 seed: 12\n",
      "FOLDS: 8 seed: 12\n",
      "FOLDS: 9 seed: 12\n",
      "FOLDS: 0 seed: 72\n",
      "FOLDS: 1 seed: 72\n",
      "FOLDS: 2 seed: 72\n",
      "FOLDS: 3 seed: 72\n",
      "FOLDS: 4 seed: 72\n",
      "FOLDS: 5 seed: 72\n",
      "FOLDS: 6 seed: 72\n",
      "FOLDS: 7 seed: 72\n",
      "FOLDS: 8 seed: 72\n",
      "FOLDS: 9 seed: 72\n",
      "FOLDS: 0 seed: 9\n",
      "FOLDS: 1 seed: 9\n",
      "FOLDS: 2 seed: 9\n",
      "FOLDS: 3 seed: 9\n",
      "FOLDS: 4 seed: 9\n",
      "FOLDS: 5 seed: 9\n",
      "FOLDS: 6 seed: 9\n",
      "FOLDS: 7 seed: 9\n",
      "FOLDS: 8 seed: 9\n",
      "FOLDS: 9 seed: 9\n",
      "FOLDS: 0 seed: 75\n",
      "FOLDS: 1 seed: 75\n",
      "FOLDS: 2 seed: 75\n",
      "FOLDS: 3 seed: 75\n",
      "FOLDS: 4 seed: 75\n",
      "FOLDS: 5 seed: 75\n",
      "FOLDS: 6 seed: 75\n",
      "FOLDS: 7 seed: 75\n",
      "FOLDS: 8 seed: 75\n",
      "FOLDS: 9 seed: 75\n",
      "FOLDS: 0 seed: 5\n",
      "FOLDS: 1 seed: 5\n",
      "FOLDS: 2 seed: 5\n",
      "FOLDS: 3 seed: 5\n",
      "FOLDS: 4 seed: 5\n",
      "FOLDS: 5 seed: 5\n",
      "FOLDS: 6 seed: 5\n",
      "FOLDS: 7 seed: 5\n",
      "FOLDS: 8 seed: 5\n",
      "FOLDS: 9 seed: 5\n",
      "FOLDS: 0 seed: 79\n",
      "FOLDS: 1 seed: 79\n",
      "FOLDS: 2 seed: 79\n",
      "FOLDS: 3 seed: 79\n",
      "FOLDS: 4 seed: 79\n",
      "FOLDS: 5 seed: 79\n",
      "FOLDS: 6 seed: 79\n",
      "FOLDS: 7 seed: 79\n",
      "FOLDS: 8 seed: 79\n",
      "FOLDS: 9 seed: 79\n"
     ]
    }
   ],
   "source": [
    "# Generate Seeds\n",
    "\n",
    "n_seeds = 7 #7\n",
    "np.random.seed(1)\n",
    "seeds = np.random.randint(0,100,size=n_seeds)\n",
    "\n",
    "# Training Loop\n",
    "\n",
    "n_folds = 10\n",
    "y_pred = np.zeros((n_test,n_labels))\n",
    "oof = tf.constant(0.0)\n",
    "hists = []\n",
    "for seed in seeds:\n",
    "    fold = 0\n",
    "    kf = KFold(n_splits=n_folds,shuffle=True,random_state=seed)\n",
    "    for train, test in kf.split(train_features):\n",
    "        print(\"FOLDS:\", fold, 'seed:', seed)\n",
    "        \n",
    "        X_train, X_test = preprocessor(train_features.iloc[train].values,\n",
    "                                       train_features.iloc[test].values)\n",
    "        _,data_test = preprocessor(train_features.iloc[train].values,\n",
    "                                   test_features.drop('cp_type',axis=1).values)\n",
    "        X_train_2 = train_features.iloc[train][predictors].values\n",
    "        X_test_2 = train_features.iloc[test][predictors].values\n",
    "        data_test_2 = test_features[predictors].values\n",
    "        y_train = labels_train[train]\n",
    "        y_test = labels_train[test]\n",
    "        n_features = X_train.shape[1]\n",
    "        n_features_2 = X_train_2.shape[1]\n",
    "\n",
    "        model = build_model(n_features, n_features_2, n_labels)\n",
    "        \n",
    "        reduce_lr = ReduceLROnPlateau(monitor='val_logloss', factor=0.1, patience=2, mode='min', min_lr=1E-5)\n",
    "        early_stopping = EarlyStopping(monitor='val_logloss', min_delta=1E-5, patience=10, mode='min',restore_best_weights=True)\n",
    "        \n",
    "        checkpt = ModelCheckpoint(f'repeat:{seed}_Fold:{fold}.hdf5', monitor = 'val_loss', verbose = 0, \n",
    "                              save_best_only = True, mode = 'min')  ##save_weights_only = True,\n",
    "        \n",
    "\n",
    "        hist = model.fit([X_train,X_train_2],y_train, batch_size=128, epochs=192,verbose=0,validation_data = ([X_test,X_test_2],y_test),\n",
    "                         callbacks=[reduce_lr, early_stopping,checkpt])\n",
    "        hists.append(hist)\n",
    "        model.load_weights(f'repeat:{seed}_Fold:{fold}.hdf5')\n",
    "        # Save Model\n",
    "        #model.save('TwoHeads_seed_'+str(seed)+'_fold_'+str(fold))\n",
    "\n",
    "        # OOF Score\n",
    "        y_val = model.predict([X_test,X_test_2])\n",
    "        oof += logloss(tf.constant(y_test,dtype=tf.float32),tf.constant(y_val,dtype=tf.float32))/(n_folds*n_seeds)\n",
    "\n",
    "        # Run prediction\n",
    "        y_pred += model.predict([data_test,data_test_2])/(n_folds*n_seeds)\n",
    "\n",
    "        fold += 1"
   ]
  },
  {
   "cell_type": "code",
   "execution_count": 7,
   "metadata": {
    "execution": {
     "iopub.execute_input": "2020-11-26T23:37:16.153415Z",
     "iopub.status.busy": "2020-11-26T23:37:16.152438Z",
     "iopub.status.idle": "2020-11-26T23:37:16.882444Z",
     "shell.execute_reply": "2020-11-26T23:37:16.881940Z"
    },
    "papermill": {
     "duration": 0.767077,
     "end_time": "2020-11-26T23:37:16.882551",
     "exception": false,
     "start_time": "2020-11-26T23:37:16.115474",
     "status": "completed"
    },
    "tags": []
   },
   "outputs": [
    {
     "data": {
      "image/png": "[encoded data removed]",
      "text/plain": [
       "<IPython.core.display.Image object>"
      ]
     },
     "execution_count": 7,
     "metadata": {},
     "output_type": "execute_result"
    }
   ],
   "source": [
    "# Model Architecture\n",
    "\n",
    "tf.keras.utils.plot_model(model,show_shapes=True)"
   ]
  },
  {
   "cell_type": "code",
   "execution_count": 8,
   "metadata": {
    "execution": {
     "iopub.execute_input": "2020-11-26T23:37:16.964996Z",
     "iopub.status.busy": "2020-11-26T23:37:16.964361Z",
     "iopub.status.idle": "2020-11-26T23:37:17.565392Z",
     "shell.execute_reply": "2020-11-26T23:37:17.565890Z"
    },
    "papermill": {
     "duration": 0.649017,
     "end_time": "2020-11-26T23:37:17.566023",
     "exception": false,
     "start_time": "2020-11-26T23:37:16.917006",
     "status": "completed"
    },
    "tags": []
   },
   "outputs": [
    {
     "name": "stdout",
     "output_type": "stream",
     "text": [
      "OOF score is  0.0165640805\n"
     ]
    },
    {
     "data": {
      "text/plain": [
       "<matplotlib.legend.Legend at 0x7fccfbe22950>"
      ]
     },
     "execution_count": 8,
     "metadata": {},
     "output_type": "execute_result"
    },
    {
     "data": {
      "image/png": "[encoded data removed]",
      "text/plain": [
       "<Figure size 864x576 with 1 Axes>"
      ]
     },
     "metadata": {
      "needs_background": "light"
     },
     "output_type": "display_data"
    }
   ],
   "source": [
    "# Analysis of Training\n",
    "\n",
    "tf.print('OOF score is ',oof)\n",
    "\n",
    "plt.figure(figsize=(12,8))\n",
    "\n",
    "hist_trains = []\n",
    "hist_lens = []\n",
    "for i in range(n_folds*n_seeds):\n",
    "    hist_train = (hists[i]).history['logloss']\n",
    "    hist_trains.append(hist_train)\n",
    "    hist_lens.append(len(hist_train))\n",
    "hist_train = []\n",
    "for i in range(min(hist_lens)):\n",
    "    hist_train.append(np.mean([hist_trains[j][i] for j in range(n_folds*n_seeds)]))\n",
    "\n",
    "plt.plot(hist_train)\n",
    "\n",
    "hist_vals = []\n",
    "hist_lens = []\n",
    "for i in range(n_folds*n_seeds):\n",
    "    hist_val = (hists[i]).history['val_logloss']\n",
    "    hist_vals.append(hist_val)\n",
    "    hist_lens.append(len(hist_val))\n",
    "hist_val = []\n",
    "for i in range(min(hist_lens)):\n",
    "    hist_val.append(np.mean([hist_vals[j][i] for j in range(n_folds*n_seeds)]))\n",
    "\n",
    "plt.plot(hist_val)\n",
    "\n",
    "plt.yscale('log')\n",
    "plt.yticks(ticks=[1,1E-1,1E-2])\n",
    "plt.xlabel('Epochs')\n",
    "plt.ylabel('Average Logloss')\n",
    "plt.legend(['Training','Validation'])"
   ]
  },
  {
   "cell_type": "code",
   "execution_count": 9,
   "metadata": {
    "execution": {
     "iopub.execute_input": "2020-11-26T23:37:17.653695Z",
     "iopub.status.busy": "2020-11-26T23:37:17.652405Z",
     "iopub.status.idle": "2020-11-26T23:37:20.354545Z",
     "shell.execute_reply": "2020-11-26T23:37:20.353697Z"
    },
    "papermill": {
     "duration": 2.750047,
     "end_time": "2020-11-26T23:37:20.354708",
     "exception": false,
     "start_time": "2020-11-26T23:37:17.604661",
     "status": "completed"
    },
    "tags": []
   },
   "outputs": [],
   "source": [
    "# Generate submission file, Clip Predictions\n",
    "\n",
    "sub = pd.read_csv('/kaggle/input/lish-moa/sample_submission.csv')\n",
    "sub.iloc[:,1:] = np.clip(y_pred,p_min,p_max)\n",
    "\n",
    "# Set ctl_vehicle to 0\n",
    "sub.iloc[test_features['cp_type'] == 'ctl_vehicle',1:] = 0\n",
    "\n",
    "# Save Submission\n",
    "sub.to_csv('submission.csv', index=False)"
   ]
  }
 ],
 "metadata": {
  "kernelspec": {
   "display_name": "Python 3",
   "language": "python",
   "name": "python3"
  },
  "language_info": {
   "codemirror_mode": {
    "name": "ipython",
    "version": 3
   },
   "file_extension": ".py",
   "mimetype": "text/x-python",
   "name": "python",
   "nbconvert_exporter": "python",
   "pygments_lexer": "ipython3",
   "version": "3.7.3"
  },
  "papermill": {
   "duration": 2350.543965,
   "end_time": "2020-11-26T23:37:21.740142",
   "environment_variables": {},
   "exception": null,
   "input_path": "__notebook__.ipynb",
   "output_path": "__notebook__.ipynb",
   "parameters": {},
   "start_time": "2020-11-26T22:58:11.196177",
   "version": "2.1.0"
  }
 },
 "nbformat": 4,
 "nbformat_minor": 4
}
