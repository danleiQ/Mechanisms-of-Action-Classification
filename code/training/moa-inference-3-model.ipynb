{
 "cells": [
  {
   "cell_type": "markdown",
   "metadata": {
    "papermill": {
     "duration": 0.048616,
     "end_time": "2020-11-29T23:32:26.457996",
     "exception": false,
     "start_time": "2020-11-29T23:32:26.409380",
     "status": "completed"
    },
    "tags": []
   },
   "source": [
    "# **Tabnet**"
   ]
  },
  {
   "cell_type": "code",
   "execution_count": 1,
   "metadata": {
    "_cell_guid": "b1076dfc-b9ad-4769-8c92-a6c4dae69d19",
    "_kg_hide-output": true,
    "_uuid": "8f2839f25d086af736a60e9eeb907d3b93b6e0e5",
    "execution": {
     "iopub.execute_input": "2020-11-29T23:32:26.564560Z",
     "iopub.status.busy": "2020-11-29T23:32:26.563886Z",
     "iopub.status.idle": "2020-11-29T23:32:36.712543Z",
     "shell.execute_reply": "2020-11-29T23:32:36.713239Z"
    },
    "papermill": {
     "duration": 10.205916,
     "end_time": "2020-11-29T23:32:36.713448",
     "exception": false,
     "start_time": "2020-11-29T23:32:26.507532",
     "status": "completed"
    },
    "tags": []
   },
   "outputs": [
    {
     "name": "stdout",
     "output_type": "stream",
     "text": [
      "Looking in links: /kaggle/input/pytorchtabnet/pytorch_tabnet-2.0.0-py3-none-any.whl\r\n",
      "Processing /kaggle/input/pytorchtabnet/pytorch_tabnet-2.0.0-py3-none-any.whl\r\n",
      "Requirement already satisfied: scipy>1.4 in /opt/conda/lib/python3.7/site-packages (from pytorch-tabnet) (1.4.1)\r\n",
      "Requirement already satisfied: tqdm<5.0,>=4.36 in /opt/conda/lib/python3.7/site-packages (from pytorch-tabnet) (4.45.0)\r\n",
      "Requirement already satisfied: torch<2.0,>=1.2 in /opt/conda/lib/python3.7/site-packages (from pytorch-tabnet) (1.6.0)\r\n",
      "Requirement already satisfied: numpy<2.0,>=1.17 in /opt/conda/lib/python3.7/site-packages (from pytorch-tabnet) (1.18.5)\r\n",
      "Requirement already satisfied: scikit_learn>0.21 in /opt/conda/lib/python3.7/site-packages (from pytorch-tabnet) (0.23.2)\r\n",
      "Requirement already satisfied: future in /opt/conda/lib/python3.7/site-packages (from torch<2.0,>=1.2->pytorch-tabnet) (0.18.2)\r\n",
      "Requirement already satisfied: joblib>=0.11 in /opt/conda/lib/python3.7/site-packages (from scikit_learn>0.21->pytorch-tabnet) (0.14.1)\r\n",
      "Requirement already satisfied: threadpoolctl>=2.0.0 in /opt/conda/lib/python3.7/site-packages (from scikit_learn>0.21->pytorch-tabnet) (2.1.0)\r\n",
      "Installing collected packages: pytorch-tabnet\r\n",
      "Successfully installed pytorch-tabnet-2.0.0\r\n"
     ]
    }
   ],
   "source": [
    "# TabNet\n",
    "!pip install --no-index --find-links /kaggle/input/pytorchtabnet/pytorch_tabnet-2.0.0-py3-none-any.whl pytorch-tabnet"
   ]
  },
  {
   "cell_type": "code",
   "execution_count": 2,
   "metadata": {
    "execution": {
     "iopub.execute_input": "2020-11-29T23:32:36.875468Z",
     "iopub.status.busy": "2020-11-29T23:32:36.874832Z",
     "iopub.status.idle": "2020-11-29T23:32:37.911937Z",
     "shell.execute_reply": "2020-11-29T23:32:37.911235Z"
    },
    "papermill": {
     "duration": 1.119871,
     "end_time": "2020-11-29T23:32:37.912050",
     "exception": false,
     "start_time": "2020-11-29T23:32:36.792179",
     "status": "completed"
    },
    "tags": []
   },
   "outputs": [],
   "source": [
    "import sys\n",
    "sys.path.append('../input/iterativestratification')\n",
    "from iterstrat.ml_stratifiers import MultilabelStratifiedKFold"
   ]
  },
  {
   "cell_type": "code",
   "execution_count": 3,
   "metadata": {
    "_cell_guid": "79c7e3d0-c299-4dcb-8224-4455121ee9b0",
    "_uuid": "d629ff2d2480ee46fbb7e2d37f6b5fab8052498a",
    "execution": {
     "iopub.execute_input": "2020-11-29T23:32:38.030103Z",
     "iopub.status.busy": "2020-11-29T23:32:38.029344Z",
     "iopub.status.idle": "2020-11-29T23:32:39.116946Z",
     "shell.execute_reply": "2020-11-29T23:32:39.116098Z"
    },
    "papermill": {
     "duration": 1.15299,
     "end_time": "2020-11-29T23:32:39.117074",
     "exception": false,
     "start_time": "2020-11-29T23:32:37.964084",
     "status": "completed"
    },
    "tags": []
   },
   "outputs": [],
   "source": [
    "### General ###\n",
    "import os\n",
    "import copy\n",
    "import tqdm\n",
    "import pickle\n",
    "import random\n",
    "import warnings\n",
    "warnings.filterwarnings(\"ignore\")\n",
    "sys.path.append(\"../input/rank-gauss\")\n",
    "os.environ[\"CUDA_LAUNCH_BLOCKING\"] = '1'\n",
    "\n",
    "### Data Wrangling ###\n",
    "import numpy as np\n",
    "import pandas as pd\n",
    "from scipy import stats\n",
    "\n",
    "### Machine Learning ###\n",
    "from sklearn import preprocessing\n",
    "from sklearn.metrics import roc_auc_score, log_loss\n",
    "from sklearn.preprocessing import StandardScaler\n",
    "from sklearn.decomposition import PCA\n",
    "\n",
    "from pickle import load,dump\n",
    "\n",
    "### Deep Learning ###\n",
    "import torch\n",
    "from torch import nn\n",
    "import torch.optim as optim\n",
    "from torch.nn import functional as F\n",
    "from torch.nn.modules.loss import _WeightedLoss\n",
    "from torch.utils.data import DataLoader, Dataset\n",
    "from torch.optim.lr_scheduler import ReduceLROnPlateau\n",
    "# Tabnet \n",
    "from pytorch_tabnet.metrics import Metric\n",
    "from pytorch_tabnet.tab_model import TabNetRegressor\n",
    "\n",
    "### Make prettier the prints ###\n",
    "from colorama import Fore\n",
    "c_ = Fore.CYAN\n",
    "m_ = Fore.MAGENTA\n",
    "r_ = Fore.RED\n",
    "b_ = Fore.BLUE\n",
    "y_ = Fore.YELLOW\n",
    "g_ = Fore.GREEN"
   ]
  },
  {
   "cell_type": "code",
   "execution_count": 4,
   "metadata": {
    "execution": {
     "iopub.execute_input": "2020-11-29T23:32:39.281349Z",
     "iopub.status.busy": "2020-11-29T23:32:39.280503Z",
     "iopub.status.idle": "2020-11-29T23:32:39.284204Z",
     "shell.execute_reply": "2020-11-29T23:32:39.284756Z"
    },
    "papermill": {
     "duration": 0.089408,
     "end_time": "2020-11-29T23:32:39.284910",
     "exception": false,
     "start_time": "2020-11-29T23:32:39.195502",
     "status": "completed"
    },
    "tags": []
   },
   "outputs": [],
   "source": [
    "from sklearn.preprocessing import QuantileTransformer"
   ]
  },
  {
   "cell_type": "code",
   "execution_count": 5,
   "metadata": {
    "execution": {
     "iopub.execute_input": "2020-11-29T23:32:39.397054Z",
     "iopub.status.busy": "2020-11-29T23:32:39.396083Z",
     "iopub.status.idle": "2020-11-29T23:32:39.403875Z",
     "shell.execute_reply": "2020-11-29T23:32:39.403198Z"
    },
    "papermill": {
     "duration": 0.066298,
     "end_time": "2020-11-29T23:32:39.403990",
     "exception": false,
     "start_time": "2020-11-29T23:32:39.337692",
     "status": "completed"
    },
    "tags": []
   },
   "outputs": [
    {
     "data": {
      "text/plain": [
       "['sample_submission.csv',\n",
       " 'train_drug.csv',\n",
       " 'train_targets_scored.csv',\n",
       " 'train_targets_nonscored.csv',\n",
       " 'train_features.csv',\n",
       " 'test_features.csv']"
      ]
     },
     "execution_count": 5,
     "metadata": {},
     "output_type": "execute_result"
    }
   ],
   "source": [
    "os.listdir('../input/lish-moa')"
   ]
  },
  {
   "cell_type": "code",
   "execution_count": 6,
   "metadata": {
    "execution": {
     "iopub.execute_input": "2020-11-29T23:32:39.520886Z",
     "iopub.status.busy": "2020-11-29T23:32:39.519975Z",
     "iopub.status.idle": "2020-11-29T23:32:45.151200Z",
     "shell.execute_reply": "2020-11-29T23:32:45.150690Z"
    },
    "papermill": {
     "duration": 5.692815,
     "end_time": "2020-11-29T23:32:45.151311",
     "exception": false,
     "start_time": "2020-11-29T23:32:39.458496",
     "status": "completed"
    },
    "tags": []
   },
   "outputs": [],
   "source": [
    "train_features = pd.read_csv('../input/lish-moa/train_features.csv')\n",
    "train_targets_scored = pd.read_csv('../input/lish-moa/train_targets_scored.csv')\n",
    "train_targets_nonscored = pd.read_csv('../input/lish-moa/train_targets_nonscored.csv')\n",
    "train_drug = pd.read_csv('../input/lish-moa/train_drug.csv')\n",
    "\n",
    "test_features = pd.read_csv('../input/lish-moa/test_features.csv')\n",
    "df = pd.read_csv('../input/lish-moa/sample_submission.csv')"
   ]
  },
  {
   "cell_type": "code",
   "execution_count": 7,
   "metadata": {
    "execution": {
     "iopub.execute_input": "2020-11-29T23:32:45.261470Z",
     "iopub.status.busy": "2020-11-29T23:32:45.260862Z",
     "iopub.status.idle": "2020-11-29T23:32:45.321279Z",
     "shell.execute_reply": "2020-11-29T23:32:45.320799Z"
    },
    "papermill": {
     "duration": 0.117417,
     "end_time": "2020-11-29T23:32:45.321391",
     "exception": false,
     "start_time": "2020-11-29T23:32:45.203974",
     "status": "completed"
    },
    "tags": []
   },
   "outputs": [],
   "source": [
    "train_features2=train_features.copy()\n",
    "test_features2=test_features.copy()"
   ]
  },
  {
   "cell_type": "code",
   "execution_count": 8,
   "metadata": {
    "execution": {
     "iopub.execute_input": "2020-11-29T23:32:45.436870Z",
     "iopub.status.busy": "2020-11-29T23:32:45.435973Z",
     "iopub.status.idle": "2020-11-29T23:32:45.439763Z",
     "shell.execute_reply": "2020-11-29T23:32:45.439213Z"
    },
    "papermill": {
     "duration": 0.064909,
     "end_time": "2020-11-29T23:32:45.439884",
     "exception": false,
     "start_time": "2020-11-29T23:32:45.374975",
     "status": "completed"
    },
    "tags": []
   },
   "outputs": [],
   "source": [
    "GENES = [col for col in train_features.columns if col.startswith('g-')]\n",
    "CELLS = [col for col in train_features.columns if col.startswith('c-')]"
   ]
  },
  {
   "cell_type": "code",
   "execution_count": 9,
   "metadata": {
    "execution": {
     "iopub.execute_input": "2020-11-29T23:32:45.570001Z",
     "iopub.status.busy": "2020-11-29T23:32:45.567652Z",
     "iopub.status.idle": "2020-11-29T23:32:54.491902Z",
     "shell.execute_reply": "2020-11-29T23:32:54.490963Z"
    },
    "papermill": {
     "duration": 8.995485,
     "end_time": "2020-11-29T23:32:54.492043",
     "exception": false,
     "start_time": "2020-11-29T23:32:45.496558",
     "status": "completed"
    },
    "tags": []
   },
   "outputs": [],
   "source": [
    "qt = QuantileTransformer(n_quantiles=100,random_state=42,output_distribution='normal')\n",
    "data = pd.concat([pd.DataFrame(train_features[GENES+CELLS]), pd.DataFrame(test_features[GENES+CELLS])])\n",
    "data2 = qt.fit_transform(data[GENES+CELLS])\n",
    "train_features[GENES+CELLS] = pd.DataFrame(data2[:train_features.shape[0]])\n",
    "test_features[GENES+CELLS] = pd.DataFrame(data2[-test_features.shape[0]:])"
   ]
  },
  {
   "cell_type": "code",
   "execution_count": 10,
   "metadata": {
    "execution": {
     "iopub.execute_input": "2020-11-29T23:32:54.607110Z",
     "iopub.status.busy": "2020-11-29T23:32:54.606521Z",
     "iopub.status.idle": "2020-11-29T23:32:54.613496Z",
     "shell.execute_reply": "2020-11-29T23:32:54.612853Z"
    },
    "papermill": {
     "duration": 0.066677,
     "end_time": "2020-11-29T23:32:54.613605",
     "exception": false,
     "start_time": "2020-11-29T23:32:54.546928",
     "status": "completed"
    },
    "tags": []
   },
   "outputs": [],
   "source": [
    "seed = 42\n",
    "\n",
    "def set_seed(seed):\n",
    "    random.seed(seed)\n",
    "    np.random.seed(seed)\n",
    "    torch.manual_seed(seed)\n",
    "    os.environ[\"PYTHONHASHSEED\"] = str(seed)\n",
    "    \n",
    "    if torch.cuda.is_available():\n",
    "        torch.cuda.manual_seed(seed)\n",
    "        torch.cuda.manual_seed_all(seed)\n",
    "        torch.backends.cudnn.deterministic = True\n",
    "        torch.backends.cudnn.benchmark = False\n",
    "set_seed(seed)"
   ]
  },
  {
   "cell_type": "code",
   "execution_count": 11,
   "metadata": {
    "execution": {
     "iopub.execute_input": "2020-11-29T23:32:54.728808Z",
     "iopub.status.busy": "2020-11-29T23:32:54.728137Z",
     "iopub.status.idle": "2020-11-29T23:32:55.403559Z",
     "shell.execute_reply": "2020-11-29T23:32:55.404144Z"
    },
    "papermill": {
     "duration": 0.73662,
     "end_time": "2020-11-29T23:32:55.404315",
     "exception": false,
     "start_time": "2020-11-29T23:32:54.667695",
     "status": "completed"
    },
    "tags": []
   },
   "outputs": [],
   "source": [
    "# GENES\n",
    "n_comp = 600  #<--Update\n",
    "gpca= load(open('../input/moa-tabnet-last-last/gpca.pkl', 'rb'))\n",
    "train2= (gpca.transform(train_features[GENES]))\n",
    "test2 = (gpca.transform(test_features[GENES]))\n",
    "\n",
    "train_gpca = pd.DataFrame(train2, columns=[f'pca_G-{i}' for i in range(n_comp)])\n",
    "test_gpca = pd.DataFrame(test2, columns=[f'pca_G-{i}' for i in range(n_comp)])\n",
    "\n",
    "# drop_cols = [f'c-{i}' for i in range(n_comp,len(GENES))]\n",
    "train_features = pd.concat((train_features, train_gpca), axis=1)\n",
    "test_features = pd.concat((test_features, test_gpca), axis=1)"
   ]
  },
  {
   "cell_type": "code",
   "execution_count": 12,
   "metadata": {
    "execution": {
     "iopub.execute_input": "2020-11-29T23:32:55.527674Z",
     "iopub.status.busy": "2020-11-29T23:32:55.526537Z",
     "iopub.status.idle": "2020-11-29T23:32:55.774008Z",
     "shell.execute_reply": "2020-11-29T23:32:55.773259Z"
    },
    "papermill": {
     "duration": 0.312316,
     "end_time": "2020-11-29T23:32:55.774149",
     "exception": false,
     "start_time": "2020-11-29T23:32:55.461833",
     "status": "completed"
    },
    "tags": []
   },
   "outputs": [],
   "source": [
    "#CELLS\n",
    "n_comp = 50  #<--Update\n",
    "\n",
    "cpca= load(open('../input/moa-tabnet-last-last/cpca.pkl', 'rb'))\n",
    "train2= (cpca.transform(train_features[CELLS]))\n",
    "test2 = (cpca.transform(test_features[CELLS]))\n",
    "\n",
    "train_cpca = pd.DataFrame(train2, columns=[f'pca_C-{i}' for i in range(n_comp)])\n",
    "test_cpca = pd.DataFrame(test2, columns=[f'pca_C-{i}' for i in range(n_comp)])\n",
    "\n",
    "# drop_cols = [f'c-{i}' for i in range(n_comp,len(CELLS))]\n",
    "train_features = pd.concat((train_features, train_cpca), axis=1)\n",
    "test_features = pd.concat((test_features, test_cpca), axis=1)"
   ]
  },
  {
   "cell_type": "code",
   "execution_count": 13,
   "metadata": {
    "execution": {
     "iopub.execute_input": "2020-11-29T23:32:55.944993Z",
     "iopub.status.busy": "2020-11-29T23:32:55.944169Z",
     "iopub.status.idle": "2020-11-29T23:32:56.339989Z",
     "shell.execute_reply": "2020-11-29T23:32:56.339394Z"
    },
    "papermill": {
     "duration": 0.484012,
     "end_time": "2020-11-29T23:32:56.340112",
     "exception": false,
     "start_time": "2020-11-29T23:32:55.856100",
     "status": "completed"
    },
    "tags": []
   },
   "outputs": [],
   "source": [
    "from sklearn.feature_selection import VarianceThreshold\n",
    "\n",
    "c_n = [f for f in list(train_features.columns) if f not in ['sig_id', 'cp_type', 'cp_time', 'cp_dose']]\n",
    "mask = (train_features[c_n].var() >= 0.85).values\n",
    "tmp = train_features[c_n].loc[:, mask]\n",
    "train_features = pd.concat([train_features[['sig_id', 'cp_type', 'cp_time', 'cp_dose']], tmp], axis=1)\n",
    "tmp = test_features[c_n].loc[:, mask]\n",
    "test_features = pd.concat([test_features[['sig_id', 'cp_type', 'cp_time', 'cp_dose']], tmp], axis=1)"
   ]
  },
  {
   "cell_type": "code",
   "execution_count": 14,
   "metadata": {
    "execution": {
     "iopub.execute_input": "2020-11-29T23:32:56.459798Z",
     "iopub.status.busy": "2020-11-29T23:32:56.458393Z",
     "iopub.status.idle": "2020-11-29T23:32:56.809646Z",
     "shell.execute_reply": "2020-11-29T23:32:56.810163Z"
    },
    "papermill": {
     "duration": 0.414832,
     "end_time": "2020-11-29T23:32:56.810302",
     "exception": false,
     "start_time": "2020-11-29T23:32:56.395470",
     "status": "completed"
    },
    "tags": []
   },
   "outputs": [],
   "source": [
    "from sklearn.cluster import KMeans\n",
    "def fe_cluster_genes(train, test, n_clusters_g = 22, SEED = 42):\n",
    "    \n",
    "    features_g = GENES\n",
    "    #features_c = CELLS\n",
    "    \n",
    "    def create_cluster(train, test, features, kind = 'g', n_clusters = n_clusters_g):\n",
    "        train_ = train[features].copy()\n",
    "        test_ = test[features].copy()\n",
    "        kmeans_genes = load(open('../input/moa-tabnet-last-last/kmeans_genes.pkl', 'rb'))\n",
    "        train[f'clusters_{kind}'] = kmeans_genes.predict(train_.values)\n",
    "        test[f'clusters_{kind}'] = kmeans_genes.predict(test_.values)\n",
    "        train = pd.get_dummies(train, columns = [f'clusters_{kind}'])\n",
    "        test = pd.get_dummies(test, columns = [f'clusters_{kind}'])\n",
    "        return train, test\n",
    "    \n",
    "    train, test = create_cluster(train, test, features_g, kind = 'g', n_clusters = n_clusters_g)\n",
    "   # train, test = create_cluster(train, test, features_c, kind = 'c', n_clusters = n_clusters_c)\n",
    "    return train, test\n",
    "\n",
    "train_features2 ,test_features2=fe_cluster_genes(train_features2,test_features2)"
   ]
  },
  {
   "cell_type": "code",
   "execution_count": 15,
   "metadata": {
    "execution": {
     "iopub.execute_input": "2020-11-29T23:32:56.932230Z",
     "iopub.status.busy": "2020-11-29T23:32:56.931472Z",
     "iopub.status.idle": "2020-11-29T23:32:57.029478Z",
     "shell.execute_reply": "2020-11-29T23:32:57.028134Z"
    },
    "papermill": {
     "duration": 0.164967,
     "end_time": "2020-11-29T23:32:57.029594",
     "exception": false,
     "start_time": "2020-11-29T23:32:56.864627",
     "status": "completed"
    },
    "tags": []
   },
   "outputs": [],
   "source": [
    "def fe_cluster_cells(train, test, n_clusters_c = 4, SEED = 42):\n",
    "    \n",
    "    #features_g = GENES\n",
    "    features_c = CELLS\n",
    "    \n",
    "    def create_cluster(train, test, features, kind = 'c', n_clusters = n_clusters_c):\n",
    "        train_ = train[features].copy()\n",
    "        test_ = test[features].copy()\n",
    "        kmeans_cells = load(open('../input/moa-tabnet-last-last/kmeans_cells.pkl', 'rb'))\n",
    "        train[f'clusters_{kind}'] = kmeans_cells.predict(train_.values)\n",
    "        test[f'clusters_{kind}'] = kmeans_cells.predict(test_.values)\n",
    "        train = pd.get_dummies(train, columns = [f'clusters_{kind}'])\n",
    "        test = pd.get_dummies(test, columns = [f'clusters_{kind}'])\n",
    "        return train, test\n",
    "    \n",
    "   # train, test = create_cluster(train, test, features_g, kind = 'g', n_clusters = n_clusters_g)\n",
    "    train, test = create_cluster(train, test, features_c, kind = 'c', n_clusters = n_clusters_c)\n",
    "    return train, test\n",
    "\n",
    "train_features2 ,test_features2=fe_cluster_cells(train_features2,test_features2)"
   ]
  },
  {
   "cell_type": "code",
   "execution_count": 16,
   "metadata": {
    "execution": {
     "iopub.execute_input": "2020-11-29T23:32:57.143457Z",
     "iopub.status.busy": "2020-11-29T23:32:57.142578Z",
     "iopub.status.idle": "2020-11-29T23:32:57.189468Z",
     "shell.execute_reply": "2020-11-29T23:32:57.188808Z"
    },
    "papermill": {
     "duration": 0.105763,
     "end_time": "2020-11-29T23:32:57.189586",
     "exception": false,
     "start_time": "2020-11-29T23:32:57.083823",
     "status": "completed"
    },
    "tags": []
   },
   "outputs": [],
   "source": [
    "train_pca=pd.concat((train_gpca,train_cpca),axis=1)\n",
    "test_pca=pd.concat((test_gpca,test_cpca),axis=1)"
   ]
  },
  {
   "cell_type": "code",
   "execution_count": 17,
   "metadata": {
    "execution": {
     "iopub.execute_input": "2020-11-29T23:32:57.308756Z",
     "iopub.status.busy": "2020-11-29T23:32:57.308063Z",
     "iopub.status.idle": "2020-11-29T23:32:57.495266Z",
     "shell.execute_reply": "2020-11-29T23:32:57.493911Z"
    },
    "papermill": {
     "duration": 0.251503,
     "end_time": "2020-11-29T23:32:57.495473",
     "exception": false,
     "start_time": "2020-11-29T23:32:57.243970",
     "status": "completed"
    },
    "tags": []
   },
   "outputs": [],
   "source": [
    "def fe_cluster_pca(train, test,n_clusters=5,SEED = 42):\n",
    "        kmeans_pca = load(open('../input/moa-tabnet-last-last/kmeans_pca.pkl', 'rb'))\n",
    "        train[f'clusters_pca'] = kmeans_pca.predict(train.values)\n",
    "        test[f'clusters_pca'] = kmeans_pca.predict(test.values)\n",
    "        train = pd.get_dummies(train, columns = [f'clusters_pca'])\n",
    "        test = pd.get_dummies(test, columns = [f'clusters_pca'])\n",
    "        return train, test\n",
    "train_cluster_pca ,test_cluster_pca = fe_cluster_pca(train_pca,test_pca)"
   ]
  },
  {
   "cell_type": "code",
   "execution_count": 18,
   "metadata": {
    "execution": {
     "iopub.execute_input": "2020-11-29T23:32:57.666969Z",
     "iopub.status.busy": "2020-11-29T23:32:57.665105Z",
     "iopub.status.idle": "2020-11-29T23:32:57.670037Z",
     "shell.execute_reply": "2020-11-29T23:32:57.669377Z"
    },
    "papermill": {
     "duration": 0.091972,
     "end_time": "2020-11-29T23:32:57.670147",
     "exception": false,
     "start_time": "2020-11-29T23:32:57.578175",
     "status": "completed"
    },
    "tags": []
   },
   "outputs": [],
   "source": [
    "train_cluster_pca = train_cluster_pca.iloc[:,650:]\n",
    "test_cluster_pca = test_cluster_pca.iloc[:,650:]"
   ]
  },
  {
   "cell_type": "code",
   "execution_count": 19,
   "metadata": {
    "execution": {
     "iopub.execute_input": "2020-11-29T23:32:57.784763Z",
     "iopub.status.busy": "2020-11-29T23:32:57.783844Z",
     "iopub.status.idle": "2020-11-29T23:32:57.789273Z",
     "shell.execute_reply": "2020-11-29T23:32:57.788738Z"
    },
    "papermill": {
     "duration": 0.06382,
     "end_time": "2020-11-29T23:32:57.789375",
     "exception": false,
     "start_time": "2020-11-29T23:32:57.725555",
     "status": "completed"
    },
    "tags": []
   },
   "outputs": [],
   "source": [
    "train_features_cluster=train_features2.iloc[:,876:]\n",
    "test_features_cluster=test_features2.iloc[:,876:]"
   ]
  },
  {
   "cell_type": "code",
   "execution_count": 20,
   "metadata": {
    "execution": {
     "iopub.execute_input": "2020-11-29T23:32:57.906678Z",
     "iopub.status.busy": "2020-11-29T23:32:57.905982Z",
     "iopub.status.idle": "2020-11-29T23:32:57.910141Z",
     "shell.execute_reply": "2020-11-29T23:32:57.909657Z"
    },
    "papermill": {
     "duration": 0.066753,
     "end_time": "2020-11-29T23:32:57.910242",
     "exception": false,
     "start_time": "2020-11-29T23:32:57.843489",
     "status": "completed"
    },
    "tags": []
   },
   "outputs": [],
   "source": [
    "\n",
    "gsquarecols=['g-574','g-211','g-216','g-0','g-255','g-577','g-153','g-389','g-60','g-370','g-248','g-167','g-203','g-177','g-301','g-332','g-517','g-6','g-744','g-224','g-162','g-3','g-736','g-486','g-283','g-22','g-359','g-361','g-440','g-335','g-106','g-307','g-745','g-146','g-416','g-298','g-666','g-91','g-17','g-549','g-145','g-157','g-768','g-568','g-396']"
   ]
  },
  {
   "cell_type": "code",
   "execution_count": 21,
   "metadata": {
    "execution": {
     "iopub.execute_input": "2020-11-29T23:32:58.038535Z",
     "iopub.status.busy": "2020-11-29T23:32:58.033348Z",
     "iopub.status.idle": "2020-11-29T23:33:01.615260Z",
     "shell.execute_reply": "2020-11-29T23:33:01.614557Z"
    },
    "papermill": {
     "duration": 3.650635,
     "end_time": "2020-11-29T23:33:01.615399",
     "exception": false,
     "start_time": "2020-11-29T23:32:57.964764",
     "status": "completed"
    },
    "tags": []
   },
   "outputs": [],
   "source": [
    "def fe_stats(train, test):\n",
    "    \n",
    "    features_g = GENES\n",
    "    features_c = CELLS\n",
    "    \n",
    "    for df in train, test:\n",
    "        df['g_sum'] = df[features_g].sum(axis = 1)\n",
    "        df['g_mean'] = df[features_g].mean(axis = 1)\n",
    "        df['g_std'] = df[features_g].std(axis = 1)\n",
    "        df['g_kurt'] = df[features_g].kurtosis(axis = 1)\n",
    "        df['g_skew'] = df[features_g].skew(axis = 1)\n",
    "        df['c_sum'] = df[features_c].sum(axis = 1)\n",
    "        df['c_mean'] = df[features_c].mean(axis = 1)\n",
    "        df['c_std'] = df[features_c].std(axis = 1)\n",
    "        df['c_kurt'] = df[features_c].kurtosis(axis = 1)\n",
    "        df['c_skew'] = df[features_c].skew(axis = 1)\n",
    "        df['gc_sum'] = df[features_g + features_c].sum(axis = 1)\n",
    "        df['gc_mean'] = df[features_g + features_c].mean(axis = 1)\n",
    "        df['gc_std'] = df[features_g + features_c].std(axis = 1)\n",
    "        df['gc_kurt'] = df[features_g + features_c].kurtosis(axis = 1)\n",
    "        df['gc_skew'] = df[features_g + features_c].skew(axis = 1)\n",
    "        \n",
    "        df['c52_c42'] = df['c-52'] * df['c-42']\n",
    "        df['c13_c73'] = df['c-13'] * df['c-73']\n",
    "        df['c26_c13'] = df['c-26'] * df['c-13']\n",
    "        df['c33_c6'] = df['c-33'] * df['c-6']\n",
    "        df['c11_c55'] = df['c-11'] * df['c-55']\n",
    "        df['c38_c63'] = df['c-38'] * df['c-63']\n",
    "        df['c38_c94'] = df['c-38'] * df['c-94']\n",
    "        df['c13_c94'] = df['c-13'] * df['c-94']\n",
    "        df['c4_c52'] = df['c-4'] * df['c-52']\n",
    "        df['c4_c42'] = df['c-4'] * df['c-42']\n",
    "        df['c13_c38'] = df['c-13'] * df['c-38']\n",
    "        df['c55_c2'] = df['c-55'] * df['c-2']\n",
    "        df['c55_c4'] = df['c-55'] * df['c-4']\n",
    "        df['c4_c13'] = df['c-4'] * df['c-13']\n",
    "        df['c82_c42'] = df['c-82'] * df['c-42']\n",
    "        df['c66_c42'] = df['c-66'] * df['c-42']\n",
    "        df['c6_c38'] = df['c-6'] * df['c-38']\n",
    "        df['c2_c13'] = df['c-2'] * df['c-13']\n",
    "        df['c62_c42'] = df['c-62'] * df['c-42']\n",
    "        df['c90_c55'] = df['c-90'] * df['c-55']\n",
    "        \n",
    "        \n",
    "        for feature in features_c:\n",
    "             df[f'{feature}_squared'] = df[feature] ** 2     \n",
    "                \n",
    "        for feature in gsquarecols:\n",
    "            df[f'{feature}_squared'] = df[feature] ** 2        \n",
    "        \n",
    "    return train, test\n",
    "\n",
    "train_features2,test_features2=fe_stats(train_features2,test_features2)"
   ]
  },
  {
   "cell_type": "code",
   "execution_count": 22,
   "metadata": {
    "execution": {
     "iopub.execute_input": "2020-11-29T23:33:01.813267Z",
     "iopub.status.busy": "2020-11-29T23:33:01.812608Z",
     "iopub.status.idle": "2020-11-29T23:33:01.817299Z",
     "shell.execute_reply": "2020-11-29T23:33:01.816491Z"
    },
    "papermill": {
     "duration": 0.117997,
     "end_time": "2020-11-29T23:33:01.817450",
     "exception": false,
     "start_time": "2020-11-29T23:33:01.699453",
     "status": "completed"
    },
    "tags": []
   },
   "outputs": [],
   "source": [
    "train_features_stats=train_features2.iloc[:,902:]\n",
    "test_features_stats=test_features2.iloc[:,902:]"
   ]
  },
  {
   "cell_type": "code",
   "execution_count": 23,
   "metadata": {
    "execution": {
     "iopub.execute_input": "2020-11-29T23:33:01.995178Z",
     "iopub.status.busy": "2020-11-29T23:33:01.994376Z",
     "iopub.status.idle": "2020-11-29T23:33:02.062723Z",
     "shell.execute_reply": "2020-11-29T23:33:02.063361Z"
    },
    "papermill": {
     "duration": 0.161269,
     "end_time": "2020-11-29T23:33:02.063561",
     "exception": false,
     "start_time": "2020-11-29T23:33:01.902292",
     "status": "completed"
    },
    "tags": []
   },
   "outputs": [
    {
     "name": "stdout",
     "output_type": "stream",
     "text": [
      "train_features: (23814, 1239)\n",
      "test_features: (3982, 1239)\n"
     ]
    }
   ],
   "source": [
    "train_features = pd.concat((train_features, train_features_cluster,train_cluster_pca,train_features_stats), axis=1)\n",
    "test_features = pd.concat((test_features, test_features_cluster,test_cluster_pca,test_features_stats), axis=1)\n",
    "print('train_features: {}'.format(train_features.shape))\n",
    "print('test_features: {}'.format(test_features.shape))"
   ]
  },
  {
   "cell_type": "code",
   "execution_count": 24,
   "metadata": {
    "execution": {
     "iopub.execute_input": "2020-11-29T23:33:02.241719Z",
     "iopub.status.busy": "2020-11-29T23:33:02.240851Z",
     "iopub.status.idle": "2020-11-29T23:33:02.281959Z",
     "shell.execute_reply": "2020-11-29T23:33:02.281312Z"
    },
    "papermill": {
     "duration": 0.131669,
     "end_time": "2020-11-29T23:33:02.282072",
     "exception": false,
     "start_time": "2020-11-29T23:33:02.150403",
     "status": "completed"
    },
    "tags": []
   },
   "outputs": [],
   "source": [
    "train_features_nn = train_features.copy()\n",
    "test_features_nn = test_features.copy()"
   ]
  },
  {
   "cell_type": "code",
   "execution_count": 25,
   "metadata": {
    "execution": {
     "iopub.execute_input": "2020-11-29T23:33:02.407336Z",
     "iopub.status.busy": "2020-11-29T23:33:02.406479Z",
     "iopub.status.idle": "2020-11-29T23:33:02.847112Z",
     "shell.execute_reply": "2020-11-29T23:33:02.846562Z"
    },
    "papermill": {
     "duration": 0.507194,
     "end_time": "2020-11-29T23:33:02.847219",
     "exception": false,
     "start_time": "2020-11-29T23:33:02.340025",
     "status": "completed"
    },
    "tags": []
   },
   "outputs": [],
   "source": [
    "train = train_features.merge(train_targets_scored, on='sig_id')\n",
    "train = train[train['cp_type']!='ctl_vehicle'].reset_index(drop=True)\n",
    "test = test_features[test_features['cp_type']!='ctl_vehicle'].reset_index(drop=True)\n",
    "\n",
    "target = train[train_targets_scored.columns]"
   ]
  },
  {
   "cell_type": "code",
   "execution_count": 26,
   "metadata": {
    "execution": {
     "iopub.execute_input": "2020-11-29T23:33:03.013077Z",
     "iopub.status.busy": "2020-11-29T23:33:02.981673Z",
     "iopub.status.idle": "2020-11-29T23:33:03.026426Z",
     "shell.execute_reply": "2020-11-29T23:33:03.025882Z"
    },
    "papermill": {
     "duration": 0.123419,
     "end_time": "2020-11-29T23:33:03.026544",
     "exception": false,
     "start_time": "2020-11-29T23:33:02.903125",
     "status": "completed"
    },
    "tags": []
   },
   "outputs": [],
   "source": [
    "train = train.drop('cp_type', axis=1)\n",
    "test = test.drop('cp_type', axis=1)"
   ]
  },
  {
   "cell_type": "code",
   "execution_count": 27,
   "metadata": {
    "execution": {
     "iopub.execute_input": "2020-11-29T23:33:03.145555Z",
     "iopub.status.busy": "2020-11-29T23:33:03.144858Z",
     "iopub.status.idle": "2020-11-29T23:33:03.176585Z",
     "shell.execute_reply": "2020-11-29T23:33:03.176047Z"
    },
    "papermill": {
     "duration": 0.093461,
     "end_time": "2020-11-29T23:33:03.176696",
     "exception": false,
     "start_time": "2020-11-29T23:33:03.083235",
     "status": "completed"
    },
    "tags": []
   },
   "outputs": [
    {
     "data": {
      "text/html": [
       "<div>\n",
       "<style scoped>\n",
       "    .dataframe tbody tr th:only-of-type {\n",
       "        vertical-align: middle;\n",
       "    }\n",
       "\n",
       "    .dataframe tbody tr th {\n",
       "        vertical-align: top;\n",
       "    }\n",
       "\n",
       "    .dataframe thead th {\n",
       "        text-align: right;\n",
       "    }\n",
       "</style>\n",
       "<table border=\"1\" class=\"dataframe\">\n",
       "  <thead>\n",
       "    <tr style=\"text-align: right;\">\n",
       "      <th></th>\n",
       "      <th>sig_id</th>\n",
       "      <th>cp_time</th>\n",
       "      <th>cp_dose</th>\n",
       "      <th>g-0</th>\n",
       "      <th>g-1</th>\n",
       "      <th>g-2</th>\n",
       "      <th>g-3</th>\n",
       "      <th>g-4</th>\n",
       "      <th>g-5</th>\n",
       "      <th>g-6</th>\n",
       "      <th>...</th>\n",
       "      <th>tropomyosin_receptor_kinase_inhibitor</th>\n",
       "      <th>trpv_agonist</th>\n",
       "      <th>trpv_antagonist</th>\n",
       "      <th>tubulin_inhibitor</th>\n",
       "      <th>tyrosine_kinase_inhibitor</th>\n",
       "      <th>ubiquitin_specific_protease_inhibitor</th>\n",
       "      <th>vegfr_inhibitor</th>\n",
       "      <th>vitamin_b</th>\n",
       "      <th>vitamin_d_receptor_agonist</th>\n",
       "      <th>wnt_inhibitor</th>\n",
       "    </tr>\n",
       "  </thead>\n",
       "  <tbody>\n",
       "    <tr>\n",
       "      <th>0</th>\n",
       "      <td>id_000644bb2</td>\n",
       "      <td>24</td>\n",
       "      <td>D1</td>\n",
       "      <td>1.146806</td>\n",
       "      <td>0.902075</td>\n",
       "      <td>-0.418339</td>\n",
       "      <td>-0.961202</td>\n",
       "      <td>-0.254770</td>\n",
       "      <td>-1.021300</td>\n",
       "      <td>-1.369236</td>\n",
       "      <td>...</td>\n",
       "      <td>0</td>\n",
       "      <td>0</td>\n",
       "      <td>0</td>\n",
       "      <td>0</td>\n",
       "      <td>0</td>\n",
       "      <td>0</td>\n",
       "      <td>0</td>\n",
       "      <td>0</td>\n",
       "      <td>0</td>\n",
       "      <td>0</td>\n",
       "    </tr>\n",
       "    <tr>\n",
       "      <th>1</th>\n",
       "      <td>id_000779bfc</td>\n",
       "      <td>72</td>\n",
       "      <td>D1</td>\n",
       "      <td>0.128824</td>\n",
       "      <td>0.676862</td>\n",
       "      <td>0.274345</td>\n",
       "      <td>0.090495</td>\n",
       "      <td>1.208863</td>\n",
       "      <td>0.688965</td>\n",
       "      <td>0.316734</td>\n",
       "      <td>...</td>\n",
       "      <td>0</td>\n",
       "      <td>0</td>\n",
       "      <td>0</td>\n",
       "      <td>0</td>\n",
       "      <td>0</td>\n",
       "      <td>0</td>\n",
       "      <td>0</td>\n",
       "      <td>0</td>\n",
       "      <td>0</td>\n",
       "      <td>0</td>\n",
       "    </tr>\n",
       "    <tr>\n",
       "      <th>2</th>\n",
       "      <td>id_000a6266a</td>\n",
       "      <td>48</td>\n",
       "      <td>D1</td>\n",
       "      <td>0.790372</td>\n",
       "      <td>0.939951</td>\n",
       "      <td>1.428097</td>\n",
       "      <td>-0.121817</td>\n",
       "      <td>-0.002067</td>\n",
       "      <td>1.495091</td>\n",
       "      <td>0.238763</td>\n",
       "      <td>...</td>\n",
       "      <td>0</td>\n",
       "      <td>0</td>\n",
       "      <td>0</td>\n",
       "      <td>0</td>\n",
       "      <td>0</td>\n",
       "      <td>0</td>\n",
       "      <td>0</td>\n",
       "      <td>0</td>\n",
       "      <td>0</td>\n",
       "      <td>0</td>\n",
       "    </tr>\n",
       "    <tr>\n",
       "      <th>3</th>\n",
       "      <td>id_0015fd391</td>\n",
       "      <td>48</td>\n",
       "      <td>D1</td>\n",
       "      <td>-0.729866</td>\n",
       "      <td>-0.277163</td>\n",
       "      <td>-0.441200</td>\n",
       "      <td>0.766612</td>\n",
       "      <td>2.347817</td>\n",
       "      <td>-0.862761</td>\n",
       "      <td>-2.308829</td>\n",
       "      <td>...</td>\n",
       "      <td>0</td>\n",
       "      <td>0</td>\n",
       "      <td>0</td>\n",
       "      <td>0</td>\n",
       "      <td>0</td>\n",
       "      <td>0</td>\n",
       "      <td>0</td>\n",
       "      <td>0</td>\n",
       "      <td>0</td>\n",
       "      <td>0</td>\n",
       "    </tr>\n",
       "    <tr>\n",
       "      <th>4</th>\n",
       "      <td>id_001626bd3</td>\n",
       "      <td>72</td>\n",
       "      <td>D2</td>\n",
       "      <td>-0.444558</td>\n",
       "      <td>-0.481202</td>\n",
       "      <td>0.974729</td>\n",
       "      <td>0.977467</td>\n",
       "      <td>1.468304</td>\n",
       "      <td>-0.874772</td>\n",
       "      <td>-0.372682</td>\n",
       "      <td>...</td>\n",
       "      <td>0</td>\n",
       "      <td>0</td>\n",
       "      <td>0</td>\n",
       "      <td>0</td>\n",
       "      <td>0</td>\n",
       "      <td>0</td>\n",
       "      <td>0</td>\n",
       "      <td>0</td>\n",
       "      <td>0</td>\n",
       "      <td>0</td>\n",
       "    </tr>\n",
       "  </tbody>\n",
       "</table>\n",
       "<p>5 rows × 1444 columns</p>\n",
       "</div>"
      ],
      "text/plain": [
       "         sig_id  cp_time cp_dose       g-0       g-1       g-2       g-3  \\\n",
       "0  id_000644bb2       24      D1  1.146806  0.902075 -0.418339 -0.961202   \n",
       "1  id_000779bfc       72      D1  0.128824  0.676862  0.274345  0.090495   \n",
       "2  id_000a6266a       48      D1  0.790372  0.939951  1.428097 -0.121817   \n",
       "3  id_0015fd391       48      D1 -0.729866 -0.277163 -0.441200  0.766612   \n",
       "4  id_001626bd3       72      D2 -0.444558 -0.481202  0.974729  0.977467   \n",
       "\n",
       "        g-4       g-5       g-6  ...  tropomyosin_receptor_kinase_inhibitor  \\\n",
       "0 -0.254770 -1.021300 -1.369236  ...                                      0   \n",
       "1  1.208863  0.688965  0.316734  ...                                      0   \n",
       "2 -0.002067  1.495091  0.238763  ...                                      0   \n",
       "3  2.347817 -0.862761 -2.308829  ...                                      0   \n",
       "4  1.468304 -0.874772 -0.372682  ...                                      0   \n",
       "\n",
       "   trpv_agonist  trpv_antagonist  tubulin_inhibitor  \\\n",
       "0             0                0                  0   \n",
       "1             0                0                  0   \n",
       "2             0                0                  0   \n",
       "3             0                0                  0   \n",
       "4             0                0                  0   \n",
       "\n",
       "   tyrosine_kinase_inhibitor  ubiquitin_specific_protease_inhibitor  \\\n",
       "0                          0                                      0   \n",
       "1                          0                                      0   \n",
       "2                          0                                      0   \n",
       "3                          0                                      0   \n",
       "4                          0                                      0   \n",
       "\n",
       "   vegfr_inhibitor  vitamin_b  vitamin_d_receptor_agonist  wnt_inhibitor  \n",
       "0                0          0                           0              0  \n",
       "1                0          0                           0              0  \n",
       "2                0          0                           0              0  \n",
       "3                0          0                           0              0  \n",
       "4                0          0                           0              0  \n",
       "\n",
       "[5 rows x 1444 columns]"
      ]
     },
     "execution_count": 27,
     "metadata": {},
     "output_type": "execute_result"
    }
   ],
   "source": [
    "train.head()"
   ]
  },
  {
   "cell_type": "code",
   "execution_count": 28,
   "metadata": {
    "execution": {
     "iopub.execute_input": "2020-11-29T23:33:03.313696Z",
     "iopub.status.busy": "2020-11-29T23:33:03.312819Z",
     "iopub.status.idle": "2020-11-29T23:33:03.317181Z",
     "shell.execute_reply": "2020-11-29T23:33:03.316503Z"
    },
    "papermill": {
     "duration": 0.083115,
     "end_time": "2020-11-29T23:33:03.317323",
     "exception": false,
     "start_time": "2020-11-29T23:33:03.234208",
     "status": "completed"
    },
    "tags": []
   },
   "outputs": [],
   "source": [
    "target_cols = target.drop('sig_id', axis=1).columns.values.tolist()"
   ]
  },
  {
   "cell_type": "code",
   "execution_count": 29,
   "metadata": {
    "execution": {
     "iopub.execute_input": "2020-11-29T23:33:03.516490Z",
     "iopub.status.busy": "2020-11-29T23:33:03.515572Z",
     "iopub.status.idle": "2020-11-29T23:33:03.520866Z",
     "shell.execute_reply": "2020-11-29T23:33:03.520300Z"
    },
    "papermill": {
     "duration": 0.104414,
     "end_time": "2020-11-29T23:33:03.520978",
     "exception": false,
     "start_time": "2020-11-29T23:33:03.416564",
     "status": "completed"
    },
    "tags": []
   },
   "outputs": [],
   "source": [
    "target=target[target_cols]"
   ]
  },
  {
   "cell_type": "code",
   "execution_count": 30,
   "metadata": {
    "execution": {
     "iopub.execute_input": "2020-11-29T23:33:03.642064Z",
     "iopub.status.busy": "2020-11-29T23:33:03.641147Z",
     "iopub.status.idle": "2020-11-29T23:33:03.754040Z",
     "shell.execute_reply": "2020-11-29T23:33:03.753438Z"
    },
    "papermill": {
     "duration": 0.176005,
     "end_time": "2020-11-29T23:33:03.754145",
     "exception": false,
     "start_time": "2020-11-29T23:33:03.578140",
     "status": "completed"
    },
    "tags": []
   },
   "outputs": [],
   "source": [
    "train = pd.get_dummies(train, columns=['cp_time','cp_dose'])\n",
    "test_ = pd.get_dummies(test, columns=['cp_time','cp_dose'])"
   ]
  },
  {
   "cell_type": "code",
   "execution_count": 31,
   "metadata": {
    "execution": {
     "iopub.execute_input": "2020-11-29T23:33:03.878841Z",
     "iopub.status.busy": "2020-11-29T23:33:03.878188Z",
     "iopub.status.idle": "2020-11-29T23:33:03.881521Z",
     "shell.execute_reply": "2020-11-29T23:33:03.880869Z"
    },
    "papermill": {
     "duration": 0.070609,
     "end_time": "2020-11-29T23:33:03.881624",
     "exception": false,
     "start_time": "2020-11-29T23:33:03.811015",
     "status": "completed"
    },
    "tags": []
   },
   "outputs": [],
   "source": [
    "feature_cols = [c for c in train.columns if c not in target_cols]\n",
    "feature_cols = [c for c in feature_cols if c not in ['sig_id']]"
   ]
  },
  {
   "cell_type": "code",
   "execution_count": 32,
   "metadata": {
    "execution": {
     "iopub.execute_input": "2020-11-29T23:33:04.003387Z",
     "iopub.status.busy": "2020-11-29T23:33:04.002721Z",
     "iopub.status.idle": "2020-11-29T23:33:04.151951Z",
     "shell.execute_reply": "2020-11-29T23:33:04.152480Z"
    },
    "papermill": {
     "duration": 0.21364,
     "end_time": "2020-11-29T23:33:04.152648",
     "exception": false,
     "start_time": "2020-11-29T23:33:03.939008",
     "status": "completed"
    },
    "tags": []
   },
   "outputs": [],
   "source": [
    "train = train[feature_cols]\n",
    "test = test_[feature_cols]"
   ]
  },
  {
   "cell_type": "code",
   "execution_count": 33,
   "metadata": {
    "execution": {
     "iopub.execute_input": "2020-11-29T23:33:04.272862Z",
     "iopub.status.busy": "2020-11-29T23:33:04.272007Z",
     "iopub.status.idle": "2020-11-29T23:33:04.282545Z",
     "shell.execute_reply": "2020-11-29T23:33:04.281724Z"
    },
    "papermill": {
     "duration": 0.071898,
     "end_time": "2020-11-29T23:33:04.282678",
     "exception": false,
     "start_time": "2020-11-29T23:33:04.210780",
     "status": "completed"
    },
    "tags": []
   },
   "outputs": [],
   "source": [
    "X_test = test.values"
   ]
  },
  {
   "cell_type": "code",
   "execution_count": 34,
   "metadata": {
    "execution": {
     "iopub.execute_input": "2020-11-29T23:33:04.465550Z",
     "iopub.status.busy": "2020-11-29T23:33:04.464664Z",
     "iopub.status.idle": "2020-11-29T23:33:04.467731Z",
     "shell.execute_reply": "2020-11-29T23:33:04.467117Z"
    },
    "papermill": {
     "duration": 0.097356,
     "end_time": "2020-11-29T23:33:04.467841",
     "exception": false,
     "start_time": "2020-11-29T23:33:04.370485",
     "status": "completed"
    },
    "tags": []
   },
   "outputs": [],
   "source": [
    "class LogitsLogLoss(Metric):\n",
    "\n",
    "    def __init__(self):\n",
    "        self._name = \"logits_ll\"\n",
    "        self._maximize = False\n",
    "\n",
    "    def __call__(self, y_true, y_pred):\n",
    "        logits = 1 / (1 + np.exp(-y_pred))\n",
    "        aux = (1 - y_true) * np.log(1 - logits + 5e-5) + y_true * np.log(logits + 5e-5)\n",
    "        return np.mean(-aux)"
   ]
  },
  {
   "cell_type": "code",
   "execution_count": 35,
   "metadata": {
    "execution": {
     "iopub.execute_input": "2020-11-29T23:33:04.629865Z",
     "iopub.status.busy": "2020-11-29T23:33:04.628946Z",
     "iopub.status.idle": "2020-11-29T23:33:04.632436Z",
     "shell.execute_reply": "2020-11-29T23:33:04.631605Z"
    },
    "papermill": {
     "duration": 0.068227,
     "end_time": "2020-11-29T23:33:04.632563",
     "exception": false,
     "start_time": "2020-11-29T23:33:04.564336",
     "status": "completed"
    },
    "tags": []
   },
   "outputs": [],
   "source": [
    "MAX_EPOCH = 200\n",
    "\n",
    "tabnet_params = dict(\n",
    "    n_d = 32,\n",
    "    n_a = 32,\n",
    "    n_steps = 1,\n",
    "    gamma = 1.3,\n",
    "    lambda_sparse = 0,\n",
    "    optimizer_fn = optim.Adam,\n",
    "    optimizer_params = dict(lr = 2e-2, weight_decay = 1e-5),\n",
    "    mask_type = \"entmax\",\n",
    "    scheduler_params = dict(mode = \"min\", patience = 5, min_lr = 1e-5, factor = 0.9),\n",
    "    scheduler_fn = ReduceLROnPlateau,\n",
    "    seed = seed,\n",
    "    verbose = 10\n",
    ")"
   ]
  },
  {
   "cell_type": "code",
   "execution_count": 36,
   "metadata": {
    "execution": {
     "iopub.execute_input": "2020-11-29T23:33:04.819216Z",
     "iopub.status.busy": "2020-11-29T23:33:04.818575Z",
     "iopub.status.idle": "2020-11-29T23:33:34.888635Z",
     "shell.execute_reply": "2020-11-29T23:33:34.887782Z"
    },
    "papermill": {
     "duration": 30.169543,
     "end_time": "2020-11-29T23:33:34.888780",
     "exception": false,
     "start_time": "2020-11-29T23:33:04.719237",
     "status": "completed"
    },
    "tags": []
   },
   "outputs": [
    {
     "name": "stdout",
     "output_type": "stream",
     "text": [
      "Device used : cpu\n",
      "Device used : cpu\n",
      "Device used : cpu\n",
      "Device used : cpu\n",
      "Device used : cpu\n",
      "Device used : cpu\n",
      "Device used : cpu\n",
      "Device used : cpu\n",
      "Device used : cpu\n",
      "Device used : cpu\n",
      "Device used : cpu\n",
      "Device used : cpu\n",
      "Device used : cpu\n",
      "Device used : cpu\n",
      "Device used : cpu\n",
      "Device used : cpu\n",
      "Device used : cpu\n",
      "Device used : cpu\n",
      "Device used : cpu\n",
      "Device used : cpu\n",
      "Device used : cpu\n",
      "Device used : cpu\n",
      "Device used : cpu\n",
      "Device used : cpu\n",
      "Device used : cpu\n",
      "Device used : cpu\n",
      "Device used : cpu\n",
      "Device used : cpu\n",
      "Device used : cpu\n",
      "Device used : cpu\n",
      "Device used : cpu\n",
      "Device used : cpu\n",
      "Device used : cpu\n",
      "Device used : cpu\n",
      "Device used : cpu\n",
      "Device used : cpu\n",
      "Device used : cpu\n",
      "Device used : cpu\n",
      "Device used : cpu\n",
      "Device used : cpu\n",
      "Device used : cpu\n",
      "Device used : cpu\n",
      "Device used : cpu\n",
      "Device used : cpu\n",
      "Device used : cpu\n",
      "Device used : cpu\n",
      "Device used : cpu\n",
      "Device used : cpu\n",
      "Device used : cpu\n",
      "Device used : cpu\n",
      "Device used : cpu\n",
      "Device used : cpu\n",
      "Device used : cpu\n",
      "Device used : cpu\n",
      "Device used : cpu\n",
      "Device used : cpu\n",
      "Device used : cpu\n",
      "Device used : cpu\n",
      "Device used : cpu\n",
      "Device used : cpu\n"
     ]
    }
   ],
   "source": [
    "test_cv_preds = []\n",
    "\n",
    "NB_SPLITS = 10\n",
    "mskf = MultilabelStratifiedKFold(n_splits = NB_SPLITS, random_state = 0, shuffle = True)\n",
    "SEED = [20,21,22]\n",
    "for s in SEED:\n",
    "    tabnet_params['seed'] = s\n",
    "    for fold_nb, (train_idx, val_idx) in enumerate(mskf.split(train, target)):\n",
    "        \n",
    "        model = TabNetRegressor()\n",
    "        ### Predict on test ###\n",
    "        model.load_model(f\"../input/moa-tabnet-last-last/TabNet_seed_{s}_fold_{fold_nb+1}.zip\")\n",
    "        preds_test = model.predict(X_test)\n",
    "        test_cv_preds.append(1 / (1 + np.exp(-preds_test)))\n",
    "\n",
    "test_preds_all = np.stack(test_cv_preds)"
   ]
  },
  {
   "cell_type": "code",
   "execution_count": 37,
   "metadata": {
    "execution": {
     "iopub.execute_input": "2020-11-29T23:33:35.043595Z",
     "iopub.status.busy": "2020-11-29T23:33:35.042731Z",
     "iopub.status.idle": "2020-11-29T23:33:35.565623Z",
     "shell.execute_reply": "2020-11-29T23:33:35.566297Z"
    },
    "papermill": {
     "duration": 0.601449,
     "end_time": "2020-11-29T23:33:35.566468",
     "exception": false,
     "start_time": "2020-11-29T23:33:34.965019",
     "status": "completed"
    },
    "tags": []
   },
   "outputs": [
    {
     "data": {
      "text/html": [
       "<div>\n",
       "<style scoped>\n",
       "    .dataframe tbody tr th:only-of-type {\n",
       "        vertical-align: middle;\n",
       "    }\n",
       "\n",
       "    .dataframe tbody tr th {\n",
       "        vertical-align: top;\n",
       "    }\n",
       "\n",
       "    .dataframe thead th {\n",
       "        text-align: right;\n",
       "    }\n",
       "</style>\n",
       "<table border=\"1\" class=\"dataframe\">\n",
       "  <thead>\n",
       "    <tr style=\"text-align: right;\">\n",
       "      <th></th>\n",
       "      <th>sig_id</th>\n",
       "      <th>5-alpha_reductase_inhibitor</th>\n",
       "      <th>11-beta-hsd1_inhibitor</th>\n",
       "      <th>acat_inhibitor</th>\n",
       "      <th>acetylcholine_receptor_agonist</th>\n",
       "      <th>acetylcholine_receptor_antagonist</th>\n",
       "      <th>acetylcholinesterase_inhibitor</th>\n",
       "      <th>adenosine_receptor_agonist</th>\n",
       "      <th>adenosine_receptor_antagonist</th>\n",
       "      <th>adenylyl_cyclase_activator</th>\n",
       "      <th>...</th>\n",
       "      <th>tropomyosin_receptor_kinase_inhibitor</th>\n",
       "      <th>trpv_agonist</th>\n",
       "      <th>trpv_antagonist</th>\n",
       "      <th>tubulin_inhibitor</th>\n",
       "      <th>tyrosine_kinase_inhibitor</th>\n",
       "      <th>ubiquitin_specific_protease_inhibitor</th>\n",
       "      <th>vegfr_inhibitor</th>\n",
       "      <th>vitamin_b</th>\n",
       "      <th>vitamin_d_receptor_agonist</th>\n",
       "      <th>wnt_inhibitor</th>\n",
       "    </tr>\n",
       "  </thead>\n",
       "  <tbody>\n",
       "    <tr>\n",
       "      <th>0</th>\n",
       "      <td>id_0004d9e33</td>\n",
       "      <td>0.000998</td>\n",
       "      <td>0.001112</td>\n",
       "      <td>0.002175</td>\n",
       "      <td>0.018140</td>\n",
       "      <td>0.022352</td>\n",
       "      <td>0.004724</td>\n",
       "      <td>0.002713</td>\n",
       "      <td>0.005250</td>\n",
       "      <td>0.000301</td>\n",
       "      <td>...</td>\n",
       "      <td>0.000782</td>\n",
       "      <td>0.001127</td>\n",
       "      <td>0.004411</td>\n",
       "      <td>0.000824</td>\n",
       "      <td>0.000825</td>\n",
       "      <td>0.000607</td>\n",
       "      <td>0.000728</td>\n",
       "      <td>0.002169</td>\n",
       "      <td>0.004680</td>\n",
       "      <td>0.001845</td>\n",
       "    </tr>\n",
       "    <tr>\n",
       "      <th>1</th>\n",
       "      <td>id_001897cda</td>\n",
       "      <td>0.000456</td>\n",
       "      <td>0.000881</td>\n",
       "      <td>0.002473</td>\n",
       "      <td>0.002265</td>\n",
       "      <td>0.001158</td>\n",
       "      <td>0.001836</td>\n",
       "      <td>0.002067</td>\n",
       "      <td>0.010204</td>\n",
       "      <td>0.002481</td>\n",
       "      <td>...</td>\n",
       "      <td>0.000832</td>\n",
       "      <td>0.001989</td>\n",
       "      <td>0.004623</td>\n",
       "      <td>0.000939</td>\n",
       "      <td>0.005939</td>\n",
       "      <td>0.000592</td>\n",
       "      <td>0.007208</td>\n",
       "      <td>0.001246</td>\n",
       "      <td>0.014450</td>\n",
       "      <td>0.002966</td>\n",
       "    </tr>\n",
       "    <tr>\n",
       "      <th>2</th>\n",
       "      <td>id_002429b5b</td>\n",
       "      <td>0.000000</td>\n",
       "      <td>0.000000</td>\n",
       "      <td>0.000000</td>\n",
       "      <td>0.000000</td>\n",
       "      <td>0.000000</td>\n",
       "      <td>0.000000</td>\n",
       "      <td>0.000000</td>\n",
       "      <td>0.000000</td>\n",
       "      <td>0.000000</td>\n",
       "      <td>...</td>\n",
       "      <td>0.000000</td>\n",
       "      <td>0.000000</td>\n",
       "      <td>0.000000</td>\n",
       "      <td>0.000000</td>\n",
       "      <td>0.000000</td>\n",
       "      <td>0.000000</td>\n",
       "      <td>0.000000</td>\n",
       "      <td>0.000000</td>\n",
       "      <td>0.000000</td>\n",
       "      <td>0.000000</td>\n",
       "    </tr>\n",
       "    <tr>\n",
       "      <th>3</th>\n",
       "      <td>id_00276f245</td>\n",
       "      <td>0.000769</td>\n",
       "      <td>0.000968</td>\n",
       "      <td>0.001695</td>\n",
       "      <td>0.008193</td>\n",
       "      <td>0.015379</td>\n",
       "      <td>0.004484</td>\n",
       "      <td>0.002281</td>\n",
       "      <td>0.006167</td>\n",
       "      <td>0.000208</td>\n",
       "      <td>...</td>\n",
       "      <td>0.000562</td>\n",
       "      <td>0.001871</td>\n",
       "      <td>0.002127</td>\n",
       "      <td>0.011956</td>\n",
       "      <td>0.004394</td>\n",
       "      <td>0.000583</td>\n",
       "      <td>0.001514</td>\n",
       "      <td>0.001550</td>\n",
       "      <td>0.000551</td>\n",
       "      <td>0.001506</td>\n",
       "    </tr>\n",
       "    <tr>\n",
       "      <th>4</th>\n",
       "      <td>id_0027f1083</td>\n",
       "      <td>0.001507</td>\n",
       "      <td>0.001374</td>\n",
       "      <td>0.001462</td>\n",
       "      <td>0.016904</td>\n",
       "      <td>0.022339</td>\n",
       "      <td>0.004985</td>\n",
       "      <td>0.004092</td>\n",
       "      <td>0.002954</td>\n",
       "      <td>0.000563</td>\n",
       "      <td>...</td>\n",
       "      <td>0.000732</td>\n",
       "      <td>0.000714</td>\n",
       "      <td>0.002820</td>\n",
       "      <td>0.001270</td>\n",
       "      <td>0.001390</td>\n",
       "      <td>0.000703</td>\n",
       "      <td>0.001070</td>\n",
       "      <td>0.002063</td>\n",
       "      <td>0.000389</td>\n",
       "      <td>0.001780</td>\n",
       "    </tr>\n",
       "  </tbody>\n",
       "</table>\n",
       "<p>5 rows × 207 columns</p>\n",
       "</div>"
      ],
      "text/plain": [
       "         sig_id  5-alpha_reductase_inhibitor  11-beta-hsd1_inhibitor  \\\n",
       "0  id_0004d9e33                     0.000998                0.001112   \n",
       "1  id_001897cda                     0.000456                0.000881   \n",
       "2  id_002429b5b                     0.000000                0.000000   \n",
       "3  id_00276f245                     0.000769                0.000968   \n",
       "4  id_0027f1083                     0.001507                0.001374   \n",
       "\n",
       "   acat_inhibitor  acetylcholine_receptor_agonist  \\\n",
       "0        0.002175                        0.018140   \n",
       "1        0.002473                        0.002265   \n",
       "2        0.000000                        0.000000   \n",
       "3        0.001695                        0.008193   \n",
       "4        0.001462                        0.016904   \n",
       "\n",
       "   acetylcholine_receptor_antagonist  acetylcholinesterase_inhibitor  \\\n",
       "0                           0.022352                        0.004724   \n",
       "1                           0.001158                        0.001836   \n",
       "2                           0.000000                        0.000000   \n",
       "3                           0.015379                        0.004484   \n",
       "4                           0.022339                        0.004985   \n",
       "\n",
       "   adenosine_receptor_agonist  adenosine_receptor_antagonist  \\\n",
       "0                    0.002713                       0.005250   \n",
       "1                    0.002067                       0.010204   \n",
       "2                    0.000000                       0.000000   \n",
       "3                    0.002281                       0.006167   \n",
       "4                    0.004092                       0.002954   \n",
       "\n",
       "   adenylyl_cyclase_activator  ...  tropomyosin_receptor_kinase_inhibitor  \\\n",
       "0                    0.000301  ...                               0.000782   \n",
       "1                    0.002481  ...                               0.000832   \n",
       "2                    0.000000  ...                               0.000000   \n",
       "3                    0.000208  ...                               0.000562   \n",
       "4                    0.000563  ...                               0.000732   \n",
       "\n",
       "   trpv_agonist  trpv_antagonist  tubulin_inhibitor  \\\n",
       "0      0.001127         0.004411           0.000824   \n",
       "1      0.001989         0.004623           0.000939   \n",
       "2      0.000000         0.000000           0.000000   \n",
       "3      0.001871         0.002127           0.011956   \n",
       "4      0.000714         0.002820           0.001270   \n",
       "\n",
       "   tyrosine_kinase_inhibitor  ubiquitin_specific_protease_inhibitor  \\\n",
       "0                   0.000825                               0.000607   \n",
       "1                   0.005939                               0.000592   \n",
       "2                   0.000000                               0.000000   \n",
       "3                   0.004394                               0.000583   \n",
       "4                   0.001390                               0.000703   \n",
       "\n",
       "   vegfr_inhibitor  vitamin_b  vitamin_d_receptor_agonist  wnt_inhibitor  \n",
       "0         0.000728   0.002169                    0.004680       0.001845  \n",
       "1         0.007208   0.001246                    0.014450       0.002966  \n",
       "2         0.000000   0.000000                    0.000000       0.000000  \n",
       "3         0.001514   0.001550                    0.000551       0.001506  \n",
       "4         0.001070   0.002063                    0.000389       0.001780  \n",
       "\n",
       "[5 rows x 207 columns]"
      ]
     },
     "execution_count": 37,
     "metadata": {},
     "output_type": "execute_result"
    }
   ],
   "source": [
    "all_feat = [col for col in df.columns if col not in [\"sig_id\"]]\n",
    "# To obtain the same lenght of test_preds_all and submission\n",
    "test = pd.read_csv(\"../input/lish-moa/test_features.csv\")\n",
    "sig_id = test[test[\"cp_type\"] != \"ctl_vehicle\"].sig_id.reset_index(drop = True)\n",
    "tmp = pd.DataFrame(test_preds_all.mean(axis = 0), columns = all_feat)\n",
    "tmp[\"sig_id\"] = sig_id\n",
    "\n",
    "submission1 = pd.merge(test[[\"sig_id\"]], tmp, on = \"sig_id\", how = \"left\")\n",
    "submission1.fillna(0, inplace = True)\n",
    "#submission1.to_csv(\"submission.csv\", index = None)\n",
    "submission1.head()"
   ]
  },
  {
   "cell_type": "code",
   "execution_count": 38,
   "metadata": {
    "execution": {
     "iopub.execute_input": "2020-11-29T23:33:35.713239Z",
     "iopub.status.busy": "2020-11-29T23:33:35.712608Z",
     "iopub.status.idle": "2020-11-29T23:33:35.716707Z",
     "shell.execute_reply": "2020-11-29T23:33:35.716101Z"
    },
    "papermill": {
     "duration": 0.079879,
     "end_time": "2020-11-29T23:33:35.716853",
     "exception": false,
     "start_time": "2020-11-29T23:33:35.636974",
     "status": "completed"
    },
    "tags": []
   },
   "outputs": [
    {
     "name": "stdout",
     "output_type": "stream",
     "text": [
      "\u001b[34msubmission1.shape: \u001b[31m(3982, 207)\n"
     ]
    }
   ],
   "source": [
    "print(f\"{b_}submission1.shape: {r_}{submission1.shape}\")"
   ]
  },
  {
   "cell_type": "markdown",
   "metadata": {
    "papermill": {
     "duration": 0.129408,
     "end_time": "2020-11-29T23:33:36.416763",
     "exception": false,
     "start_time": "2020-11-29T23:33:36.287355",
     "status": "completed"
    },
    "tags": []
   },
   "source": [
    "# **NN Model**"
   ]
  },
  {
   "cell_type": "code",
   "execution_count": 42,
   "metadata": {
    "execution": {
     "iopub.execute_input": "2020-11-29T23:33:36.643753Z",
     "iopub.status.busy": "2020-11-29T23:33:36.642928Z",
     "iopub.status.idle": "2020-11-29T23:33:36.647592Z",
     "shell.execute_reply": "2020-11-29T23:33:36.646068Z"
    },
    "papermill": {
     "duration": 0.120103,
     "end_time": "2020-11-29T23:33:36.647773",
     "exception": false,
     "start_time": "2020-11-29T23:33:36.527670",
     "status": "completed"
    },
    "tags": []
   },
   "outputs": [
    {
     "name": "stdout",
     "output_type": "stream",
     "text": [
      "train_features: (23814, 1239)\n",
      "test_features: (3982, 1239)\n"
     ]
    }
   ],
   "source": [
    "train_features = train_features_nn\n",
    "test_features = test_features_nn\n",
    "print('train_features: {}'.format(train_features.shape))\n",
    "print('test_features: {}'.format(test_features.shape))"
   ]
  },
  {
   "cell_type": "code",
   "execution_count": 43,
   "metadata": {
    "execution": {
     "iopub.execute_input": "2020-11-29T23:33:36.801763Z",
     "iopub.status.busy": "2020-11-29T23:33:36.801149Z",
     "iopub.status.idle": "2020-11-29T23:33:37.480329Z",
     "shell.execute_reply": "2020-11-29T23:33:37.479545Z"
    },
    "papermill": {
     "duration": 0.759524,
     "end_time": "2020-11-29T23:33:37.480528",
     "exception": false,
     "start_time": "2020-11-29T23:33:36.721004",
     "status": "completed"
    },
    "tags": []
   },
   "outputs": [],
   "source": [
    "train = train_features.merge(train_targets_scored, on='sig_id')\n",
    "train = train.merge(train_targets_nonscored, on='sig_id')\n",
    "train = train.merge(train_drug, on='sig_id')\n",
    "train = train[train['cp_type'] != 'ctl_vehicle'].reset_index(drop=True)\n",
    "test = test_features[test_features['cp_type'] != 'ctl_vehicle'].reset_index(drop=True)"
   ]
  },
  {
   "cell_type": "code",
   "execution_count": 44,
   "metadata": {
    "execution": {
     "iopub.execute_input": "2020-11-29T23:33:37.657575Z",
     "iopub.status.busy": "2020-11-29T23:33:37.656718Z",
     "iopub.status.idle": "2020-11-29T23:33:37.744336Z",
     "shell.execute_reply": "2020-11-29T23:33:37.743750Z"
    },
    "papermill": {
     "duration": 0.173494,
     "end_time": "2020-11-29T23:33:37.744473",
     "exception": false,
     "start_time": "2020-11-29T23:33:37.570979",
     "status": "completed"
    },
    "tags": []
   },
   "outputs": [
    {
     "data": {
      "text/html": [
       "<div>\n",
       "<style scoped>\n",
       "    .dataframe tbody tr th:only-of-type {\n",
       "        vertical-align: middle;\n",
       "    }\n",
       "\n",
       "    .dataframe tbody tr th {\n",
       "        vertical-align: top;\n",
       "    }\n",
       "\n",
       "    .dataframe thead th {\n",
       "        text-align: right;\n",
       "    }\n",
       "</style>\n",
       "<table border=\"1\" class=\"dataframe\">\n",
       "  <thead>\n",
       "    <tr style=\"text-align: right;\">\n",
       "      <th></th>\n",
       "      <th>sig_id</th>\n",
       "      <th>cp_time</th>\n",
       "      <th>cp_dose</th>\n",
       "      <th>g-0</th>\n",
       "      <th>g-1</th>\n",
       "      <th>g-2</th>\n",
       "      <th>g-3</th>\n",
       "      <th>g-4</th>\n",
       "      <th>g-5</th>\n",
       "      <th>g-6</th>\n",
       "      <th>...</th>\n",
       "      <th>vesicular_monoamine_transporter_inhibitor</th>\n",
       "      <th>vitamin_k_antagonist</th>\n",
       "      <th>voltage-gated_calcium_channel_ligand</th>\n",
       "      <th>voltage-gated_potassium_channel_activator</th>\n",
       "      <th>voltage-gated_sodium_channel_blocker</th>\n",
       "      <th>wdr5_mll_interaction_inhibitor</th>\n",
       "      <th>wnt_agonist</th>\n",
       "      <th>xanthine_oxidase_inhibitor</th>\n",
       "      <th>xiap_inhibitor</th>\n",
       "      <th>drug_id</th>\n",
       "    </tr>\n",
       "  </thead>\n",
       "  <tbody>\n",
       "    <tr>\n",
       "      <th>0</th>\n",
       "      <td>id_000644bb2</td>\n",
       "      <td>24</td>\n",
       "      <td>D1</td>\n",
       "      <td>1.146806</td>\n",
       "      <td>0.902075</td>\n",
       "      <td>-0.418339</td>\n",
       "      <td>-0.961202</td>\n",
       "      <td>-0.254770</td>\n",
       "      <td>-1.021300</td>\n",
       "      <td>-1.369236</td>\n",
       "      <td>...</td>\n",
       "      <td>0</td>\n",
       "      <td>0</td>\n",
       "      <td>0</td>\n",
       "      <td>0</td>\n",
       "      <td>0</td>\n",
       "      <td>0</td>\n",
       "      <td>0</td>\n",
       "      <td>0</td>\n",
       "      <td>0</td>\n",
       "      <td>b68db1d53</td>\n",
       "    </tr>\n",
       "    <tr>\n",
       "      <th>1</th>\n",
       "      <td>id_000779bfc</td>\n",
       "      <td>72</td>\n",
       "      <td>D1</td>\n",
       "      <td>0.128824</td>\n",
       "      <td>0.676862</td>\n",
       "      <td>0.274345</td>\n",
       "      <td>0.090495</td>\n",
       "      <td>1.208863</td>\n",
       "      <td>0.688965</td>\n",
       "      <td>0.316734</td>\n",
       "      <td>...</td>\n",
       "      <td>0</td>\n",
       "      <td>0</td>\n",
       "      <td>0</td>\n",
       "      <td>0</td>\n",
       "      <td>0</td>\n",
       "      <td>0</td>\n",
       "      <td>0</td>\n",
       "      <td>0</td>\n",
       "      <td>0</td>\n",
       "      <td>df89a8e5a</td>\n",
       "    </tr>\n",
       "    <tr>\n",
       "      <th>2</th>\n",
       "      <td>id_000a6266a</td>\n",
       "      <td>48</td>\n",
       "      <td>D1</td>\n",
       "      <td>0.790372</td>\n",
       "      <td>0.939951</td>\n",
       "      <td>1.428097</td>\n",
       "      <td>-0.121817</td>\n",
       "      <td>-0.002067</td>\n",
       "      <td>1.495091</td>\n",
       "      <td>0.238763</td>\n",
       "      <td>...</td>\n",
       "      <td>0</td>\n",
       "      <td>0</td>\n",
       "      <td>0</td>\n",
       "      <td>0</td>\n",
       "      <td>0</td>\n",
       "      <td>0</td>\n",
       "      <td>0</td>\n",
       "      <td>0</td>\n",
       "      <td>0</td>\n",
       "      <td>18bb41b2c</td>\n",
       "    </tr>\n",
       "    <tr>\n",
       "      <th>3</th>\n",
       "      <td>id_0015fd391</td>\n",
       "      <td>48</td>\n",
       "      <td>D1</td>\n",
       "      <td>-0.729866</td>\n",
       "      <td>-0.277163</td>\n",
       "      <td>-0.441200</td>\n",
       "      <td>0.766612</td>\n",
       "      <td>2.347817</td>\n",
       "      <td>-0.862761</td>\n",
       "      <td>-2.308829</td>\n",
       "      <td>...</td>\n",
       "      <td>0</td>\n",
       "      <td>0</td>\n",
       "      <td>0</td>\n",
       "      <td>0</td>\n",
       "      <td>0</td>\n",
       "      <td>0</td>\n",
       "      <td>0</td>\n",
       "      <td>0</td>\n",
       "      <td>0</td>\n",
       "      <td>8c7f86626</td>\n",
       "    </tr>\n",
       "    <tr>\n",
       "      <th>4</th>\n",
       "      <td>id_001626bd3</td>\n",
       "      <td>72</td>\n",
       "      <td>D2</td>\n",
       "      <td>-0.444558</td>\n",
       "      <td>-0.481202</td>\n",
       "      <td>0.974729</td>\n",
       "      <td>0.977467</td>\n",
       "      <td>1.468304</td>\n",
       "      <td>-0.874772</td>\n",
       "      <td>-0.372682</td>\n",
       "      <td>...</td>\n",
       "      <td>0</td>\n",
       "      <td>0</td>\n",
       "      <td>0</td>\n",
       "      <td>0</td>\n",
       "      <td>0</td>\n",
       "      <td>0</td>\n",
       "      <td>0</td>\n",
       "      <td>0</td>\n",
       "      <td>0</td>\n",
       "      <td>7cbed3131</td>\n",
       "    </tr>\n",
       "  </tbody>\n",
       "</table>\n",
       "<p>5 rows × 1847 columns</p>\n",
       "</div>"
      ],
      "text/plain": [
       "         sig_id  cp_time cp_dose       g-0       g-1       g-2       g-3  \\\n",
       "0  id_000644bb2       24      D1  1.146806  0.902075 -0.418339 -0.961202   \n",
       "1  id_000779bfc       72      D1  0.128824  0.676862  0.274345  0.090495   \n",
       "2  id_000a6266a       48      D1  0.790372  0.939951  1.428097 -0.121817   \n",
       "3  id_0015fd391       48      D1 -0.729866 -0.277163 -0.441200  0.766612   \n",
       "4  id_001626bd3       72      D2 -0.444558 -0.481202  0.974729  0.977467   \n",
       "\n",
       "        g-4       g-5       g-6  ...  \\\n",
       "0 -0.254770 -1.021300 -1.369236  ...   \n",
       "1  1.208863  0.688965  0.316734  ...   \n",
       "2 -0.002067  1.495091  0.238763  ...   \n",
       "3  2.347817 -0.862761 -2.308829  ...   \n",
       "4  1.468304 -0.874772 -0.372682  ...   \n",
       "\n",
       "   vesicular_monoamine_transporter_inhibitor  vitamin_k_antagonist  \\\n",
       "0                                          0                     0   \n",
       "1                                          0                     0   \n",
       "2                                          0                     0   \n",
       "3                                          0                     0   \n",
       "4                                          0                     0   \n",
       "\n",
       "   voltage-gated_calcium_channel_ligand  \\\n",
       "0                                     0   \n",
       "1                                     0   \n",
       "2                                     0   \n",
       "3                                     0   \n",
       "4                                     0   \n",
       "\n",
       "   voltage-gated_potassium_channel_activator  \\\n",
       "0                                          0   \n",
       "1                                          0   \n",
       "2                                          0   \n",
       "3                                          0   \n",
       "4                                          0   \n",
       "\n",
       "   voltage-gated_sodium_channel_blocker  wdr5_mll_interaction_inhibitor  \\\n",
       "0                                     0                               0   \n",
       "1                                     0                               0   \n",
       "2                                     0                               0   \n",
       "3                                     0                               0   \n",
       "4                                     0                               0   \n",
       "\n",
       "   wnt_agonist  xanthine_oxidase_inhibitor  xiap_inhibitor    drug_id  \n",
       "0            0                           0               0  b68db1d53  \n",
       "1            0                           0               0  df89a8e5a  \n",
       "2            0                           0               0  18bb41b2c  \n",
       "3            0                           0               0  8c7f86626  \n",
       "4            0                           0               0  7cbed3131  \n",
       "\n",
       "[5 rows x 1847 columns]"
      ]
     },
     "execution_count": 44,
     "metadata": {},
     "output_type": "execute_result"
    }
   ],
   "source": [
    "train = train.drop('cp_type', axis=1)\n",
    "test = test.drop('cp_type', axis=1)\n",
    "train.head()"
   ]
  },
  {
   "cell_type": "code",
   "execution_count": 45,
   "metadata": {
    "execution": {
     "iopub.execute_input": "2020-11-29T23:33:37.907169Z",
     "iopub.status.busy": "2020-11-29T23:33:37.906246Z",
     "iopub.status.idle": "2020-11-29T23:33:37.910948Z",
     "shell.execute_reply": "2020-11-29T23:33:37.910370Z"
    },
    "papermill": {
     "duration": 0.090158,
     "end_time": "2020-11-29T23:33:37.911051",
     "exception": false,
     "start_time": "2020-11-29T23:33:37.820893",
     "status": "completed"
    },
    "tags": []
   },
   "outputs": [
    {
     "name": "stdout",
     "output_type": "stream",
     "text": [
      "num_targets: 206\n",
      "num_aux_targets: 402\n",
      "num_all_targets: 608\n"
     ]
    }
   ],
   "source": [
    "target_cols = [x for x in train_targets_scored.columns if x != 'sig_id']\n",
    "aux_target_cols = [x for x in train_targets_nonscored.columns if x != 'sig_id']\n",
    "all_target_cols = target_cols + aux_target_cols\n",
    "\n",
    "num_targets = len(target_cols)\n",
    "num_aux_targets = len(aux_target_cols)\n",
    "num_all_targets = len(all_target_cols)\n",
    "\n",
    "print('num_targets: {}'.format(num_targets))\n",
    "print('num_aux_targets: {}'.format(num_aux_targets))\n",
    "print('num_all_targets: {}'.format(num_all_targets))"
   ]
  },
  {
   "cell_type": "code",
   "execution_count": 46,
   "metadata": {
    "execution": {
     "iopub.execute_input": "2020-11-29T23:33:38.065137Z",
     "iopub.status.busy": "2020-11-29T23:33:38.064254Z",
     "iopub.status.idle": "2020-11-29T23:33:38.068863Z",
     "shell.execute_reply": "2020-11-29T23:33:38.068121Z"
    },
    "papermill": {
     "duration": 0.085026,
     "end_time": "2020-11-29T23:33:38.069000",
     "exception": false,
     "start_time": "2020-11-29T23:33:37.983974",
     "status": "completed"
    },
    "tags": []
   },
   "outputs": [
    {
     "name": "stdout",
     "output_type": "stream",
     "text": [
      "(21948, 1847)\n",
      "(3624, 1238)\n"
     ]
    }
   ],
   "source": [
    "print(train.shape)\n",
    "print(test.shape)"
   ]
  },
  {
   "cell_type": "code",
   "execution_count": 47,
   "metadata": {
    "execution": {
     "iopub.execute_input": "2020-11-29T23:33:38.225170Z",
     "iopub.status.busy": "2020-11-29T23:33:38.224211Z",
     "iopub.status.idle": "2020-11-29T23:33:38.229037Z",
     "shell.execute_reply": "2020-11-29T23:33:38.228526Z"
    },
    "papermill": {
     "duration": 0.08556,
     "end_time": "2020-11-29T23:33:38.229143",
     "exception": false,
     "start_time": "2020-11-29T23:33:38.143583",
     "status": "completed"
    },
    "tags": []
   },
   "outputs": [],
   "source": [
    "SEED_VALUE = 42\n",
    "\n",
    "def seed_everything(seed=42):\n",
    "    random.seed(seed)\n",
    "    os.environ['PYTHONHASHSEED'] = str(seed)\n",
    "    np.random.seed(seed)\n",
    "    torch.manual_seed(seed)\n",
    "    torch.cuda.manual_seed(seed)\n",
    "    torch.backends.cudnn.deterministic = True\n",
    "    \n",
    "seed_everything(seed=SEED_VALUE)"
   ]
  },
  {
   "cell_type": "code",
   "execution_count": 48,
   "metadata": {
    "execution": {
     "iopub.execute_input": "2020-11-29T23:33:38.406987Z",
     "iopub.status.busy": "2020-11-29T23:33:38.406502Z",
     "iopub.status.idle": "2020-11-29T23:33:38.410852Z",
     "shell.execute_reply": "2020-11-29T23:33:38.410214Z"
    },
    "papermill": {
     "duration": 0.082839,
     "end_time": "2020-11-29T23:33:38.410966",
     "exception": false,
     "start_time": "2020-11-29T23:33:38.328127",
     "status": "completed"
    },
    "tags": []
   },
   "outputs": [],
   "source": [
    "'''class MoADataset:\n",
    "    def __init__(self, features, targets):\n",
    "        self.features = features\n",
    "        self.targets = targets\n",
    "        \n",
    "    def __len__(self):\n",
    "        return (self.features.shape[0])\n",
    "    \n",
    "    def __getitem__(self, idx):\n",
    "        dct = {\n",
    "            'x' : torch.tensor(self.features[idx, :], dtype=torch.float),\n",
    "            'y' : torch.tensor(self.targets[idx, :], dtype=torch.float)\n",
    "        }\n",
    "        \n",
    "        return dct'''\n",
    "    \n",
    "class TestDataset:\n",
    "    def __init__(self, features):\n",
    "        self.features = features\n",
    "        \n",
    "    def __len__(self):\n",
    "        return (self.features.shape[0])\n",
    "    \n",
    "    def __getitem__(self, idx):\n",
    "        dct = {\n",
    "            'x' : torch.tensor(self.features[idx, :], dtype=torch.float)\n",
    "        }\n",
    "\n",
    "        return dct"
   ]
  },
  {
   "cell_type": "code",
   "execution_count": 49,
   "metadata": {
    "execution": {
     "iopub.execute_input": "2020-11-29T23:33:38.570919Z",
     "iopub.status.busy": "2020-11-29T23:33:38.570238Z",
     "iopub.status.idle": "2020-11-29T23:33:38.573779Z",
     "shell.execute_reply": "2020-11-29T23:33:38.573222Z"
    },
    "papermill": {
     "duration": 0.086808,
     "end_time": "2020-11-29T23:33:38.573882",
     "exception": false,
     "start_time": "2020-11-29T23:33:38.487074",
     "status": "completed"
    },
    "tags": []
   },
   "outputs": [],
   "source": [
    "'''def train_fn(model, optimizer, scheduler, loss_fn, dataloader, device):\n",
    "    model.train()\n",
    "    final_loss = 0\n",
    "    \n",
    "    for data in dataloader:\n",
    "        optimizer.zero_grad()\n",
    "        inputs, targets = data['x'].to(device), data['y'].to(device)\n",
    "        outputs = model(inputs)\n",
    "        loss = loss_fn(outputs, targets)\n",
    "        loss.backward()\n",
    "        optimizer.step()\n",
    "        scheduler.step()\n",
    "\n",
    "        final_loss += loss.item()\n",
    "        \n",
    "    final_loss /= len(dataloader)\n",
    "    return final_loss\n",
    "\n",
    "def valid_fn(model, loss_fn, dataloader, device):\n",
    "    model.eval()\n",
    "    final_loss = 0\n",
    "    valid_preds = []\n",
    "    \n",
    "    for data in dataloader:\n",
    "        inputs, targets = data['x'].to(device), data['y'].to(device)\n",
    "        outputs = model(inputs)\n",
    "        loss = loss_fn(outputs, targets)\n",
    "\n",
    "        final_loss += loss.item()\n",
    "        valid_preds.append(outputs.sigmoid().detach().cpu().numpy())\n",
    "        \n",
    "    final_loss /= len(dataloader)\n",
    "    valid_preds = np.concatenate(valid_preds)\n",
    "    return final_loss, valid_preds'''\n",
    "\n",
    "def inference_fn(model, dataloader, device):\n",
    "    model.eval()\n",
    "    preds = []\n",
    "    \n",
    "    for data in dataloader:\n",
    "        inputs = data['x'].to(device)\n",
    "\n",
    "        with torch.no_grad():\n",
    "            outputs = model(inputs)\n",
    "        \n",
    "        preds.append(outputs.sigmoid().detach().cpu().numpy())\n",
    "        \n",
    "    preds = np.concatenate(preds)\n",
    "    return preds"
   ]
  },
  {
   "cell_type": "code",
   "execution_count": 50,
   "metadata": {
    "execution": {
     "iopub.execute_input": "2020-11-29T23:33:38.729221Z",
     "iopub.status.busy": "2020-11-29T23:33:38.728447Z",
     "iopub.status.idle": "2020-11-29T23:33:38.733971Z",
     "shell.execute_reply": "2020-11-29T23:33:38.733255Z"
    },
    "papermill": {
     "duration": 0.086803,
     "end_time": "2020-11-29T23:33:38.734080",
     "exception": false,
     "start_time": "2020-11-29T23:33:38.647277",
     "status": "completed"
    },
    "tags": []
   },
   "outputs": [
    {
     "data": {
      "text/plain": [
       "\"class SmoothBCEwLogits(_WeightedLoss):\\n    def __init__(self, weight=None, reduction='mean', smoothing=0.0):\\n        super().__init__(weight=weight, reduction=reduction)\\n        self.smoothing = smoothing\\n        self.weight = weight\\n        self.reduction = reduction\\n\\n    @staticmethod\\n    def _smooth(targets:torch.Tensor, n_labels:int, smoothing=0.0):\\n        assert 0 <= smoothing < 1\\n\\n        with torch.no_grad():\\n            targets = targets * (1.0 - smoothing) + 0.5 * smoothing\\n            \\n        return targets\\n\\n    def forward(self, inputs, targets):\\n        targets = SmoothBCEwLogits._smooth(targets, inputs.size(-1),\\n            self.smoothing)\\n        loss = F.binary_cross_entropy_with_logits(inputs, targets,self.weight)\\n\\n        if  self.reduction == 'sum':\\n            loss = loss.sum()\\n        elif  self.reduction == 'mean':\\n            loss = loss.mean()\\n\\n        return loss\""
      ]
     },
     "execution_count": 50,
     "metadata": {},
     "output_type": "execute_result"
    }
   ],
   "source": [
    "'''class SmoothBCEwLogits(_WeightedLoss):\n",
    "    def __init__(self, weight=None, reduction='mean', smoothing=0.0):\n",
    "        super().__init__(weight=weight, reduction=reduction)\n",
    "        self.smoothing = smoothing\n",
    "        self.weight = weight\n",
    "        self.reduction = reduction\n",
    "\n",
    "    @staticmethod\n",
    "    def _smooth(targets:torch.Tensor, n_labels:int, smoothing=0.0):\n",
    "        assert 0 <= smoothing < 1\n",
    "\n",
    "        with torch.no_grad():\n",
    "            targets = targets * (1.0 - smoothing) + 0.5 * smoothing\n",
    "            \n",
    "        return targets\n",
    "\n",
    "    def forward(self, inputs, targets):\n",
    "        targets = SmoothBCEwLogits._smooth(targets, inputs.size(-1),\n",
    "            self.smoothing)\n",
    "        loss = F.binary_cross_entropy_with_logits(inputs, targets,self.weight)\n",
    "\n",
    "        if  self.reduction == 'sum':\n",
    "            loss = loss.sum()\n",
    "        elif  self.reduction == 'mean':\n",
    "            loss = loss.mean()\n",
    "\n",
    "        return loss'''"
   ]
  },
  {
   "cell_type": "code",
   "execution_count": 51,
   "metadata": {
    "execution": {
     "iopub.execute_input": "2020-11-29T23:33:38.906011Z",
     "iopub.status.busy": "2020-11-29T23:33:38.898240Z",
     "iopub.status.idle": "2020-11-29T23:33:38.911671Z",
     "shell.execute_reply": "2020-11-29T23:33:38.910909Z"
    },
    "papermill": {
     "duration": 0.102631,
     "end_time": "2020-11-29T23:33:38.911774",
     "exception": false,
     "start_time": "2020-11-29T23:33:38.809143",
     "status": "completed"
    },
    "tags": []
   },
   "outputs": [
    {
     "data": {
      "text/plain": [
       "'class LabelSmoothingLoss(nn.Module):\\n    def __init__(self, classes, smoothing=0.0, dim=-1):\\n        super(LabelSmoothingLoss, self).__init__()\\n        self.confidence = 1.0 - smoothing\\n        self.smoothing = smoothing\\n        self.cls = classes\\n        self.dim = dim\\n\\n    def forward(self, pred, target):\\n        pred = pred.log_softmax(dim=self.dim)\\n\\n        with torch.no_grad():\\n            true_dist = torch.zeros_like(pred)\\n            true_dist.fill_(self.smoothing / (self.cls - 1))\\n            true_dist.scatter_(1, target.data.unsqueeze(1), self.confidence)\\n            \\n        return torch.mean(torch.sum(-true_dist * pred, dim=self.dim)) '"
      ]
     },
     "execution_count": 51,
     "metadata": {},
     "output_type": "execute_result"
    }
   ],
   "source": [
    "class Model(nn.Module):\n",
    "    def __init__(self, num_features, num_targets):\n",
    "        super(Model, self).__init__()\n",
    "        self.hidden_size = [1500, 1250, 1000, 750]\n",
    "        self.dropout_value = [0.5, 0.35, 0.3, 0.25]\n",
    "\n",
    "        self.batch_norm1 = nn.BatchNorm1d(num_features)\n",
    "        self.dense1 = nn.Linear(num_features, self.hidden_size[0])\n",
    "        \n",
    "        self.batch_norm2 = nn.BatchNorm1d(self.hidden_size[0])\n",
    "        self.dropout2 = nn.Dropout(self.dropout_value[0])\n",
    "        self.dense2 = nn.Linear(self.hidden_size[0], self.hidden_size[1])\n",
    "\n",
    "        self.batch_norm3 = nn.BatchNorm1d(self.hidden_size[1])\n",
    "        self.dropout3 = nn.Dropout(self.dropout_value[1])\n",
    "        self.dense3 = nn.Linear(self.hidden_size[1], self.hidden_size[2])\n",
    "\n",
    "        self.batch_norm4 = nn.BatchNorm1d(self.hidden_size[2])\n",
    "        self.dropout4 = nn.Dropout(self.dropout_value[2])\n",
    "        self.dense4 = nn.Linear(self.hidden_size[2], self.hidden_size[3])\n",
    "\n",
    "        self.batch_norm5 = nn.BatchNorm1d(self.hidden_size[3])\n",
    "        self.dropout5 = nn.Dropout(self.dropout_value[3])\n",
    "        self.dense5 = nn.utils.weight_norm(nn.Linear(self.hidden_size[3], num_targets))\n",
    "    \n",
    "    def forward(self, x):\n",
    "        x = self.batch_norm1(x)\n",
    "        x = F.leaky_relu(self.dense1(x))\n",
    "        \n",
    "        x = self.batch_norm2(x)\n",
    "        x = self.dropout2(x)\n",
    "        x = F.leaky_relu(self.dense2(x))\n",
    "\n",
    "        x = self.batch_norm3(x)\n",
    "        x = self.dropout3(x)\n",
    "        x = F.leaky_relu(self.dense3(x))\n",
    "\n",
    "        x = self.batch_norm4(x)\n",
    "        x = self.dropout4(x)\n",
    "        x = F.leaky_relu(self.dense4(x))\n",
    "\n",
    "        x = self.batch_norm5(x)\n",
    "        x = self.dropout5(x)\n",
    "        x = self.dense5(x)\n",
    "        return x\n",
    "    \n",
    "'''class LabelSmoothingLoss(nn.Module):\n",
    "    def __init__(self, classes, smoothing=0.0, dim=-1):\n",
    "        super(LabelSmoothingLoss, self).__init__()\n",
    "        self.confidence = 1.0 - smoothing\n",
    "        self.smoothing = smoothing\n",
    "        self.cls = classes\n",
    "        self.dim = dim\n",
    "\n",
    "    def forward(self, pred, target):\n",
    "        pred = pred.log_softmax(dim=self.dim)\n",
    "\n",
    "        with torch.no_grad():\n",
    "            true_dist = torch.zeros_like(pred)\n",
    "            true_dist.fill_(self.smoothing / (self.cls - 1))\n",
    "            true_dist.scatter_(1, target.data.unsqueeze(1), self.confidence)\n",
    "            \n",
    "        return torch.mean(torch.sum(-true_dist * pred, dim=self.dim)) ''' "
   ]
  },
  {
   "cell_type": "code",
   "execution_count": 52,
   "metadata": {
    "execution": {
     "iopub.execute_input": "2020-11-29T23:33:39.073619Z",
     "iopub.status.busy": "2020-11-29T23:33:39.073003Z",
     "iopub.status.idle": "2020-11-29T23:33:39.076477Z",
     "shell.execute_reply": "2020-11-29T23:33:39.075825Z"
    },
    "papermill": {
     "duration": 0.088716,
     "end_time": "2020-11-29T23:33:39.076574",
     "exception": false,
     "start_time": "2020-11-29T23:33:38.987858",
     "status": "completed"
    },
    "tags": []
   },
   "outputs": [],
   "source": [
    "def process_data(data):\n",
    "    data = pd.get_dummies(data, columns=['cp_time','cp_dose'])\n",
    "    return data"
   ]
  },
  {
   "cell_type": "code",
   "execution_count": 53,
   "metadata": {
    "execution": {
     "iopub.execute_input": "2020-11-29T23:33:39.232143Z",
     "iopub.status.busy": "2020-11-29T23:33:39.231253Z",
     "iopub.status.idle": "2020-11-29T23:33:39.350762Z",
     "shell.execute_reply": "2020-11-29T23:33:39.350128Z"
    },
    "papermill": {
     "duration": 0.200424,
     "end_time": "2020-11-29T23:33:39.350880",
     "exception": false,
     "start_time": "2020-11-29T23:33:39.150456",
     "status": "completed"
    },
    "tags": []
   },
   "outputs": [
    {
     "data": {
      "text/plain": [
       "1240"
      ]
     },
     "execution_count": 53,
     "metadata": {},
     "output_type": "execute_result"
    }
   ],
   "source": [
    "feature_cols = [c for c in process_data(train).columns if c not in all_target_cols]\n",
    "feature_cols = [c for c in feature_cols if c not in ['kfold', 'sig_id', 'drug_id']]\n",
    "num_features = len(feature_cols)\n",
    "num_features"
   ]
  },
  {
   "cell_type": "code",
   "execution_count": 54,
   "metadata": {
    "execution": {
     "iopub.execute_input": "2020-11-29T23:33:39.513623Z",
     "iopub.status.busy": "2020-11-29T23:33:39.512895Z",
     "iopub.status.idle": "2020-11-29T23:33:39.517138Z",
     "shell.execute_reply": "2020-11-29T23:33:39.516404Z"
    },
    "papermill": {
     "duration": 0.089325,
     "end_time": "2020-11-29T23:33:39.517278",
     "exception": false,
     "start_time": "2020-11-29T23:33:39.427953",
     "status": "completed"
    },
    "tags": []
   },
   "outputs": [],
   "source": [
    "# HyperParameters\n",
    "\n",
    "DEVICE = ('cuda' if torch.cuda.is_available() else 'cpu')\n",
    "EPOCHS = 24\n",
    "BATCH_SIZE = 128\n",
    "\n",
    "WEIGHT_DECAY = {'ALL_TARGETS': 1e-5, 'SCORED_ONLY': 3e-6}\n",
    "MAX_LR = {'ALL_TARGETS': 1e-2, 'SCORED_ONLY': 3e-3}\n",
    "DIV_FACTOR = {'ALL_TARGETS': 1e3, 'SCORED_ONLY': 1e2}\n",
    "PCT_START = 0.1"
   ]
  },
  {
   "cell_type": "code",
   "execution_count": 56,
   "metadata": {
    "execution": {
     "iopub.execute_input": "2020-11-29T23:33:39.924066Z",
     "iopub.status.busy": "2020-11-29T23:33:39.923272Z",
     "iopub.status.idle": "2020-11-29T23:33:39.927696Z",
     "shell.execute_reply": "2020-11-29T23:33:39.927068Z"
    },
    "papermill": {
     "duration": 0.088805,
     "end_time": "2020-11-29T23:33:39.927808",
     "exception": false,
     "start_time": "2020-11-29T23:33:39.839003",
     "status": "completed"
    },
    "tags": []
   },
   "outputs": [],
   "source": [
    "def run_training(fold_id, seed_id):\n",
    "    seed_everything(seed_id)\n",
    "    \n",
    "    \n",
    "    test_ = process_data(test)\n",
    "    \n",
    "\n",
    "    # Load the fine-tuned model with the best loss\n",
    "    model = Model(num_features, num_targets)\n",
    "    model.load_state_dict(torch.load(f\"../input/moa-nn-transfer-inference-33/NN Transfer Drug_id Inference 33/SCORED_ONLY_FOLD{fold_id}_.pth\",map_location='cpu'))\n",
    "    model.to(DEVICE)\n",
    "\n",
    "    #--------------------- PREDICTION---------------------\n",
    "    x_test = test_[feature_cols].values\n",
    "    testdataset = TestDataset(x_test)\n",
    "    testloader = torch.utils.data.DataLoader(testdataset, batch_size=BATCH_SIZE, shuffle=False)\n",
    "    \n",
    "    predictions = np.zeros((len(test_), num_targets))\n",
    "    predictions = inference_fn(model, testloader, DEVICE)\n",
    "    return oof, predictions"
   ]
  },
  {
   "cell_type": "code",
   "execution_count": 57,
   "metadata": {
    "execution": {
     "iopub.execute_input": "2020-11-29T23:33:40.094163Z",
     "iopub.status.busy": "2020-11-29T23:33:40.093574Z",
     "iopub.status.idle": "2020-11-29T23:33:40.097197Z",
     "shell.execute_reply": "2020-11-29T23:33:40.097728Z"
    },
    "papermill": {
     "duration": 0.093288,
     "end_time": "2020-11-29T23:33:40.097903",
     "exception": false,
     "start_time": "2020-11-29T23:33:40.004615",
     "status": "completed"
    },
    "tags": []
   },
   "outputs": [],
   "source": [
    "def run_k_fold(NFOLDS, seed_id):\n",
    "    oof = np.zeros((len(train), len(target_cols)))\n",
    "    predictions = np.zeros((len(test), len(target_cols)))\n",
    "    \n",
    "    for fold_id in range(NFOLDS):\n",
    "        oof_, pred_ = run_training(fold_id, seed_id)\n",
    "        predictions += pred_ / NFOLDS\n",
    "        oof += oof_\n",
    "        \n",
    "    return oof, predictions"
   ]
  },
  {
   "cell_type": "code",
   "execution_count": 58,
   "metadata": {
    "execution": {
     "iopub.execute_input": "2020-11-29T23:33:40.263734Z",
     "iopub.status.busy": "2020-11-29T23:33:40.263118Z",
     "iopub.status.idle": "2020-11-29T23:35:02.490536Z",
     "shell.execute_reply": "2020-11-29T23:35:02.489971Z"
    },
    "papermill": {
     "duration": 82.314052,
     "end_time": "2020-11-29T23:35:02.490653",
     "exception": false,
     "start_time": "2020-11-29T23:33:40.176601",
     "status": "completed"
    },
    "tags": []
   },
   "outputs": [],
   "source": [
    "from time import time\n",
    "\n",
    "# Averaging on multiple SEEDS\n",
    "NFOLDS = 7\n",
    "SEED = [0, 1, 2, 3, 4, 5, 6]\n",
    "oof = np.zeros((len(train), len(target_cols)))\n",
    "predictions = np.zeros((len(test), len(target_cols)))\n",
    "\n",
    "time_begin = time()\n",
    "\n",
    "for seed_id in SEED:\n",
    "    oof_, predictions_ = run_k_fold(NFOLDS, seed_id)\n",
    "    oof += oof_ / len(SEED)\n",
    "    predictions += predictions_ / len(SEED)\n",
    "\n",
    "time_diff = time() - time_begin\n",
    "\n",
    "train[target_cols] = oof\n",
    "test[target_cols] = predictions"
   ]
  },
  {
   "cell_type": "code",
   "execution_count": 59,
   "metadata": {
    "execution": {
     "iopub.execute_input": "2020-11-29T23:35:02.661717Z",
     "iopub.status.busy": "2020-11-29T23:35:02.661093Z",
     "iopub.status.idle": "2020-11-29T23:35:02.827094Z",
     "shell.execute_reply": "2020-11-29T23:35:02.826537Z"
    },
    "papermill": {
     "duration": 0.255662,
     "end_time": "2020-11-29T23:35:02.827200",
     "exception": false,
     "start_time": "2020-11-29T23:35:02.571538",
     "status": "completed"
    },
    "tags": []
   },
   "outputs": [],
   "source": [
    "valid_results = train_targets_scored.drop(columns=target_cols).merge(train[['sig_id']+target_cols], on='sig_id', how='left').fillna(0)"
   ]
  },
  {
   "cell_type": "code",
   "execution_count": 60,
   "metadata": {
    "execution": {
     "iopub.execute_input": "2020-11-29T23:35:02.991086Z",
     "iopub.status.busy": "2020-11-29T23:35:02.990478Z",
     "iopub.status.idle": "2020-11-29T23:35:03.007621Z",
     "shell.execute_reply": "2020-11-29T23:35:03.006972Z"
    },
    "papermill": {
     "duration": 0.104044,
     "end_time": "2020-11-29T23:35:03.007720",
     "exception": false,
     "start_time": "2020-11-29T23:35:02.903676",
     "status": "completed"
    },
    "tags": []
   },
   "outputs": [
    {
     "name": "stdout",
     "output_type": "stream",
     "text": [
      "\u001b[34msubmission.shape: \u001b[31m(3982, 207)\n"
     ]
    }
   ],
   "source": [
    "submission2 = df.drop(columns=target_cols).merge(test[['sig_id']+target_cols], on='sig_id', how='left').fillna(0)\n",
    "print(f\"{b_}submission.shape: {r_}{submission2.shape}\")"
   ]
  },
  {
   "cell_type": "markdown",
   "metadata": {
    "papermill": {
     "duration": 0.077186,
     "end_time": "2020-11-29T23:35:03.162339",
     "exception": false,
     "start_time": "2020-11-29T23:35:03.085153",
     "status": "completed"
    },
    "tags": []
   },
   "source": [
    "# **Resnet Model**"
   ]
  },
  {
   "cell_type": "code",
   "execution_count": 61,
   "metadata": {
    "execution": {
     "iopub.execute_input": "2020-11-29T23:35:03.326651Z",
     "iopub.status.busy": "2020-11-29T23:35:03.325974Z",
     "iopub.status.idle": "2020-11-29T23:35:08.792041Z",
     "shell.execute_reply": "2020-11-29T23:35:08.791498Z"
    },
    "papermill": {
     "duration": 5.55296,
     "end_time": "2020-11-29T23:35:08.792160",
     "exception": false,
     "start_time": "2020-11-29T23:35:03.239200",
     "status": "completed"
    },
    "tags": []
   },
   "outputs": [],
   "source": [
    "import numpy as np\n",
    "import pandas as pd \n",
    "import matplotlib.pyplot as plt\n",
    "from sklearn.model_selection import KFold\n",
    "from sklearn import preprocessing\n",
    "from sklearn.metrics import confusion_matrix\n",
    "from sklearn.feature_selection import VarianceThreshold\n",
    "from sklearn.decomposition import PCA\n",
    "from tensorflow.keras import layers,regularizers,Sequential,Model,backend,callbacks,optimizers,metrics,losses\n",
    "import tensorflow as tf\n",
    "import sys\n",
    "import json"
   ]
  },
  {
   "cell_type": "code",
   "execution_count": 62,
   "metadata": {
    "execution": {
     "iopub.execute_input": "2020-11-29T23:35:08.962468Z",
     "iopub.status.busy": "2020-11-29T23:35:08.961610Z",
     "iopub.status.idle": "2020-11-29T23:35:12.352640Z",
     "shell.execute_reply": "2020-11-29T23:35:12.351739Z"
    },
    "papermill": {
     "duration": 3.483627,
     "end_time": "2020-11-29T23:35:12.352774",
     "exception": false,
     "start_time": "2020-11-29T23:35:08.869147",
     "status": "completed"
    },
    "tags": []
   },
   "outputs": [],
   "source": [
    "# Import train data, drop sig_id, cp_type\n",
    "\n",
    "train_features = pd.read_csv('/kaggle/input/lish-moa/train_features.csv')\n",
    "non_ctl_idx = train_features.loc[train_features['cp_type']!='ctl_vehicle'].index.to_list()\n",
    "train_features = train_features.drop(['sig_id','cp_type','cp_dose','cp_time'],axis=1)\n",
    "train_targets_scored = pd.read_csv('/kaggle/input/lish-moa/train_targets_scored.csv')\n",
    "train_targets_scored = train_targets_scored.drop('sig_id',axis=1)\n",
    "labels_train = train_targets_scored.values\n",
    "\n",
    "# Drop training data with ctl vehicle\n",
    "\n",
    "train_features = train_features.iloc[non_ctl_idx]\n",
    "labels_train = labels_train[non_ctl_idx]\n",
    "\n",
    "# Import test data\n",
    "\n",
    "test_features = pd.read_csv('/kaggle/input/lish-moa/test_features.csv')\n",
    "test_features = test_features.drop(['sig_id','cp_dose','cp_time'],axis=1)\n",
    "\n",
    "# Import predictors from public kernel\n",
    "\n",
    "json_file_path = '../input/t-test-pca-rfe-logistic-regression/main_predictors.json'\n",
    "\n",
    "with open(json_file_path, 'r') as j:\n",
    "    predictors = json.loads(j.read())\n",
    "    predictors = predictors['start_predictors']"
   ]
  },
  {
   "cell_type": "code",
   "execution_count": 63,
   "metadata": {
    "execution": {
     "iopub.execute_input": "2020-11-29T23:35:12.604827Z",
     "iopub.status.busy": "2020-11-29T23:35:12.603757Z",
     "iopub.status.idle": "2020-11-29T23:35:12.607910Z",
     "shell.execute_reply": "2020-11-29T23:35:12.607218Z"
    },
    "papermill": {
     "duration": 0.136033,
     "end_time": "2020-11-29T23:35:12.608042",
     "exception": false,
     "start_time": "2020-11-29T23:35:12.472009",
     "status": "completed"
    },
    "tags": []
   },
   "outputs": [],
   "source": [
    "# Create g-mean, c-mean, genes_pca (2 components), cells_pca (all components)\n",
    "\n",
    "cs = train_features.columns.str.contains('c-')\n",
    "gs = train_features.columns.str.contains('g-')\n",
    "\n",
    "def preprocessor(train,test):\n",
    "    \n",
    "    # PCA\n",
    "    \n",
    "    n_gs = 2 # No of PCA comps to include\n",
    "    n_cs = 100 # No of PCA comps to include\n",
    "    \n",
    "    pca_cs = PCA(n_components = n_cs)\n",
    "    pca_gs = PCA(n_components = n_gs)\n",
    "\n",
    "    train_pca_gs = pca_gs.fit_transform(train[:,gs])\n",
    "    train_pca_cs = pca_cs.fit_transform(train[:,cs])\n",
    "    test_pca_gs = pca_gs.transform(test[:,gs])\n",
    "    test_pca_cs = pca_cs.transform(test[:,cs])\n",
    "    \n",
    "    # c-mean, g-mean\n",
    "    \n",
    "    train_c_mean = train[:,cs].mean(axis=1)\n",
    "    test_c_mean = test[:,cs].mean(axis=1)\n",
    "    train_g_mean = train[:,gs].mean(axis=1)\n",
    "    test_g_mean = test[:,gs].mean(axis=1)\n",
    "    \n",
    "    # Append Features\n",
    "    \n",
    "    train = np.concatenate((train,train_pca_gs,train_pca_cs,train_c_mean[:,np.newaxis]\n",
    "                            ,train_g_mean[:,np.newaxis]),axis=1)\n",
    "    test = np.concatenate((test,test_pca_gs,test_pca_cs,test_c_mean[:,np.newaxis],\n",
    "                           test_g_mean[:,np.newaxis]),axis=1)\n",
    "    \n",
    "    # Scaler for numerical values\n",
    "\n",
    "    # Scale train data\n",
    "    scaler = preprocessing.StandardScaler()\n",
    "\n",
    "    train = scaler.fit_transform(train)\n",
    "\n",
    "    # Scale Test data\n",
    "    test = scaler.transform(test)\n",
    "    \n",
    "    return train, test"
   ]
  },
  {
   "cell_type": "code",
   "execution_count": 64,
   "metadata": {
    "execution": {
     "iopub.execute_input": "2020-11-29T23:35:12.848055Z",
     "iopub.status.busy": "2020-11-29T23:35:12.847381Z",
     "iopub.status.idle": "2020-11-29T23:35:12.850803Z",
     "shell.execute_reply": "2020-11-29T23:35:12.850168Z"
    },
    "papermill": {
     "duration": 0.12617,
     "end_time": "2020-11-29T23:35:12.850921",
     "exception": false,
     "start_time": "2020-11-29T23:35:12.724751",
     "status": "completed"
    },
    "tags": []
   },
   "outputs": [],
   "source": [
    "n_labels = train_targets_scored.shape[1]\n",
    "n_train = train_features.shape[0]\n",
    "n_test = test_features.shape[0]\n",
    "\n",
    "\n",
    "# Prediction Clipping Thresholds\n",
    "\n",
    "p_min = 0.0005\n",
    "p_max = 0.9995"
   ]
  },
  {
   "cell_type": "code",
   "execution_count": 65,
   "metadata": {
    "execution": {
     "iopub.execute_input": "2020-11-29T23:35:13.029304Z",
     "iopub.status.busy": "2020-11-29T23:35:13.016555Z",
     "iopub.status.idle": "2020-11-29T23:35:13.033024Z",
     "shell.execute_reply": "2020-11-29T23:35:13.032379Z"
    },
    "papermill": {
     "duration": 0.103462,
     "end_time": "2020-11-29T23:35:13.033135",
     "exception": false,
     "start_time": "2020-11-29T23:35:12.929673",
     "status": "completed"
    },
    "tags": []
   },
   "outputs": [],
   "source": [
    "def build_model(n_features, n_features_2, n_labels, label_smoothing = 0.0005):    \n",
    "    input_1 = layers.Input(shape = (n_features,), name = 'Input1')\n",
    "    input_2 = layers.Input(shape = (n_features_2,), name = 'Input2')\n",
    "\n",
    "    head_1 = Sequential([\n",
    "        layers.BatchNormalization(),\n",
    "        layers.Dropout(0.2),\n",
    "        layers.Dense(512, activation=\"elu\"), \n",
    "        layers.BatchNormalization(),\n",
    "        layers.Dense(256, activation = \"elu\")\n",
    "        ],name='Head1') \n",
    "\n",
    "    input_3 = head_1(input_1)\n",
    "    input_3_concat = layers.Concatenate()([input_2, input_3])\n",
    "\n",
    "    head_2 = Sequential([\n",
    "        layers.BatchNormalization(),\n",
    "        layers.Dropout(0.3),\n",
    "        layers.Dense(512, \"relu\"),\n",
    "        layers.BatchNormalization(),\n",
    "        layers.Dense(512, \"elu\"),\n",
    "        layers.BatchNormalization(),\n",
    "        layers.Dense(256, \"relu\"),\n",
    "        layers.BatchNormalization(),\n",
    "        layers.Dense(256, \"elu\")\n",
    "        ],name='Head2')\n",
    "\n",
    "    input_4 = head_2(input_3_concat)\n",
    "    input_4_avg = layers.Average()([input_3, input_4]) \n",
    "\n",
    "    head_3 = Sequential([\n",
    "        layers.BatchNormalization(),\n",
    "        layers.Dense(256, kernel_initializer='lecun_normal', activation='selu'),\n",
    "        layers.BatchNormalization(),\n",
    "        layers.Dense(n_labels, kernel_initializer='lecun_normal', activation='selu'),\n",
    "        layers.BatchNormalization(),\n",
    "        layers.Dense(n_labels, activation=\"sigmoid\")\n",
    "        ],name='Head3')\n",
    "\n",
    "    output = head_3(input_4_avg)\n",
    "\n",
    "\n",
    "    model = Model(inputs = [input_1, input_2], outputs = output)\n",
    "    model.compile(optimizer='adam', loss=losses.BinaryCrossentropy(label_smoothing=label_smoothing), metrics=logloss)\n",
    "    \n",
    "    return model"
   ]
  },
  {
   "cell_type": "code",
   "execution_count": 66,
   "metadata": {
    "execution": {
     "iopub.execute_input": "2020-11-29T23:35:13.196184Z",
     "iopub.status.busy": "2020-11-29T23:35:13.195553Z",
     "iopub.status.idle": "2020-11-29T23:35:13.198866Z",
     "shell.execute_reply": "2020-11-29T23:35:13.198245Z"
    },
    "papermill": {
     "duration": 0.087686,
     "end_time": "2020-11-29T23:35:13.198974",
     "exception": false,
     "start_time": "2020-11-29T23:35:13.111288",
     "status": "completed"
    },
    "tags": []
   },
   "outputs": [],
   "source": [
    "def logloss(y_true, y_pred):\n",
    "    y_pred = tf.clip_by_value(y_pred,p_min,p_max)\n",
    "    return -backend.mean(y_true*backend.log(y_pred) + (1-y_true)*backend.log(1-y_pred))"
   ]
  },
  {
   "cell_type": "code",
   "execution_count": 67,
   "metadata": {
    "execution": {
     "iopub.execute_input": "2020-11-29T23:35:13.371879Z",
     "iopub.status.busy": "2020-11-29T23:35:13.371225Z",
     "iopub.status.idle": "2020-11-29T23:38:47.413048Z",
     "shell.execute_reply": "2020-11-29T23:38:47.412471Z"
    },
    "papermill": {
     "duration": 214.136366,
     "end_time": "2020-11-29T23:38:47.413162",
     "exception": false,
     "start_time": "2020-11-29T23:35:13.276796",
     "status": "completed"
    },
    "tags": []
   },
   "outputs": [],
   "source": [
    "n_seeds = 7\n",
    "np.random.seed(1)\n",
    "seeds = np.random.randint(0,100,size=n_seeds)\n",
    "\n",
    "# Training Loop\n",
    "\n",
    "n_folds = 10\n",
    "y_pred = np.zeros((n_test,n_labels))\n",
    "oof = tf.constant(0.0)\n",
    "hists = []\n",
    "for seed in seeds:\n",
    "    fold = 0\n",
    "    kf = KFold(n_splits=n_folds,shuffle=True,random_state=seed)\n",
    "    for train, test in kf.split(train_features):\n",
    "        X_train, X_test = preprocessor(train_features.iloc[train].values,\n",
    "                                       train_features.iloc[test].values)\n",
    "        _,data_test = preprocessor(train_features.iloc[train].values,\n",
    "                                   test_features.drop('cp_type',axis=1).values)\n",
    "        X_train_2 = train_features.iloc[train][predictors].values\n",
    "        X_test_2 = train_features.iloc[test][predictors].values\n",
    "        data_test_2 = test_features[predictors].values\n",
    "        y_train = labels_train[train]\n",
    "        y_test = labels_train[test]\n",
    "        n_features = X_train.shape[1]\n",
    "        n_features_2 = X_train_2.shape[1]\n",
    "        \n",
    "        model = build_model(n_features, n_features_2, n_labels)\n",
    "        #print('../input/moa-multi-input-resnet-model/TwoHeads_seed_'+str(seed)+'_fold_'+str(fold))\n",
    "        #save_path = '../input/moa-multi-input-resnet-model/TwoHeads_seed_'+str(seed)+'_fold_'+str(fold)\n",
    "        #print(save_path)\n",
    "        model.load_weights(f'../input/moa-2heads-resnet-model/repeat:{seed}_Fold:{fold}.hdf5')\n",
    "        \n",
    "                         \n",
    "        y_pred += model.predict([data_test,data_test_2])/(n_folds*n_seeds)\n",
    "        fold += 1\n",
    "        \n",
    "    "
   ]
  },
  {
   "cell_type": "code",
   "execution_count": 68,
   "metadata": {
    "execution": {
     "iopub.execute_input": "2020-11-29T23:38:47.579252Z",
     "iopub.status.busy": "2020-11-29T23:38:47.578604Z",
     "iopub.status.idle": "2020-11-29T23:38:47.896100Z",
     "shell.execute_reply": "2020-11-29T23:38:47.895585Z"
    },
    "papermill": {
     "duration": 0.401832,
     "end_time": "2020-11-29T23:38:47.896223",
     "exception": false,
     "start_time": "2020-11-29T23:38:47.494391",
     "status": "completed"
    },
    "tags": []
   },
   "outputs": [],
   "source": [
    "# Generate submission file, Clip Predictions\n",
    "\n",
    "sub = pd.read_csv('/kaggle/input/lish-moa/sample_submission.csv')\n",
    "sub.iloc[:,1:] = np.clip(y_pred,p_min,p_max)\n",
    "\n",
    "# Set ctl_vehicle to 0\n",
    "sub.iloc[test_features['cp_type'] == 'ctl_vehicle',1:] = 0\n",
    "\n",
    "# Save Submission\n",
    "#sub.to_csv('submission3.csv', index=False)\n",
    "\n",
    "submission3= sub"
   ]
  },
  {
   "cell_type": "code",
   "execution_count": null,
   "metadata": {
    "papermill": {
     "duration": 0.079436,
     "end_time": "2020-11-29T23:38:48.053821",
     "exception": false,
     "start_time": "2020-11-29T23:38:47.974385",
     "status": "completed"
    },
    "tags": []
   },
   "outputs": [],
   "source": []
  },
  {
   "cell_type": "markdown",
   "metadata": {
    "papermill": {
     "duration": 0.076984,
     "end_time": "2020-11-29T23:38:48.208134",
     "exception": false,
     "start_time": "2020-11-29T23:38:48.131150",
     "status": "completed"
    },
    "tags": []
   },
   "source": [
    "# **Blending**"
   ]
  },
  {
   "cell_type": "code",
   "execution_count": 69,
   "metadata": {
    "execution": {
     "iopub.execute_input": "2020-11-29T23:38:48.376195Z",
     "iopub.status.busy": "2020-11-29T23:38:48.375579Z",
     "iopub.status.idle": "2020-11-29T23:38:48.378604Z",
     "shell.execute_reply": "2020-11-29T23:38:48.377959Z"
    },
    "papermill": {
     "duration": 0.086591,
     "end_time": "2020-11-29T23:38:48.378719",
     "exception": false,
     "start_time": "2020-11-29T23:38:48.292128",
     "status": "completed"
    },
    "tags": []
   },
   "outputs": [],
   "source": [
    "def order_sub(sub) : \n",
    "    return sub.sort_values('sig_id').reset_index(drop=True)"
   ]
  },
  {
   "cell_type": "code",
   "execution_count": 70,
   "metadata": {
    "execution": {
     "iopub.execute_input": "2020-11-29T23:38:48.552869Z",
     "iopub.status.busy": "2020-11-29T23:38:48.547338Z",
     "iopub.status.idle": "2020-11-29T23:38:48.571179Z",
     "shell.execute_reply": "2020-11-29T23:38:48.570536Z"
    },
    "papermill": {
     "duration": 0.111562,
     "end_time": "2020-11-29T23:38:48.571290",
     "exception": false,
     "start_time": "2020-11-29T23:38:48.459728",
     "status": "completed"
    },
    "tags": []
   },
   "outputs": [],
   "source": [
    "df1 = order_sub(submission1)\n",
    "df2 = order_sub(submission2)\n",
    "df3 = order_sub(submission3)"
   ]
  },
  {
   "cell_type": "code",
   "execution_count": 71,
   "metadata": {
    "execution": {
     "iopub.execute_input": "2020-11-29T23:38:48.735668Z",
     "iopub.status.busy": "2020-11-29T23:38:48.734755Z",
     "iopub.status.idle": "2020-11-29T23:38:48.904969Z",
     "shell.execute_reply": "2020-11-29T23:38:48.904446Z"
    },
    "papermill": {
     "duration": 0.254751,
     "end_time": "2020-11-29T23:38:48.905082",
     "exception": false,
     "start_time": "2020-11-29T23:38:48.650331",
     "status": "completed"
    },
    "tags": []
   },
   "outputs": [],
   "source": [
    "BLEND=df1.copy()\n",
    "BLEND.iloc[:,1:] =   df1.iloc[:,1:]*0.33  + df2.iloc[:,1:]*0.34 + df3.iloc[:,1:]*0.33"
   ]
  },
  {
   "cell_type": "code",
   "execution_count": 72,
   "metadata": {
    "execution": {
     "iopub.execute_input": "2020-11-29T23:38:49.079649Z",
     "iopub.status.busy": "2020-11-29T23:38:49.073048Z",
     "iopub.status.idle": "2020-11-29T23:38:49.082964Z",
     "shell.execute_reply": "2020-11-29T23:38:49.082471Z"
    },
    "papermill": {
     "duration": 0.098851,
     "end_time": "2020-11-29T23:38:49.083073",
     "exception": false,
     "start_time": "2020-11-29T23:38:48.984222",
     "status": "completed"
    },
    "tags": []
   },
   "outputs": [],
   "source": [
    "TARGET_COL = ['5-alpha_reductase_inhibitor', '11-beta-hsd1_inhibitor', 'acat_inhibitor', 'acetylcholine_receptor_agonist', 'acetylcholine_receptor_antagonist', 'acetylcholinesterase_inhibitor', 'adenosine_receptor_agonist', 'adenosine_receptor_antagonist', 'adenylyl_cyclase_activator', 'adrenergic_receptor_agonist', 'adrenergic_receptor_antagonist', 'akt_inhibitor', 'aldehyde_dehydrogenase_inhibitor', 'alk_inhibitor', 'ampk_activator', 'analgesic', 'androgen_receptor_agonist', 'androgen_receptor_antagonist', 'anesthetic_-_local', 'angiogenesis_inhibitor', 'angiotensin_receptor_antagonist', 'anti-inflammatory', 'antiarrhythmic', 'antibiotic', 'anticonvulsant', 'antifungal', 'antihistamine', 'antimalarial', 'antioxidant', 'antiprotozoal', 'antiviral', 'apoptosis_stimulant', 'aromatase_inhibitor', 'atm_kinase_inhibitor', 'atp-sensitive_potassium_channel_antagonist', 'atp_synthase_inhibitor', 'atpase_inhibitor', 'atr_kinase_inhibitor', 'aurora_kinase_inhibitor', 'autotaxin_inhibitor', 'bacterial_30s_ribosomal_subunit_inhibitor', 'bacterial_50s_ribosomal_subunit_inhibitor', 'bacterial_antifolate', 'bacterial_cell_wall_synthesis_inhibitor', 'bacterial_dna_gyrase_inhibitor', 'bacterial_dna_inhibitor', 'bacterial_membrane_integrity_inhibitor', 'bcl_inhibitor', 'bcr-abl_inhibitor', 'benzodiazepine_receptor_agonist', 'beta_amyloid_inhibitor', 'bromodomain_inhibitor', 'btk_inhibitor', 'calcineurin_inhibitor', 'calcium_channel_blocker', 'cannabinoid_receptor_agonist', 'cannabinoid_receptor_antagonist', 'carbonic_anhydrase_inhibitor', 'casein_kinase_inhibitor', 'caspase_activator', 'catechol_o_methyltransferase_inhibitor', 'cc_chemokine_receptor_antagonist', 'cck_receptor_antagonist', 'cdk_inhibitor', 'chelating_agent', 'chk_inhibitor', 'chloride_channel_blocker', 'cholesterol_inhibitor', 'cholinergic_receptor_antagonist', 'coagulation_factor_inhibitor', 'corticosteroid_agonist', 'cyclooxygenase_inhibitor', 'cytochrome_p450_inhibitor', 'dihydrofolate_reductase_inhibitor', 'dipeptidyl_peptidase_inhibitor', 'diuretic', 'dna_alkylating_agent', 'dna_inhibitor', 'dopamine_receptor_agonist', 'dopamine_receptor_antagonist', 'egfr_inhibitor', 'elastase_inhibitor', 'erbb2_inhibitor', 'estrogen_receptor_agonist', 'estrogen_receptor_antagonist', 'faah_inhibitor', 'farnesyltransferase_inhibitor', 'fatty_acid_receptor_agonist', 'fgfr_inhibitor', 'flt3_inhibitor', 'focal_adhesion_kinase_inhibitor', 'free_radical_scavenger', 'fungal_squalene_epoxidase_inhibitor', 'gaba_receptor_agonist', 'gaba_receptor_antagonist', 'gamma_secretase_inhibitor', 'glucocorticoid_receptor_agonist', 'glutamate_inhibitor', 'glutamate_receptor_agonist', 'glutamate_receptor_antagonist', 'gonadotropin_receptor_agonist', 'gsk_inhibitor', 'hcv_inhibitor', 'hdac_inhibitor', 'histamine_receptor_agonist', 'histamine_receptor_antagonist', 'histone_lysine_demethylase_inhibitor', 'histone_lysine_methyltransferase_inhibitor', 'hiv_inhibitor', 'hmgcr_inhibitor', 'hsp_inhibitor', 'igf-1_inhibitor', 'ikk_inhibitor', 'imidazoline_receptor_agonist', 'immunosuppressant', 'insulin_secretagogue', 'insulin_sensitizer', 'integrin_inhibitor', 'jak_inhibitor', 'kit_inhibitor', 'laxative', 'leukotriene_inhibitor', 'leukotriene_receptor_antagonist', 'lipase_inhibitor', 'lipoxygenase_inhibitor', 'lxr_agonist', 'mdm_inhibitor', 'mek_inhibitor', 'membrane_integrity_inhibitor', 'mineralocorticoid_receptor_antagonist', 'monoacylglycerol_lipase_inhibitor', 'monoamine_oxidase_inhibitor', 'monopolar_spindle_1_kinase_inhibitor', 'mtor_inhibitor', 'mucolytic_agent', 'neuropeptide_receptor_antagonist', 'nfkb_inhibitor', 'nicotinic_receptor_agonist', 'nitric_oxide_donor', 'nitric_oxide_production_inhibitor', 'nitric_oxide_synthase_inhibitor', 'norepinephrine_reuptake_inhibitor', 'nrf2_activator', 'opioid_receptor_agonist', 'opioid_receptor_antagonist', 'orexin_receptor_antagonist', 'p38_mapk_inhibitor', 'p-glycoprotein_inhibitor', 'parp_inhibitor', 'pdgfr_inhibitor', 'pdk_inhibitor', 'phosphodiesterase_inhibitor', 'phospholipase_inhibitor', 'pi3k_inhibitor', 'pkc_inhibitor', 'potassium_channel_activator', 'potassium_channel_antagonist', 'ppar_receptor_agonist', 'ppar_receptor_antagonist', 'progesterone_receptor_agonist', 'progesterone_receptor_antagonist', 'prostaglandin_inhibitor', 'prostanoid_receptor_antagonist', 'proteasome_inhibitor', 'protein_kinase_inhibitor', 'protein_phosphatase_inhibitor', 'protein_synthesis_inhibitor', 'protein_tyrosine_kinase_inhibitor', 'radiopaque_medium', 'raf_inhibitor', 'ras_gtpase_inhibitor', 'retinoid_receptor_agonist', 'retinoid_receptor_antagonist', 'rho_associated_kinase_inhibitor', 'ribonucleoside_reductase_inhibitor', 'rna_polymerase_inhibitor', 'serotonin_receptor_agonist', 'serotonin_receptor_antagonist', 'serotonin_reuptake_inhibitor', 'sigma_receptor_agonist', 'sigma_receptor_antagonist', 'smoothened_receptor_antagonist', 'sodium_channel_inhibitor', 'sphingosine_receptor_agonist', 'src_inhibitor', 'steroid', 'syk_inhibitor', 'tachykinin_antagonist', 'tgf-beta_receptor_inhibitor', 'thrombin_inhibitor', 'thymidylate_synthase_inhibitor', 'tlr_agonist', 'tlr_antagonist', 'tnf_inhibitor', 'topoisomerase_inhibitor', 'transient_receptor_potential_channel_antagonist', 'tropomyosin_receptor_kinase_inhibitor', 'trpv_agonist', 'trpv_antagonist', 'tubulin_inhibitor', 'tyrosine_kinase_inhibitor', 'ubiquitin_specific_protease_inhibitor', 'vegfr_inhibitor', 'vitamin_b', 'vitamin_d_receptor_agonist', 'wnt_inhibitor']\n",
    "NUM_TARGET = len(TARGET_COL)"
   ]
  },
  {
   "cell_type": "code",
   "execution_count": 73,
   "metadata": {
    "execution": {
     "iopub.execute_input": "2020-11-29T23:38:49.251338Z",
     "iopub.status.busy": "2020-11-29T23:38:49.250731Z",
     "iopub.status.idle": "2020-11-29T23:38:53.196200Z",
     "shell.execute_reply": "2020-11-29T23:38:53.195177Z"
    },
    "papermill": {
     "duration": 4.034788,
     "end_time": "2020-11-29T23:38:53.196311",
     "exception": false,
     "start_time": "2020-11-29T23:38:49.161523",
     "status": "completed"
    },
    "tags": []
   },
   "outputs": [],
   "source": [
    "#submission = pd.read_csv('/kaggle/input/lish-moa/sample_submission.csv')\n",
    "df = pd.read_csv(\"/kaggle/input/lish-moa/sample_submission.csv\")\n",
    "\n",
    "public_id = list(df['sig_id'].values)\n",
    "\n",
    "df_test = pd.read_csv('/kaggle/input/lish-moa/test_features.csv')\n",
    "test_id = list(df_test['sig_id'].values)\n",
    "\n",
    "private_id = list(set(test_id)-set(public_id))\n",
    "\n",
    "df_submit = pd.DataFrame(index = public_id+private_id, columns=TARGET_COL)\n",
    "df_submit.index.name = 'sig_id'\n",
    "df_submit[:] = 0\n",
    "df_predict = BLEND.copy()\n",
    "df_submit.loc[df_predict.sig_id,:] = df_predict[TARGET_COL].values\n",
    "df_submit.loc[df_test[df_test.cp_type=='ctl_vehicle'].sig_id]= 0\n",
    "df_submit.to_csv('submission.csv',index=True)"
   ]
  },
  {
   "cell_type": "code",
   "execution_count": 74,
   "metadata": {
    "execution": {
     "iopub.execute_input": "2020-11-29T23:38:53.360008Z",
     "iopub.status.busy": "2020-11-29T23:38:53.359153Z",
     "iopub.status.idle": "2020-11-29T23:38:53.363683Z",
     "shell.execute_reply": "2020-11-29T23:38:53.363136Z"
    },
    "papermill": {
     "duration": 0.088521,
     "end_time": "2020-11-29T23:38:53.363788",
     "exception": false,
     "start_time": "2020-11-29T23:38:53.275267",
     "status": "completed"
    },
    "tags": []
   },
   "outputs": [
    {
     "name": "stdout",
     "output_type": "stream",
     "text": [
      "Completed\n"
     ]
    }
   ],
   "source": [
    "print('Completed')"
   ]
  },
  {
   "cell_type": "code",
   "execution_count": 75,
   "metadata": {
    "execution": {
     "iopub.execute_input": "2020-11-29T23:38:53.533446Z",
     "iopub.status.busy": "2020-11-29T23:38:53.532674Z",
     "iopub.status.idle": "2020-11-29T23:38:53.537495Z",
     "shell.execute_reply": "2020-11-29T23:38:53.537973Z"
    },
    "papermill": {
     "duration": 0.092502,
     "end_time": "2020-11-29T23:38:53.538108",
     "exception": false,
     "start_time": "2020-11-29T23:38:53.445606",
     "status": "completed"
    },
    "tags": []
   },
   "outputs": [
    {
     "data": {
      "text/plain": [
       "(3982, 206)"
      ]
     },
     "execution_count": 75,
     "metadata": {},
     "output_type": "execute_result"
    }
   ],
   "source": [
    "df_submit.shape"
   ]
  }
 ],
 "metadata": {
  "kernelspec": {
   "display_name": "Python 3",
   "language": "python",
   "name": "python3"
  },
  "language_info": {
   "codemirror_mode": {
    "name": "ipython",
    "version": 3
   },
   "file_extension": ".py",
   "mimetype": "text/x-python",
   "name": "python",
   "nbconvert_exporter": "python",
   "pygments_lexer": "ipython3",
   "version": "3.7.3"
  },
  "papermill": {
   "duration": 393.111843,
   "end_time": "2020-11-29T23:38:54.625195",
   "environment_variables": {},
   "exception": null,
   "input_path": "__notebook__.ipynb",
   "output_path": "__notebook__.ipynb",
   "parameters": {},
   "start_time": "2020-11-29T23:32:21.513352",
   "version": "2.1.0"
  }
 },
 "nbformat": 4,
 "nbformat_minor": 4
}
